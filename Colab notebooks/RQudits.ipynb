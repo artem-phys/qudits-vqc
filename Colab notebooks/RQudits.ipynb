{
  "cells": [
    {
      "cell_type": "markdown",
      "metadata": {
        "id": "XcpK_pURYSfH"
      },
      "source": [
        "# Russian Qudits"
      ]
    },
    {
      "cell_type": "markdown",
      "metadata": {
        "id": "6ny1pE5XE2zZ"
      },
      "source": [
        "<img src=\"https://rqc.ru/static/RQClogo_black_ru.png\" alt=\"drawing\" height=\"300\">"
      ]
    },
    {
      "cell_type": "markdown",
      "metadata": {
        "id": "4e61LzJNAHCj"
      },
      "source": [
        "## Annotation\n",
        "\n",
        "The following notebook shows qudits, gates and channels for variational cirquits\n",
        "\n",
        "Author: Artem Kuzmichev, Quantum Research Scientist, RQC"
      ]
    },
    {
      "cell_type": "code",
      "execution_count": null,
      "metadata": {
        "id": "T80pJYJWzzPb",
        "colab": {
          "base_uri": "https://localhost:8080/"
        },
        "outputId": "7be29cd7-613a-4730-cb05-f454e87793b0"
      },
      "outputs": [
        {
          "output_type": "stream",
          "name": "stdout",
          "text": [
            "\u001b[K     |████████████████████████████████| 66 kB 4.3 MB/s \n",
            "\u001b[K     |████████████████████████████████| 577 kB 51.4 MB/s \n",
            "\u001b[K     |████████████████████████████████| 594 kB 74.7 MB/s \n",
            "\u001b[K     |████████████████████████████████| 57 kB 6.0 MB/s \n",
            "\u001b[K     |████████████████████████████████| 1.8 MB 71.4 MB/s \n",
            "\u001b[K     |████████████████████████████████| 120 kB 79.1 MB/s \n",
            "\u001b[K     |████████████████████████████████| 221 kB 57.8 MB/s \n",
            "\u001b[K     |████████████████████████████████| 44 kB 3.2 MB/s \n",
            "\u001b[K     |████████████████████████████████| 229 kB 63.8 MB/s \n",
            "\u001b[K     |████████████████████████████████| 147 kB 67.7 MB/s \n",
            "\u001b[K     |████████████████████████████████| 84 kB 4.3 MB/s \n",
            "\u001b[K     |████████████████████████████████| 49 kB 6.6 MB/s \n",
            "\u001b[K     |████████████████████████████████| 69 kB 9.0 MB/s \n",
            "\u001b[K     |████████████████████████████████| 80 kB 10.8 MB/s \n",
            "\u001b[K     |████████████████████████████████| 58 kB 7.3 MB/s \n",
            "\u001b[K     |████████████████████████████████| 119 kB 52.5 MB/s \n",
            "\u001b[K     |████████████████████████████████| 1.6 MB 76.7 MB/s \n",
            "\u001b[K     |████████████████████████████████| 109 kB 69.0 MB/s \n",
            "\u001b[K     |████████████████████████████████| 555 kB 57.3 MB/s \n",
            "\u001b[?25h  Building wheel for lark (setup.py) ... \u001b[?25l\u001b[?25hdone\n",
            "  Building wheel for rpcq (setup.py) ... \u001b[?25l\u001b[?25hdone\n",
            "  Building wheel for msgpack (setup.py) ... \u001b[?25l\u001b[?25hdone\n"
          ]
        }
      ],
      "source": [
        "!pip install cirq --quiet --no-warn-conflicts"
      ]
    },
    {
      "cell_type": "code",
      "execution_count": null,
      "metadata": {
        "id": "S3M8MMRtS8Ke"
      },
      "outputs": [],
      "source": [
        "import random\n",
        "import sympy\n",
        "import numpy as np\n",
        "\n",
        "import cirq\n",
        "from cirq.contrib.svg import SVGCircuit"
      ]
    },
    {
      "cell_type": "markdown",
      "source": [
        "## My qudit library\n"
      ],
      "metadata": {
        "id": "llo54Pmd8tWD"
      }
    },
    {
      "cell_type": "code",
      "source": [
        "from google.colab import drive\n",
        "drive.mount('/content/drive')"
      ],
      "metadata": {
        "id": "ApieLCnc8vxy",
        "colab": {
          "base_uri": "https://localhost:8080/"
        },
        "outputId": "a7c83246-9e7d-4f56-ce39-c097b84eb7b1"
      },
      "execution_count": null,
      "outputs": [
        {
          "output_type": "stream",
          "name": "stdout",
          "text": [
            "Mounted at /content/drive\n"
          ]
        }
      ]
    },
    {
      "cell_type": "code",
      "source": [
        "%cd '/content/drive/MyDrive/RQC_Tasks/Qudits/qudit-vqc'"
      ],
      "metadata": {
        "id": "i_VY9HT98xNK",
        "colab": {
          "base_uri": "https://localhost:8080/"
        },
        "outputId": "11fa7f3e-cfc8-4a43-af10-7f9de35f5170"
      },
      "execution_count": null,
      "outputs": [
        {
          "output_type": "stream",
          "name": "stdout",
          "text": [
            "/content/drive/MyDrive/RQC_Tasks/Qudits/qudit-vqc\n"
          ]
        }
      ]
    },
    {
      "cell_type": "code",
      "source": [
        "from qudit_gates import *\n",
        "from qudit_depolarization_channels import *\n",
        "from qudit_variational_qc import *"
      ],
      "metadata": {
        "id": "LnXnpBP78yNi"
      },
      "execution_count": null,
      "outputs": []
    },
    {
      "cell_type": "markdown",
      "metadata": {
        "id": "Oy3n80_UadHN"
      },
      "source": [
        "##Qudits\n"
      ]
    },
    {
      "cell_type": "markdown",
      "metadata": {
        "id": "Tt3Q_dwZaX0j"
      },
      "source": [
        "We are going to study implementation of qudits for variational circuits. Since the real device we have in FIAN is two-qudit quantim computer with d=4 (ququarts), it appears reasonable to choose this specific value"
      ]
    },
    {
      "cell_type": "code",
      "execution_count": null,
      "metadata": {
        "id": "AWI7c3Iua1F5",
        "colab": {
          "base_uri": "https://localhost:8080/"
        },
        "outputId": "5d8bda98-a852-4255-a2c1-b4be748ad87c"
      },
      "outputs": [
        {
          "output_type": "stream",
          "name": "stdout",
          "text": [
            "[cirq.LineQid(0, dimension=4), cirq.LineQid(1, dimension=4)]\n"
          ]
        }
      ],
      "source": [
        "d = 4\n",
        "n = 2\n",
        "\n",
        "qudits = cirq.LineQid.range(n, dimension=d)\n",
        "q0, q1 = qudits\n",
        "\n",
        "print(qudits)"
      ]
    },
    {
      "cell_type": "markdown",
      "metadata": {
        "id": "prJuHldbp9gK"
      },
      "source": [
        "##Ququart gates"
      ]
    },
    {
      "cell_type": "code",
      "source": [
        "simulator = cirq.Simulator()"
      ],
      "metadata": {
        "id": "cqIOOEBMk2DO"
      },
      "execution_count": null,
      "outputs": []
    },
    {
      "cell_type": "code",
      "execution_count": null,
      "metadata": {
        "id": "pjZfOb7j-NNP",
        "colab": {
          "base_uri": "https://localhost:8080/"
        },
        "outputId": "cef9376c-4b22-4976-a409-7da4a1953e4a"
      },
      "outputs": [
        {
          "output_type": "stream",
          "name": "stderr",
          "text": [
            "WARNING:matplotlib.font_manager:findfont: Font family ['Arial'] not found. Falling back to DejaVu Sans.\n"
          ]
        },
        {
          "output_type": "display_data",
          "data": {
            "text/plain": [
              "<cirq.contrib.svg.svg.SVGCircuit at 0x7f5dba502490>"
            ],
            "image/svg+xml": "<svg xmlns=\"http://www.w3.org/2000/svg\" width=\"274.3226953125\" height=\"50.0\"><line x1=\"42.98236328125\" x2=\"244.3226953125\" y1=\"25.0\" y2=\"25.0\" stroke=\"#1967d2\" stroke-width=\"1\" /><rect x=\"10.0\" y=\"5.0\" width=\"65.9647265625\" height=\"40\" stroke=\"black\" fill=\"white\" stroke-width=\"0\" /><text x=\"42.98236328125\" y=\"25.0\" dominant-baseline=\"middle\" text-anchor=\"middle\" font-size=\"14px\" font-family=\"Arial\">0 (d=4): </text><rect x=\"95.9647265625\" y=\"5.0\" width=\"128.35796875\" height=\"40\" stroke=\"black\" fill=\"white\" stroke-width=\"1\" /><text x=\"160.1437109375\" y=\"25.0\" dominant-baseline=\"middle\" text-anchor=\"middle\" font-size=\"14px\" font-family=\"Arial\">R₀¹(0.200, 0.500)</text></svg>"
          },
          "metadata": {}
        },
        {
          "output_type": "execute_result",
          "data": {
            "text/plain": [
              "array([0.9950042 +0.j        , 0.04786269-0.08761206j,\n",
              "       0.        +0.j        , 0.        +0.j        ], dtype=complex64)"
            ]
          },
          "metadata": {},
          "execution_count": 8
        }
      ],
      "source": [
        "circuit = cirq.Circuit(\n",
        "    QuditRGate(0, 1, 0.2, 0.5).on(q0)\n",
        ")\n",
        "\n",
        "display(SVGCircuit(circuit))\n",
        "\n",
        "result = simulator.simulate(circuit)\n",
        "result.final_state_vector"
      ]
    },
    {
      "cell_type": "code",
      "execution_count": null,
      "metadata": {
        "id": "Cvnob_uQrOh2",
        "colab": {
          "base_uri": "https://localhost:8080/"
        },
        "outputId": "57c7f378-44d6-4b29-f571-56c6bf558fa6"
      },
      "outputs": [
        {
          "output_type": "display_data",
          "data": {
            "text/plain": [
              "<cirq.contrib.svg.svg.SVGCircuit at 0x7f5dba5029a0>"
            ],
            "image/svg+xml": "<svg xmlns=\"http://www.w3.org/2000/svg\" width=\"235.7532421875\" height=\"100.0\"><line x1=\"42.98236328125\" x2=\"205.7532421875\" y1=\"25.0\" y2=\"25.0\" stroke=\"#1967d2\" stroke-width=\"1\" /><line x1=\"42.98236328125\" x2=\"205.7532421875\" y1=\"75.0\" y2=\"75.0\" stroke=\"#1967d2\" stroke-width=\"1\" /><line x1=\"140.858984375\" x2=\"140.858984375\" y1=\"25.0\" y2=\"75.0\" stroke=\"black\" stroke-width=\"3\" /><rect x=\"10.0\" y=\"5.0\" width=\"65.9647265625\" height=\"40\" stroke=\"black\" fill=\"white\" stroke-width=\"0\" /><text x=\"42.98236328125\" y=\"25.0\" dominant-baseline=\"middle\" text-anchor=\"middle\" font-size=\"14px\" font-family=\"Arial\">0 (d=4): </text><rect x=\"10.0\" y=\"55.0\" width=\"65.9647265625\" height=\"40\" stroke=\"black\" fill=\"white\" stroke-width=\"0\" /><text x=\"42.98236328125\" y=\"75.0\" dominant-baseline=\"middle\" text-anchor=\"middle\" font-size=\"14px\" font-family=\"Arial\">1 (d=4): </text><rect x=\"95.9647265625\" y=\"5.0\" width=\"89.78851562500002\" height=\"40\" stroke=\"black\" fill=\"white\" stroke-width=\"1\" /><text x=\"140.858984375\" y=\"25.0\" dominant-baseline=\"middle\" text-anchor=\"middle\" font-size=\"14px\" font-family=\"Arial\">XX₀²(0.320)</text><rect x=\"95.9647265625\" y=\"55.0\" width=\"89.78851562500002\" height=\"40\" stroke=\"black\" fill=\"white\" stroke-width=\"1\" /><text x=\"140.858984375\" y=\"75.0\" dominant-baseline=\"middle\" text-anchor=\"middle\" font-size=\"14px\" font-family=\"Arial\">XX₀²(0.320)</text></svg>"
          },
          "metadata": {}
        },
        {
          "output_type": "execute_result",
          "data": {
            "text/plain": [
              "array([0.98722726+0.j        , 0.        +0.j        ,\n",
              "       0.        +0.j        , 0.        +0.j        ,\n",
              "       0.        +0.j        , 0.        +0.j        ,\n",
              "       0.        +0.j        , 0.        +0.j        ,\n",
              "       0.        +0.j        , 0.        +0.j        ,\n",
              "       0.        -0.15931821j, 0.        +0.j        ,\n",
              "       0.        +0.j        , 0.        +0.j        ,\n",
              "       0.        +0.j        , 0.        +0.j        ], dtype=complex64)"
            ]
          },
          "metadata": {},
          "execution_count": 9
        }
      ],
      "source": [
        "circuit = cirq.Circuit(\n",
        "   QuditXXGate(0, 2, 0.32).on(q0, q1)\n",
        ")\n",
        "display(SVGCircuit(circuit))\n",
        "\n",
        "result = simulator.simulate(circuit)\n",
        "result.final_state_vector"
      ]
    },
    {
      "cell_type": "code",
      "source": [
        "circuit = cirq.Circuit(\n",
        "   QuditZZGate(0, 2, 0.32).on(q0, q1)\n",
        ")\n",
        "\n",
        "display(SVGCircuit(circuit))\n",
        "\n",
        "result = simulator.simulate(circuit)\n",
        "result.final_state_vector"
      ],
      "metadata": {
        "id": "_xBG66AabENI",
        "colab": {
          "base_uri": "https://localhost:8080/"
        },
        "outputId": "c5690acc-8a07-4122-df3b-dbf0795ee3b2"
      },
      "execution_count": null,
      "outputs": [
        {
          "output_type": "display_data",
          "data": {
            "text/plain": [
              "<cirq.contrib.svg.svg.SVGCircuit at 0x7f5dba5023d0>"
            ],
            "image/svg+xml": "<svg xmlns=\"http://www.w3.org/2000/svg\" width=\"235.54105468750004\" height=\"100.0\"><line x1=\"42.98236328125\" x2=\"205.54105468750004\" y1=\"25.0\" y2=\"25.0\" stroke=\"#1967d2\" stroke-width=\"1\" /><line x1=\"42.98236328125\" x2=\"205.54105468750004\" y1=\"75.0\" y2=\"75.0\" stroke=\"#1967d2\" stroke-width=\"1\" /><line x1=\"140.75289062500002\" x2=\"140.75289062500002\" y1=\"25.0\" y2=\"75.0\" stroke=\"black\" stroke-width=\"3\" /><rect x=\"10.0\" y=\"5.0\" width=\"65.9647265625\" height=\"40\" stroke=\"black\" fill=\"white\" stroke-width=\"0\" /><text x=\"42.98236328125\" y=\"25.0\" dominant-baseline=\"middle\" text-anchor=\"middle\" font-size=\"14px\" font-family=\"Arial\">0 (d=4): </text><rect x=\"10.0\" y=\"55.0\" width=\"65.9647265625\" height=\"40\" stroke=\"black\" fill=\"white\" stroke-width=\"0\" /><text x=\"42.98236328125\" y=\"75.0\" dominant-baseline=\"middle\" text-anchor=\"middle\" font-size=\"14px\" font-family=\"Arial\">1 (d=4): </text><rect x=\"95.9647265625\" y=\"5.0\" width=\"89.57632812500002\" height=\"40\" stroke=\"black\" fill=\"white\" stroke-width=\"1\" /><text x=\"140.75289062500002\" y=\"25.0\" dominant-baseline=\"middle\" text-anchor=\"middle\" font-size=\"14px\" font-family=\"Arial\">ZZ₀²(0.320)</text><rect x=\"95.9647265625\" y=\"55.0\" width=\"89.57632812500002\" height=\"40\" stroke=\"black\" fill=\"white\" stroke-width=\"1\" /><text x=\"140.75289062500002\" y=\"75.0\" dominant-baseline=\"middle\" text-anchor=\"middle\" font-size=\"14px\" font-family=\"Arial\">ZZ₀²(0.320)</text></svg>"
          },
          "metadata": {}
        },
        {
          "output_type": "execute_result",
          "data": {
            "text/plain": [
              "array([0.98722726-0.15931821j, 0.        +0.j        ,\n",
              "       0.        +0.j        , 0.        +0.j        ,\n",
              "       0.        +0.j        , 0.        +0.j        ,\n",
              "       0.        +0.j        , 0.        +0.j        ,\n",
              "       0.        +0.j        , 0.        +0.j        ,\n",
              "       0.        +0.j        , 0.        +0.j        ,\n",
              "       0.        +0.j        , 0.        +0.j        ,\n",
              "       0.        +0.j        , 0.        +0.j        ], dtype=complex64)"
            ]
          },
          "metadata": {},
          "execution_count": 10
        }
      ]
    },
    {
      "cell_type": "code",
      "execution_count": 4,
      "metadata": {
        "id": "d1ryYmWVboSu",
        "colab": {
          "base_uri": "https://localhost:8080/",
          "height": 235
        },
        "outputId": "d128fe8f-beb7-4454-9d20-ebb46234f541"
      },
      "outputs": [
        {
          "output_type": "error",
          "ename": "NameError",
          "evalue": "ignored",
          "traceback": [
            "\u001b[0;31m---------------------------------------------------------------------------\u001b[0m",
            "\u001b[0;31mNameError\u001b[0m                                 Traceback (most recent call last)",
            "\u001b[0;32m<ipython-input-4-3f3be234f87f>\u001b[0m in \u001b[0;36m<module>\u001b[0;34m\u001b[0m\n\u001b[0;32m----> 1\u001b[0;31m circuit = cirq.Circuit(\n\u001b[0m\u001b[1;32m      2\u001b[0m     \u001b[0mQuditBarrier\u001b[0m\u001b[0;34m(\u001b[0m\u001b[0;34m)\u001b[0m\u001b[0;34m.\u001b[0m\u001b[0mon\u001b[0m\u001b[0;34m(\u001b[0m\u001b[0mq0\u001b[0m\u001b[0;34m,\u001b[0m \u001b[0mq1\u001b[0m\u001b[0;34m)\u001b[0m\u001b[0;34m\u001b[0m\u001b[0;34m\u001b[0m\u001b[0m\n\u001b[1;32m      3\u001b[0m )\n\u001b[1;32m      4\u001b[0m \u001b[0;34m\u001b[0m\u001b[0m\n\u001b[1;32m      5\u001b[0m \u001b[0mdisplay\u001b[0m\u001b[0;34m(\u001b[0m\u001b[0mSVGCircuit\u001b[0m\u001b[0;34m(\u001b[0m\u001b[0mcircuit\u001b[0m\u001b[0;34m)\u001b[0m\u001b[0;34m)\u001b[0m\u001b[0;34m\u001b[0m\u001b[0;34m\u001b[0m\u001b[0m\n",
            "\u001b[0;31mNameError\u001b[0m: name 'cirq' is not defined"
          ]
        }
      ],
      "source": [
        "circuit = cirq.Circuit(\n",
        "    QuditBarrier().on(q0, q1)\n",
        ")\n",
        "\n",
        "display(SVGCircuit(circuit))\n",
        "\n",
        "result = simulator.simulate(circuit)\n",
        "result.final_state_vector"
      ]
    },
    {
      "cell_type": "code",
      "execution_count": null,
      "metadata": {
        "id": "iSLe0PrOuWgZ",
        "colab": {
          "base_uri": "https://localhost:8080/"
        },
        "outputId": "9a251f07-f658-46e4-ae75-b994ba78f3a1"
      },
      "outputs": [
        {
          "output_type": "display_data",
          "data": {
            "text/plain": [
              "<cirq.contrib.svg.svg.SVGCircuit at 0x7f5dba502b50>"
            ],
            "image/svg+xml": "<svg xmlns=\"http://www.w3.org/2000/svg\" width=\"185.9647265625\" height=\"100.0\"><line x1=\"42.98236328125\" x2=\"155.9647265625\" y1=\"25.0\" y2=\"25.0\" stroke=\"#1967d2\" stroke-width=\"1\" /><line x1=\"42.98236328125\" x2=\"155.9647265625\" y1=\"75.0\" y2=\"75.0\" stroke=\"#1967d2\" stroke-width=\"1\" /><line x1=\"115.9647265625\" x2=\"115.9647265625\" y1=\"25.0\" y2=\"75.0\" stroke=\"black\" stroke-width=\"3\" /><rect x=\"10.0\" y=\"5.0\" width=\"65.9647265625\" height=\"40\" stroke=\"black\" fill=\"white\" stroke-width=\"0\" /><text x=\"42.98236328125\" y=\"25.0\" dominant-baseline=\"middle\" text-anchor=\"middle\" font-size=\"14px\" font-family=\"Arial\">0 (d=4): </text><rect x=\"10.0\" y=\"55.0\" width=\"65.9647265625\" height=\"40\" stroke=\"black\" fill=\"white\" stroke-width=\"0\" /><text x=\"42.98236328125\" y=\"75.0\" dominant-baseline=\"middle\" text-anchor=\"middle\" font-size=\"14px\" font-family=\"Arial\">1 (d=4): </text><rect x=\"95.9647265625\" y=\"5.0\" width=\"40\" height=\"40\" stroke=\"black\" fill=\"white\" stroke-width=\"1\" /><text x=\"115.9647265625\" y=\"25.0\" dominant-baseline=\"middle\" text-anchor=\"middle\" font-size=\"18px\" font-family=\"Arial\">U</text><rect x=\"95.9647265625\" y=\"55.0\" width=\"40\" height=\"40\" stroke=\"black\" fill=\"white\" stroke-width=\"1\" /><text x=\"115.9647265625\" y=\"75.0\" dominant-baseline=\"middle\" text-anchor=\"middle\" font-size=\"18px\" font-family=\"Arial\">U</text></svg>"
          },
          "metadata": {}
        },
        {
          "output_type": "execute_result",
          "data": {
            "text/plain": [
              "array([ 0.09198611+0.09748124j,  0.0649102 +0.20749675j,\n",
              "       -0.04493232+0.06023369j,  0.16114339-0.01233532j,\n",
              "       -0.19518903-0.0599068j , -0.04103287-0.21692097j,\n",
              "       -0.10022357+0.14532454j,  0.02210486-0.03926441j,\n",
              "       -0.02015586-0.19364257j, -0.07748839+0.0885432j ,\n",
              "       -0.26999977-0.09650195j, -0.16126318+0.01762975j,\n",
              "        0.50685704+0.1045097j , -0.3617387 -0.05377077j,\n",
              "       -0.23468958-0.35366368j, -0.19281855-0.01397113j], dtype=complex64)"
            ]
          },
          "metadata": {},
          "execution_count": 12
        }
      ],
      "source": [
        "circuit = cirq.Circuit(\n",
        "    QuditArbitraryUnitary().on(q0, q1)\n",
        ")\n",
        "\n",
        "display(SVGCircuit(circuit))\n",
        "\n",
        "result = simulator.simulate(circuit)\n",
        "result.final_state_vector"
      ]
    },
    {
      "cell_type": "markdown",
      "metadata": {
        "id": "8LP-x_b3Q65P"
      },
      "source": [
        "##Depolarizing channels\n"
      ]
    },
    {
      "cell_type": "markdown",
      "metadata": {
        "id": "fn99QK2LPvrH"
      },
      "source": [
        "Parameter p of the depolarizing channel can be restored from experimentally mesured fidelities of single-qudit and two-qudit operations. From\n",
        "\\begin{equation}\n",
        "    f = 1 - p +  \\frac{p}{d^2}\n",
        "\\end{equation}\n",
        "we obtain:\n",
        "\\begin{equation}\n",
        "    p = \\left(1 -  \\frac{1}{d^2}\\right)^{-1} \\cdot \\left(1 - f \\right)\n",
        "\\end{equation}\n",
        "\n",
        "For single-qudit operations"
      ]
    },
    {
      "cell_type": "code",
      "execution_count": null,
      "metadata": {
        "id": "lQYbZyTnPVFI",
        "colab": {
          "base_uri": "https://localhost:8080/"
        },
        "outputId": "d6125c0c-93a6-4499-da35-3e5abfdf5ea0"
      },
      "outputs": [
        {
          "output_type": "execute_result",
          "data": {
            "text/plain": [
              "0.010666666666666677"
            ]
          },
          "metadata": {},
          "execution_count": 13
        }
      ],
      "source": [
        "f1 = 0.99\n",
        "p1 = (1 - f1) / (1 - 1 / d ** 2)\n",
        "p1"
      ]
    },
    {
      "cell_type": "markdown",
      "metadata": {
        "id": "67B7y30Ym9hE"
      },
      "source": [
        "For two-qudit operations"
      ]
    },
    {
      "cell_type": "code",
      "execution_count": null,
      "metadata": {
        "id": "fzd86yx-mtCD",
        "colab": {
          "base_uri": "https://localhost:8080/"
        },
        "outputId": "05a1010f-8581-4b9e-83d6-38d95e12fa56"
      },
      "outputs": [
        {
          "output_type": "execute_result",
          "data": {
            "text/plain": [
              "0.040156862745098075"
            ]
          },
          "metadata": {},
          "execution_count": 14
        }
      ],
      "source": [
        "f2 = 0.96\n",
        "p2 = (1 - f2) / (1 - 1 / (d ** 2) ** 2)\n",
        "p2"
      ]
    },
    {
      "cell_type": "code",
      "source": [
        "dmsimulator = cirq.DensityMatrixSimulator()"
      ],
      "metadata": {
        "id": "yjfdHlaEoXUE"
      },
      "execution_count": null,
      "outputs": []
    },
    {
      "cell_type": "markdown",
      "metadata": {
        "id": "A1KlSVvonMST"
      },
      "source": [
        "Single-qudit channel"
      ]
    },
    {
      "cell_type": "code",
      "execution_count": null,
      "metadata": {
        "id": "DAvQA2JUIKZR",
        "colab": {
          "base_uri": "https://localhost:8080/",
          "height": 164
        },
        "outputId": "b46c6a2f-ed76-4284-b6f5-4a7b057bf3dd"
      },
      "outputs": [
        {
          "output_type": "display_data",
          "data": {
            "text/plain": [
              "<cirq.contrib.svg.svg.SVGCircuit at 0x7f5dba510ca0>"
            ],
            "image/svg+xml": "<svg xmlns=\"http://www.w3.org/2000/svg\" width=\"245.5234375\" height=\"50.0\"><line x1=\"42.98236328125\" x2=\"215.5234375\" y1=\"25.0\" y2=\"25.0\" stroke=\"#1967d2\" stroke-width=\"1\" /><rect x=\"10.0\" y=\"5.0\" width=\"65.9647265625\" height=\"40\" stroke=\"black\" fill=\"white\" stroke-width=\"0\" /><text x=\"42.98236328125\" y=\"25.0\" dominant-baseline=\"middle\" text-anchor=\"middle\" font-size=\"14px\" font-family=\"Arial\">0 (d=4): </text><rect x=\"95.9647265625\" y=\"5.0\" width=\"99.55871093750001\" height=\"40\" stroke=\"black\" fill=\"white\" stroke-width=\"1\" /><text x=\"145.74408203125\" y=\"25.0\" dominant-baseline=\"middle\" text-anchor=\"middle\" font-size=\"14px\" font-family=\"Arial\">Φ(p1=0.011)</text></svg>"
          },
          "metadata": {}
        },
        {
          "output_type": "execute_result",
          "data": {
            "text/plain": [
              "array([[0.99200004+0.j, 0.        +0.j, 0.        +0.j, 0.        +0.j],\n",
              "       [0.        +0.j, 0.00266667+0.j, 0.        +0.j, 0.        +0.j],\n",
              "       [0.        +0.j, 0.        +0.j, 0.00266667+0.j, 0.        +0.j],\n",
              "       [0.        +0.j, 0.        +0.j, 0.        +0.j, 0.00266667+0.j]],\n",
              "      dtype=complex64)"
            ]
          },
          "metadata": {},
          "execution_count": 16
        }
      ],
      "source": [
        "circuit = cirq.Circuit(\n",
        "    QuquartDepolarizingChannel().on(q0)\n",
        ")\n",
        "\n",
        "display(SVGCircuit(circuit))\n",
        "\n",
        "result = dmsimulator.simulate(circuit)\n",
        "result.final_density_matrix"
      ]
    },
    {
      "cell_type": "markdown",
      "metadata": {
        "id": "kuB4pcHCnOz2"
      },
      "source": [
        "Two-qudit channel"
      ]
    },
    {
      "cell_type": "code",
      "execution_count": null,
      "metadata": {
        "id": "_JrKM8bBnRHy",
        "colab": {
          "base_uri": "https://localhost:8080/",
          "height": 1000
        },
        "outputId": "bdeb8fb8-0bd5-4dd2-b3bd-3d99d74ae519"
      },
      "outputs": [
        {
          "output_type": "display_data",
          "data": {
            "text/plain": [
              "<cirq.contrib.svg.svg.SVGCircuit at 0x7f5dba4e05e0>"
            ],
            "image/svg+xml": "<svg xmlns=\"http://www.w3.org/2000/svg\" width=\"256.54296875\" height=\"100.0\"><line x1=\"42.98236328125\" x2=\"226.54296875\" y1=\"25.0\" y2=\"25.0\" stroke=\"#1967d2\" stroke-width=\"1\" /><line x1=\"42.98236328125\" x2=\"226.54296875\" y1=\"75.0\" y2=\"75.0\" stroke=\"#1967d2\" stroke-width=\"1\" /><line x1=\"151.25384765625\" x2=\"151.25384765625\" y1=\"25.0\" y2=\"75.0\" stroke=\"black\" stroke-width=\"3\" /><rect x=\"10.0\" y=\"5.0\" width=\"65.9647265625\" height=\"40\" stroke=\"black\" fill=\"white\" stroke-width=\"0\" /><text x=\"42.98236328125\" y=\"25.0\" dominant-baseline=\"middle\" text-anchor=\"middle\" font-size=\"14px\" font-family=\"Arial\">0 (d=4): </text><rect x=\"10.0\" y=\"55.0\" width=\"65.9647265625\" height=\"40\" stroke=\"black\" fill=\"white\" stroke-width=\"0\" /><text x=\"42.98236328125\" y=\"75.0\" dominant-baseline=\"middle\" text-anchor=\"middle\" font-size=\"14px\" font-family=\"Arial\">1 (d=4): </text><rect x=\"95.9647265625\" y=\"5.0\" width=\"110.5782421875\" height=\"40\" stroke=\"black\" fill=\"white\" stroke-width=\"1\" /><text x=\"151.25384765625\" y=\"25.0\" dominant-baseline=\"middle\" text-anchor=\"middle\" font-size=\"14px\" font-family=\"Arial\">ΦΦ(p2=0.040)</text><rect x=\"95.9647265625\" y=\"55.0\" width=\"110.5782421875\" height=\"40\" stroke=\"black\" fill=\"white\" stroke-width=\"1\" /><text x=\"151.25384765625\" y=\"75.0\" dominant-baseline=\"middle\" text-anchor=\"middle\" font-size=\"14px\" font-family=\"Arial\">ΦΦ(p2=0.040)</text></svg>"
          },
          "metadata": {}
        },
        {
          "output_type": "execute_result",
          "data": {
            "text/plain": [
              "array([[0.96235317+0.j, 0.        +0.j, 0.        +0.j, 0.        +0.j,\n",
              "        0.        +0.j, 0.        +0.j, 0.        +0.j, 0.        +0.j,\n",
              "        0.        +0.j, 0.        +0.j, 0.        +0.j, 0.        +0.j,\n",
              "        0.        +0.j, 0.        +0.j, 0.        +0.j, 0.        +0.j],\n",
              "       [0.        +0.j, 0.0025098 +0.j, 0.        +0.j, 0.        +0.j,\n",
              "        0.        +0.j, 0.        +0.j, 0.        +0.j, 0.        +0.j,\n",
              "        0.        +0.j, 0.        +0.j, 0.        +0.j, 0.        +0.j,\n",
              "        0.        +0.j, 0.        +0.j, 0.        +0.j, 0.        +0.j],\n",
              "       [0.        +0.j, 0.        +0.j, 0.0025098 +0.j, 0.        +0.j,\n",
              "        0.        +0.j, 0.        +0.j, 0.        +0.j, 0.        +0.j,\n",
              "        0.        +0.j, 0.        +0.j, 0.        +0.j, 0.        +0.j,\n",
              "        0.        +0.j, 0.        +0.j, 0.        +0.j, 0.        +0.j],\n",
              "       [0.        +0.j, 0.        +0.j, 0.        +0.j, 0.0025098 +0.j,\n",
              "        0.        +0.j, 0.        +0.j, 0.        +0.j, 0.        +0.j,\n",
              "        0.        +0.j, 0.        +0.j, 0.        +0.j, 0.        +0.j,\n",
              "        0.        +0.j, 0.        +0.j, 0.        +0.j, 0.        +0.j],\n",
              "       [0.        +0.j, 0.        +0.j, 0.        +0.j, 0.        +0.j,\n",
              "        0.0025098 +0.j, 0.        +0.j, 0.        +0.j, 0.        +0.j,\n",
              "        0.        +0.j, 0.        +0.j, 0.        +0.j, 0.        +0.j,\n",
              "        0.        +0.j, 0.        +0.j, 0.        +0.j, 0.        +0.j],\n",
              "       [0.        +0.j, 0.        +0.j, 0.        +0.j, 0.        +0.j,\n",
              "        0.        +0.j, 0.0025098 +0.j, 0.        +0.j, 0.        +0.j,\n",
              "        0.        +0.j, 0.        +0.j, 0.        +0.j, 0.        +0.j,\n",
              "        0.        +0.j, 0.        +0.j, 0.        +0.j, 0.        +0.j],\n",
              "       [0.        +0.j, 0.        +0.j, 0.        +0.j, 0.        +0.j,\n",
              "        0.        +0.j, 0.        +0.j, 0.0025098 +0.j, 0.        +0.j,\n",
              "        0.        +0.j, 0.        +0.j, 0.        +0.j, 0.        +0.j,\n",
              "        0.        +0.j, 0.        +0.j, 0.        +0.j, 0.        +0.j],\n",
              "       [0.        +0.j, 0.        +0.j, 0.        +0.j, 0.        +0.j,\n",
              "        0.        +0.j, 0.        +0.j, 0.        +0.j, 0.0025098 +0.j,\n",
              "        0.        +0.j, 0.        +0.j, 0.        +0.j, 0.        +0.j,\n",
              "        0.        +0.j, 0.        +0.j, 0.        +0.j, 0.        +0.j],\n",
              "       [0.        +0.j, 0.        +0.j, 0.        +0.j, 0.        +0.j,\n",
              "        0.        +0.j, 0.        +0.j, 0.        +0.j, 0.        +0.j,\n",
              "        0.0025098 +0.j, 0.        +0.j, 0.        +0.j, 0.        +0.j,\n",
              "        0.        +0.j, 0.        +0.j, 0.        +0.j, 0.        +0.j],\n",
              "       [0.        +0.j, 0.        +0.j, 0.        +0.j, 0.        +0.j,\n",
              "        0.        +0.j, 0.        +0.j, 0.        +0.j, 0.        +0.j,\n",
              "        0.        +0.j, 0.0025098 +0.j, 0.        +0.j, 0.        +0.j,\n",
              "        0.        +0.j, 0.        +0.j, 0.        +0.j, 0.        +0.j],\n",
              "       [0.        +0.j, 0.        +0.j, 0.        +0.j, 0.        +0.j,\n",
              "        0.        +0.j, 0.        +0.j, 0.        +0.j, 0.        +0.j,\n",
              "        0.        +0.j, 0.        +0.j, 0.0025098 +0.j, 0.        +0.j,\n",
              "        0.        +0.j, 0.        +0.j, 0.        +0.j, 0.        +0.j],\n",
              "       [0.        +0.j, 0.        +0.j, 0.        +0.j, 0.        +0.j,\n",
              "        0.        +0.j, 0.        +0.j, 0.        +0.j, 0.        +0.j,\n",
              "        0.        +0.j, 0.        +0.j, 0.        +0.j, 0.0025098 +0.j,\n",
              "        0.        +0.j, 0.        +0.j, 0.        +0.j, 0.        +0.j],\n",
              "       [0.        +0.j, 0.        +0.j, 0.        +0.j, 0.        +0.j,\n",
              "        0.        +0.j, 0.        +0.j, 0.        +0.j, 0.        +0.j,\n",
              "        0.        +0.j, 0.        +0.j, 0.        +0.j, 0.        +0.j,\n",
              "        0.0025098 +0.j, 0.        +0.j, 0.        +0.j, 0.        +0.j],\n",
              "       [0.        +0.j, 0.        +0.j, 0.        +0.j, 0.        +0.j,\n",
              "        0.        +0.j, 0.        +0.j, 0.        +0.j, 0.        +0.j,\n",
              "        0.        +0.j, 0.        +0.j, 0.        +0.j, 0.        +0.j,\n",
              "        0.        +0.j, 0.0025098 +0.j, 0.        +0.j, 0.        +0.j],\n",
              "       [0.        +0.j, 0.        +0.j, 0.        +0.j, 0.        +0.j,\n",
              "        0.        +0.j, 0.        +0.j, 0.        +0.j, 0.        +0.j,\n",
              "        0.        +0.j, 0.        +0.j, 0.        +0.j, 0.        +0.j,\n",
              "        0.        +0.j, 0.        +0.j, 0.0025098 +0.j, 0.        +0.j],\n",
              "       [0.        +0.j, 0.        +0.j, 0.        +0.j, 0.        +0.j,\n",
              "        0.        +0.j, 0.        +0.j, 0.        +0.j, 0.        +0.j,\n",
              "        0.        +0.j, 0.        +0.j, 0.        +0.j, 0.        +0.j,\n",
              "        0.        +0.j, 0.        +0.j, 0.        +0.j, 0.0025098 +0.j]],\n",
              "      dtype=complex64)"
            ]
          },
          "metadata": {},
          "execution_count": 17
        }
      ],
      "source": [
        "circuit = cirq.Circuit(\n",
        "    DoubleQuquartDepolarizingChannel().on(q0, q1)\n",
        ")\n",
        "\n",
        "display(SVGCircuit(circuit))\n",
        "\n",
        "result = dmsimulator.simulate(circuit)\n",
        "result.final_density_matrix"
      ]
    }
  ],
  "metadata": {
    "colab": {
      "collapsed_sections": [
        "4e61LzJNAHCj",
        "Oy3n80_UadHN",
        "prJuHldbp9gK",
        "zsLV6Uiw70K1"
      ],
      "provenance": []
    },
    "kernelspec": {
      "display_name": "Python 3",
      "language": "python",
      "name": "python3"
    },
    "language_info": {
      "codemirror_mode": {
        "name": "ipython",
        "version": 3
      },
      "file_extension": ".py",
      "mimetype": "text/x-python",
      "name": "python",
      "nbconvert_exporter": "python",
      "pygments_lexer": "ipython3",
      "version": "3.7.7"
    }
  },
  "nbformat": 4,
  "nbformat_minor": 0
}