{
  "cells": [
    {
      "cell_type": "markdown",
      "metadata": {
        "id": "XcpK_pURYSfH"
      },
      "source": [
        "# Qudits VS qubits\n"
      ]
    },
    {
      "cell_type": "markdown",
      "metadata": {
        "id": "6ny1pE5XE2zZ"
      },
      "source": [
        "<img src=\"https://rqc.ru/static/RQClogo_black_ru.png\" alt=\"drawing\" height=\"300\">"
      ]
    },
    {
      "cell_type": "markdown",
      "metadata": {
        "id": "4e61LzJNAHCj"
      },
      "source": [
        "## Annotation\n",
        "\n",
        "The following notebook implements qudits VQC and qubit VQC\n",
        "\n",
        "Author: Artem Kuzmichev, Quantum Research Scientist, RQC"
      ]
    },
    {
      "cell_type": "code",
      "execution_count": null,
      "metadata": {
        "colab": {
          "base_uri": "https://localhost:8080/"
        },
        "id": "T80pJYJWzzPb",
        "outputId": "629cbb08-4a86-4144-a82f-32d806dc9b49"
      },
      "outputs": [
        {
          "output_type": "stream",
          "name": "stdout",
          "text": [
            "\u001b[K     |████████████████████████████████| 577 kB 32.9 MB/s \n",
            "\u001b[K     |████████████████████████████████| 57 kB 5.3 MB/s \n",
            "\u001b[K     |████████████████████████████████| 594 kB 54.4 MB/s \n",
            "\u001b[K     |████████████████████████████████| 66 kB 3.5 MB/s \n",
            "\u001b[K     |████████████████████████████████| 1.8 MB 16.0 MB/s \n",
            "\u001b[K     |████████████████████████████████| 120 kB 51.8 MB/s \n",
            "\u001b[K     |████████████████████████████████| 221 kB 66.0 MB/s \n",
            "\u001b[K     |████████████████████████████████| 229 kB 44.0 MB/s \n",
            "\u001b[K     |████████████████████████████████| 44 kB 1.3 MB/s \n",
            "\u001b[K     |████████████████████████████████| 147 kB 46.0 MB/s \n",
            "\u001b[K     |████████████████████████████████| 49 kB 5.2 MB/s \n",
            "\u001b[K     |████████████████████████████████| 84 kB 3.3 MB/s \n",
            "\u001b[K     |████████████████████████████████| 69 kB 7.2 MB/s \n",
            "\u001b[K     |████████████████████████████████| 80 kB 8.7 MB/s \n",
            "\u001b[K     |████████████████████████████████| 58 kB 4.4 MB/s \n",
            "\u001b[K     |████████████████████████████████| 119 kB 55.8 MB/s \n",
            "\u001b[K     |████████████████████████████████| 1.6 MB 52.0 MB/s \n",
            "\u001b[K     |████████████████████████████████| 109 kB 55.3 MB/s \n",
            "\u001b[K     |████████████████████████████████| 555 kB 55.2 MB/s \n",
            "\u001b[?25h  Building wheel for lark (setup.py) ... \u001b[?25l\u001b[?25hdone\n",
            "  Building wheel for rpcq (setup.py) ... \u001b[?25l\u001b[?25hdone\n",
            "  Building wheel for msgpack (setup.py) ... \u001b[?25l\u001b[?25hdone\n"
          ]
        }
      ],
      "source": [
        "!pip install cirq -q --no-warn-conflicts"
      ]
    },
    {
      "cell_type": "code",
      "execution_count": null,
      "metadata": {
        "id": "S3M8MMRtS8Ke"
      },
      "outputs": [],
      "source": [
        "import numpy as np\n",
        "import sympy\n",
        "import matplotlib.pyplot as plt\n",
        "from scipy.optimize import minimize\n",
        "%matplotlib inline\n",
        "\n",
        "from tqdm import tqdm\n",
        "\n",
        "import cirq\n",
        "from cirq.circuits import InsertStrategy\n",
        "from cirq.contrib.svg import SVGCircuit\n",
        "from cirq import PauliSum"
      ]
    },
    {
      "cell_type": "code",
      "execution_count": null,
      "metadata": {
        "colab": {
          "base_uri": "https://localhost:8080/"
        },
        "id": "R3BUJVqW3kR6",
        "outputId": "21f3930e-9066-4d31-d4ad-8e9c3104edf6"
      },
      "outputs": [
        {
          "output_type": "stream",
          "name": "stdout",
          "text": [
            "Mounted at /content/drive\n"
          ]
        }
      ],
      "source": [
        "from google.colab import drive\n",
        "drive.mount('/content/drive')"
      ]
    },
    {
      "cell_type": "code",
      "execution_count": null,
      "metadata": {
        "colab": {
          "base_uri": "https://localhost:8080/"
        },
        "id": "gvcn3r853oiX",
        "outputId": "2fc1411c-191a-416e-8643-07b7bf2622c9"
      },
      "outputs": [
        {
          "output_type": "stream",
          "name": "stdout",
          "text": [
            "/content/drive/MyDrive/RQC_Tasks/Qudits/qudit-vqc\n"
          ]
        }
      ],
      "source": [
        "%cd '/content/drive/MyDrive/RQC_Tasks/Qudits/qudit-vqc'"
      ]
    },
    {
      "cell_type": "code",
      "execution_count": null,
      "metadata": {
        "id": "SVLz8XtT4IhA"
      },
      "outputs": [],
      "source": [
        "from qudit_gates import *\n",
        "from qudit_depolarization_channels import *\n",
        "from qudit_variational_qc import *"
      ]
    },
    {
      "cell_type": "code",
      "source": [
        "pip install git+https://github.com/artem-phys/qudits-vqc"
      ],
      "metadata": {
        "colab": {
          "base_uri": "https://localhost:8080/"
        },
        "id": "_vf0VkXh1M9l",
        "outputId": "e8f0c037-bbc7-49b1-b446-7aa5f81e65fa"
      },
      "execution_count": null,
      "outputs": [
        {
          "output_type": "stream",
          "name": "stdout",
          "text": [
            "Looking in indexes: https://pypi.org/simple, https://us-python.pkg.dev/colab-wheels/public/simple/\n",
            "Collecting git+https://github.com/artem-phys/qudits-vqc\n",
            "  Cloning https://github.com/artem-phys/qudits-vqc to /tmp/pip-req-build-or_37yb0\n",
            "  Running command git clone -q https://github.com/artem-phys/qudits-vqc /tmp/pip-req-build-or_37yb0\n",
            "\u001b[31mERROR: File \"setup.py\" not found for legacy project git+https://github.com/artem-phys/qudits-vqc.\u001b[0m\n"
          ]
        }
      ]
    },
    {
      "cell_type": "markdown",
      "metadata": {
        "id": "Bj12BVA4wja2"
      },
      "source": [
        "##Qubit VQC"
      ]
    },
    {
      "cell_type": "code",
      "execution_count": null,
      "metadata": {
        "id": "kKeniPM1xnOq"
      },
      "outputs": [],
      "source": [
        "p1 = 0.001 # single qubit\n",
        "p2 = 0.01 # two qubit"
      ]
    },
    {
      "cell_type": "code",
      "execution_count": null,
      "metadata": {
        "id": "342PLez3wlMG"
      },
      "outputs": [],
      "source": [
        "def qubit_rot_layer(qubits_, theta_list, phi_list, with_noise=False):\n",
        "    \"\"\"Yields parametrized single qubit rotations\"\"\"\n",
        "    for i, qid in enumerate(qubits_):\n",
        "        rot = QuditRGate(0, 1, theta_list[i], phi_list[i], dimension=2)\n",
        "        yield rot.on(cirq.LineQid(i, dimension=2))\n",
        "        if with_noise:\n",
        "            yield cirq.DepolarizingChannel(p=p1, n_qubits=1).on(qid)\n",
        "\n",
        "\n",
        "def qubit_rot_zz_layer(qubits_, theta, with_noise=False):\n",
        "    \"\"\"Yields parametrized two qudit rotation\"\"\"\n",
        "    for i in range(len(qubits_)):\n",
        "        for j in range(i + 1, len(qubits_)):\n",
        "            yield cirq.ZZ(qubits_[i], qubits_[j]) ** theta\n",
        "            if with_noise:\n",
        "                yield cirq.DepolarizingChannel(p=p2, n_qubits=2).on(qubits_[i], qubits_[j])\n",
        "\n",
        "\n",
        "def qubit_one_step(qubits_, theta_list, phi_list, two_qudit_theta, with_noise=False):\n",
        "    \"\"\"One variational step\"\"\"\n",
        "    yield qubit_rot_layer(qubits_, theta_list, phi_list, with_noise=with_noise)\n",
        "\n",
        "    yield qubit_rot_zz_layer(qubits_, two_qudit_theta, with_noise=with_noise)\n",
        "\n",
        "\n",
        "def qubit_variational_qc(tl_, pl_, tqtl_, num_layers_, num_qubits_, measurement=False, with_noise=False):\n",
        "\n",
        "    # two_qudits\n",
        "    qubits_ = cirq.LineQid.range(num_qubits_, dimension=2)\n",
        "    qc = cirq.Circuit()\n",
        "\n",
        "    # qc.append([cirq.H(q) for q in qubits_], strategy=InsertStrategy.NEW_THEN_INLINE)\n",
        "\n",
        "    for layer in range(num_layers_):\n",
        "        qc.append(qubit_one_step(qubits_, tl_[layer], pl_[layer], tqtl_[layer], with_noise=with_noise), strategy=InsertStrategy.NEW_THEN_INLINE)\n",
        "\n",
        "    if measurement:\n",
        "        qc.append(cirq.measure(*qubits_, key='qubits'))\n",
        "\n",
        "    return qc"
      ]
    },
    {
      "cell_type": "code",
      "execution_count": null,
      "metadata": {
        "colab": {
          "base_uri": "https://localhost:8080/",
          "height": 296
        },
        "id": "r7z4kzFoyh87",
        "outputId": "36280afc-859d-4a46-b2ff-9e629773eee7"
      },
      "outputs": [
        {
          "output_type": "stream",
          "name": "stderr",
          "text": [
            "WARNING:matplotlib.font_manager:findfont: Font family ['Arial'] not found. Falling back to DejaVu Sans.\n"
          ]
        },
        {
          "output_type": "stream",
          "name": "stdout",
          "text": [
            "Qubit Variational Ansatz\n"
          ]
        },
        {
          "output_type": "execute_result",
          "data": {
            "text/plain": [
              "<cirq.contrib.svg.svg.SVGCircuit at 0x7f79fa7e5b80>"
            ],
            "image/svg+xml": "<svg xmlns=\"http://www.w3.org/2000/svg\" width=\"1878.0715625000007\" height=\"240.0\"><line x1=\"42.98236328125\" x2=\"1848.0715625000007\" y1=\"45.0\" y2=\"45.0\" stroke=\"#1967d2\" stroke-width=\"1\" /><line x1=\"42.98236328125\" x2=\"1848.0715625000007\" y1=\"95.0\" y2=\"95.0\" stroke=\"#1967d2\" stroke-width=\"1\" /><line x1=\"42.98236328125\" x2=\"1848.0715625000007\" y1=\"145.0\" y2=\"145.0\" stroke=\"#1967d2\" stroke-width=\"1\" /><line x1=\"42.98236328125\" x2=\"1848.0715625000007\" y1=\"195.0\" y2=\"195.0\" stroke=\"#1967d2\" stroke-width=\"1\" /><line x1=\"1137.7132421875003\" x2=\"1287.2519140625004\" y1=\"5.0\" y2=\"5.0\" stroke=\"black\" stroke-width=\"1\" /><line x1=\"1137.7132421875003\" x2=\"1287.2519140625004\" y1=\"235.0\" y2=\"235.0\" stroke=\"black\" stroke-width=\"1\" /><line x1=\"729.0162500000001\" x2=\"729.0162500000001\" y1=\"45.0\" y2=\"95.0\" stroke=\"black\" stroke-width=\"3\" /><line x1=\"818.7855859375002\" x2=\"818.7855859375002\" y1=\"45.0\" y2=\"95.0\" stroke=\"black\" stroke-width=\"3\" /><line x1=\"908.5549218750002\" x2=\"908.5549218750002\" y1=\"45.0\" y2=\"145.0\" stroke=\"black\" stroke-width=\"3\" /><line x1=\"998.3242578125003\" x2=\"998.3242578125003\" y1=\"45.0\" y2=\"145.0\" stroke=\"black\" stroke-width=\"3\" /><line x1=\"1088.0935937500003\" x2=\"1088.0935937500003\" y1=\"45.0\" y2=\"195.0\" stroke=\"black\" stroke-width=\"3\" /><line x1=\"1167.8629296875004\" x2=\"1167.8629296875004\" y1=\"45.0\" y2=\"195.0\" stroke=\"black\" stroke-width=\"3\" /><line x1=\"1237.6322656250004\" x2=\"1237.6322656250004\" y1=\"95.0\" y2=\"145.0\" stroke=\"black\" stroke-width=\"3\" /><line x1=\"1337.4016015625004\" x2=\"1337.4016015625004\" y1=\"95.0\" y2=\"145.0\" stroke=\"black\" stroke-width=\"3\" /><line x1=\"1427.1709375000005\" x2=\"1427.1709375000005\" y1=\"95.0\" y2=\"195.0\" stroke=\"black\" stroke-width=\"3\" /><line x1=\"1516.9402734375005\" x2=\"1516.9402734375005\" y1=\"95.0\" y2=\"195.0\" stroke=\"black\" stroke-width=\"3\" /><line x1=\"1606.7096093750006\" x2=\"1606.7096093750006\" y1=\"145.0\" y2=\"195.0\" stroke=\"black\" stroke-width=\"3\" /><line x1=\"1696.4789453125006\" x2=\"1696.4789453125006\" y1=\"145.0\" y2=\"195.0\" stroke=\"black\" stroke-width=\"3\" /><line x1=\"1787.3500976562507\" x2=\"1787.3500976562507\" y1=\"45.0\" y2=\"195.0\" stroke=\"black\" stroke-width=\"3\" /><line x1=\"1137.7132421875003\" x2=\"1137.7132421875003\" y1=\"5.0\" y2=\"15.0\" stroke=\"black\" stroke-width=\"3\" /><line x1=\"1287.2519140625004\" x2=\"1287.2519140625004\" y1=\"5.0\" y2=\"15.0\" stroke=\"black\" stroke-width=\"3\" /><line x1=\"1137.7132421875003\" x2=\"1137.7132421875003\" y1=\"225.0\" y2=\"235.0\" stroke=\"black\" stroke-width=\"3\" /><line x1=\"1287.2519140625004\" x2=\"1287.2519140625004\" y1=\"225.0\" y2=\"235.0\" stroke=\"black\" stroke-width=\"3\" /><rect x=\"10.0\" y=\"25.0\" width=\"65.9647265625\" height=\"40\" stroke=\"black\" fill=\"white\" stroke-width=\"0\" /><text x=\"42.98236328125\" y=\"45.0\" dominant-baseline=\"middle\" text-anchor=\"middle\" font-size=\"14px\" font-family=\"Arial\">0 (d=2): </text><rect x=\"10.0\" y=\"75.0\" width=\"65.9647265625\" height=\"40\" stroke=\"black\" fill=\"white\" stroke-width=\"0\" /><text x=\"42.98236328125\" y=\"95.0\" dominant-baseline=\"middle\" text-anchor=\"middle\" font-size=\"14px\" font-family=\"Arial\">1 (d=2): </text><rect x=\"10.0\" y=\"125.0\" width=\"65.9647265625\" height=\"40\" stroke=\"black\" fill=\"white\" stroke-width=\"0\" /><text x=\"42.98236328125\" y=\"145.0\" dominant-baseline=\"middle\" text-anchor=\"middle\" font-size=\"14px\" font-family=\"Arial\">2 (d=2): </text><rect x=\"10.0\" y=\"175.0\" width=\"65.9647265625\" height=\"40\" stroke=\"black\" fill=\"white\" stroke-width=\"0\" /><text x=\"42.98236328125\" y=\"195.0\" dominant-baseline=\"middle\" text-anchor=\"middle\" font-size=\"14px\" font-family=\"Arial\">3 (d=2): </text><rect x=\"95.9647265625\" y=\"25.0\" width=\"128.35796875\" height=\"40\" stroke=\"black\" fill=\"white\" stroke-width=\"1\" /><text x=\"160.1437109375\" y=\"45.0\" dominant-baseline=\"middle\" text-anchor=\"middle\" font-size=\"14px\" font-family=\"Arial\">R₀¹(2.364, 0.936)</text><rect x=\"244.32269531249997\" y=\"25.0\" width=\"128.35796875\" height=\"40\" stroke=\"black\" fill=\"white\" stroke-width=\"1\" /><text x=\"308.5016796875\" y=\"45.0\" dominant-baseline=\"middle\" text-anchor=\"middle\" font-size=\"14px\" font-family=\"Arial\">D(0.001)</text><rect x=\"244.32269531249997\" y=\"75.0\" width=\"128.35796875\" height=\"40\" stroke=\"black\" fill=\"white\" stroke-width=\"1\" /><text x=\"308.5016796875\" y=\"95.0\" dominant-baseline=\"middle\" text-anchor=\"middle\" font-size=\"14px\" font-family=\"Arial\">R₀¹(1.029, 2.793)</text><rect x=\"392.6806640625\" y=\"75.0\" width=\"128.35796875\" height=\"40\" stroke=\"black\" fill=\"white\" stroke-width=\"1\" /><text x=\"456.8596484375\" y=\"95.0\" dominant-baseline=\"middle\" text-anchor=\"middle\" font-size=\"14px\" font-family=\"Arial\">D(0.001)</text><rect x=\"392.6806640625\" y=\"125.0\" width=\"128.35796875\" height=\"40\" stroke=\"black\" fill=\"white\" stroke-width=\"1\" /><text x=\"456.8596484375\" y=\"145.0\" dominant-baseline=\"middle\" text-anchor=\"middle\" font-size=\"14px\" font-family=\"Arial\">R₀¹(2.075, 4.691)</text><rect x=\"541.0386328125\" y=\"125.0\" width=\"128.35796875\" height=\"40\" stroke=\"black\" fill=\"white\" stroke-width=\"1\" /><text x=\"605.2176171875001\" y=\"145.0\" dominant-baseline=\"middle\" text-anchor=\"middle\" font-size=\"14px\" font-family=\"Arial\">D(0.001)</text><rect x=\"541.0386328125\" y=\"175.0\" width=\"128.35796875\" height=\"40\" stroke=\"black\" fill=\"white\" stroke-width=\"1\" /><text x=\"605.2176171875001\" y=\"195.0\" dominant-baseline=\"middle\" text-anchor=\"middle\" font-size=\"14px\" font-family=\"Arial\">R₀¹(0.529, 2.647)</text><rect x=\"689.3966015625001\" y=\"175.0\" width=\"79.23929687500001\" height=\"40\" stroke=\"black\" fill=\"white\" stroke-width=\"1\" /><text x=\"729.0162500000001\" y=\"195.0\" dominant-baseline=\"middle\" text-anchor=\"middle\" font-size=\"14px\" font-family=\"Arial\">D(0.001)</text><rect x=\"689.3966015625001\" y=\"25.0\" width=\"79.23929687500001\" height=\"40\" stroke=\"black\" fill=\"white\" stroke-width=\"1\" /><text x=\"729.0162500000001\" y=\"45.0\" dominant-baseline=\"middle\" text-anchor=\"middle\" font-size=\"14px\" font-family=\"Arial\">ZZ</text><rect x=\"689.3966015625001\" y=\"75.0\" width=\"79.23929687500001\" height=\"40\" stroke=\"black\" fill=\"white\" stroke-width=\"1\" /><text x=\"729.0162500000001\" y=\"95.0\" dominant-baseline=\"middle\" text-anchor=\"middle\" font-size=\"14px\" font-family=\"Arial\">ZZ^0.043</text><rect x=\"788.6358984375001\" y=\"25.0\" width=\"60.299375\" height=\"40\" stroke=\"black\" fill=\"white\" stroke-width=\"1\" /><text x=\"818.7855859375002\" y=\"45.0\" dominant-baseline=\"middle\" text-anchor=\"middle\" font-size=\"14px\" font-family=\"Arial\">D(0.01)</text><rect x=\"788.6358984375001\" y=\"75.0\" width=\"60.299375\" height=\"40\" stroke=\"black\" fill=\"white\" stroke-width=\"1\" /><text x=\"818.7855859375002\" y=\"95.0\" dominant-baseline=\"middle\" text-anchor=\"middle\" font-size=\"14px\" font-family=\"Arial\">#2</text><rect x=\"868.9352734375002\" y=\"25.0\" width=\"79.23929687500001\" height=\"40\" stroke=\"black\" fill=\"white\" stroke-width=\"1\" /><text x=\"908.5549218750002\" y=\"45.0\" dominant-baseline=\"middle\" text-anchor=\"middle\" font-size=\"14px\" font-family=\"Arial\">ZZ</text><rect x=\"868.9352734375002\" y=\"125.0\" width=\"79.23929687500001\" height=\"40\" stroke=\"black\" fill=\"white\" stroke-width=\"1\" /><text x=\"908.5549218750002\" y=\"145.0\" dominant-baseline=\"middle\" text-anchor=\"middle\" font-size=\"14px\" font-family=\"Arial\">ZZ^0.043</text><rect x=\"968.1745703125002\" y=\"25.0\" width=\"60.299375\" height=\"40\" stroke=\"black\" fill=\"white\" stroke-width=\"1\" /><text x=\"998.3242578125003\" y=\"45.0\" dominant-baseline=\"middle\" text-anchor=\"middle\" font-size=\"14px\" font-family=\"Arial\">D(0.01)</text><rect x=\"968.1745703125002\" y=\"125.0\" width=\"60.299375\" height=\"40\" stroke=\"black\" fill=\"white\" stroke-width=\"1\" /><text x=\"998.3242578125003\" y=\"145.0\" dominant-baseline=\"middle\" text-anchor=\"middle\" font-size=\"14px\" font-family=\"Arial\">#2</text><rect x=\"1048.4739453125003\" y=\"25.0\" width=\"79.23929687500001\" height=\"40\" stroke=\"black\" fill=\"white\" stroke-width=\"1\" /><text x=\"1088.0935937500003\" y=\"45.0\" dominant-baseline=\"middle\" text-anchor=\"middle\" font-size=\"14px\" font-family=\"Arial\">ZZ</text><rect x=\"1048.4739453125003\" y=\"175.0\" width=\"79.23929687500001\" height=\"40\" stroke=\"black\" fill=\"white\" stroke-width=\"1\" /><text x=\"1088.0935937500003\" y=\"195.0\" dominant-baseline=\"middle\" text-anchor=\"middle\" font-size=\"14px\" font-family=\"Arial\">ZZ^0.043</text><rect x=\"1137.7132421875003\" y=\"25.0\" width=\"60.299375000000005\" height=\"40\" stroke=\"black\" fill=\"white\" stroke-width=\"1\" /><text x=\"1167.8629296875004\" y=\"45.0\" dominant-baseline=\"middle\" text-anchor=\"middle\" font-size=\"14px\" font-family=\"Arial\">D(0.01)</text><rect x=\"1137.7132421875003\" y=\"175.0\" width=\"60.299375000000005\" height=\"40\" stroke=\"black\" fill=\"white\" stroke-width=\"1\" /><text x=\"1167.8629296875004\" y=\"195.0\" dominant-baseline=\"middle\" text-anchor=\"middle\" font-size=\"14px\" font-family=\"Arial\">#2</text><rect x=\"1198.0126171875004\" y=\"75.0\" width=\"79.23929687500001\" height=\"40\" stroke=\"black\" fill=\"white\" stroke-width=\"1\" /><text x=\"1237.6322656250004\" y=\"95.0\" dominant-baseline=\"middle\" text-anchor=\"middle\" font-size=\"14px\" font-family=\"Arial\">ZZ</text><rect x=\"1198.0126171875004\" y=\"125.0\" width=\"79.23929687500001\" height=\"40\" stroke=\"black\" fill=\"white\" stroke-width=\"1\" /><text x=\"1237.6322656250004\" y=\"145.0\" dominant-baseline=\"middle\" text-anchor=\"middle\" font-size=\"14px\" font-family=\"Arial\">ZZ^0.043</text><rect x=\"1307.2519140625004\" y=\"75.0\" width=\"60.299375\" height=\"40\" stroke=\"black\" fill=\"white\" stroke-width=\"1\" /><text x=\"1337.4016015625004\" y=\"95.0\" dominant-baseline=\"middle\" text-anchor=\"middle\" font-size=\"14px\" font-family=\"Arial\">D(0.01)</text><rect x=\"1307.2519140625004\" y=\"125.0\" width=\"60.299375\" height=\"40\" stroke=\"black\" fill=\"white\" stroke-width=\"1\" /><text x=\"1337.4016015625004\" y=\"145.0\" dominant-baseline=\"middle\" text-anchor=\"middle\" font-size=\"14px\" font-family=\"Arial\">#2</text><rect x=\"1387.5512890625005\" y=\"75.0\" width=\"79.23929687500001\" height=\"40\" stroke=\"black\" fill=\"white\" stroke-width=\"1\" /><text x=\"1427.1709375000005\" y=\"95.0\" dominant-baseline=\"middle\" text-anchor=\"middle\" font-size=\"14px\" font-family=\"Arial\">ZZ</text><rect x=\"1387.5512890625005\" y=\"175.0\" width=\"79.23929687500001\" height=\"40\" stroke=\"black\" fill=\"white\" stroke-width=\"1\" /><text x=\"1427.1709375000005\" y=\"195.0\" dominant-baseline=\"middle\" text-anchor=\"middle\" font-size=\"14px\" font-family=\"Arial\">ZZ^0.043</text><rect x=\"1486.7905859375005\" y=\"75.0\" width=\"60.299375\" height=\"40\" stroke=\"black\" fill=\"white\" stroke-width=\"1\" /><text x=\"1516.9402734375005\" y=\"95.0\" dominant-baseline=\"middle\" text-anchor=\"middle\" font-size=\"14px\" font-family=\"Arial\">D(0.01)</text><rect x=\"1486.7905859375005\" y=\"175.0\" width=\"60.299375\" height=\"40\" stroke=\"black\" fill=\"white\" stroke-width=\"1\" /><text x=\"1516.9402734375005\" y=\"195.0\" dominant-baseline=\"middle\" text-anchor=\"middle\" font-size=\"14px\" font-family=\"Arial\">#2</text><rect x=\"1567.0899609375006\" y=\"125.0\" width=\"79.23929687500001\" height=\"40\" stroke=\"black\" fill=\"white\" stroke-width=\"1\" /><text x=\"1606.7096093750006\" y=\"145.0\" dominant-baseline=\"middle\" text-anchor=\"middle\" font-size=\"14px\" font-family=\"Arial\">ZZ</text><rect x=\"1567.0899609375006\" y=\"175.0\" width=\"79.23929687500001\" height=\"40\" stroke=\"black\" fill=\"white\" stroke-width=\"1\" /><text x=\"1606.7096093750006\" y=\"195.0\" dominant-baseline=\"middle\" text-anchor=\"middle\" font-size=\"14px\" font-family=\"Arial\">ZZ^0.043</text><rect x=\"1666.3292578125006\" y=\"125.0\" width=\"60.299375\" height=\"40\" stroke=\"black\" fill=\"white\" stroke-width=\"1\" /><text x=\"1696.4789453125006\" y=\"145.0\" dominant-baseline=\"middle\" text-anchor=\"middle\" font-size=\"14px\" font-family=\"Arial\">D(0.01)</text><rect x=\"1666.3292578125006\" y=\"175.0\" width=\"60.299375\" height=\"40\" stroke=\"black\" fill=\"white\" stroke-width=\"1\" /><text x=\"1696.4789453125006\" y=\"195.0\" dominant-baseline=\"middle\" text-anchor=\"middle\" font-size=\"14px\" font-family=\"Arial\">#2</text><rect x=\"1746.6286328125007\" y=\"25.0\" width=\"81.44292968750001\" height=\"40\" stroke=\"black\" fill=\"white\" stroke-width=\"1\" /><text x=\"1787.3500976562507\" y=\"45.0\" dominant-baseline=\"middle\" text-anchor=\"middle\" font-size=\"14px\" font-family=\"Arial\">M('qubits')</text><rect x=\"1746.6286328125007\" y=\"75.0\" width=\"81.44292968750001\" height=\"40\" stroke=\"black\" fill=\"white\" stroke-width=\"1\" /><text x=\"1787.3500976562507\" y=\"95.0\" dominant-baseline=\"middle\" text-anchor=\"middle\" font-size=\"18px\" font-family=\"Arial\">M</text><rect x=\"1746.6286328125007\" y=\"125.0\" width=\"81.44292968750001\" height=\"40\" stroke=\"black\" fill=\"white\" stroke-width=\"1\" /><text x=\"1787.3500976562507\" y=\"145.0\" dominant-baseline=\"middle\" text-anchor=\"middle\" font-size=\"18px\" font-family=\"Arial\">M</text><rect x=\"1746.6286328125007\" y=\"175.0\" width=\"81.44292968750001\" height=\"40\" stroke=\"black\" fill=\"white\" stroke-width=\"1\" /><text x=\"1787.3500976562507\" y=\"195.0\" dominant-baseline=\"middle\" text-anchor=\"middle\" font-size=\"18px\" font-family=\"Arial\">M</text></svg>"
          },
          "metadata": {},
          "execution_count": 8
        }
      ],
      "source": [
        "num_layers = 1  # number of variational layers\n",
        "num_qubits = 4\n",
        "num_qubits_pairs = int((num_qubits + 1) * num_qubits / 2)\n",
        "\n",
        "tl = np.random.uniform(low=0, high=2 * np.pi, size=(num_layers, num_qubits))\n",
        "pl = np.random.uniform(low=0, high=2 * np.pi, size=(num_layers, num_qubits))\n",
        "tqtl = np.random.uniform(low=0, high=2 * np.pi, size=num_layers)\n",
        "\n",
        "print('Qubit Variational Ansatz')\n",
        "qubit_vqc = qubit_variational_qc(tl, pl, tqtl, num_layers, num_qubits, measurement=True, with_noise=True)\n",
        "SVGCircuit(qubit_vqc)"
      ]
    },
    {
      "cell_type": "code",
      "execution_count": null,
      "metadata": {
        "colab": {
          "base_uri": "https://localhost:8080/"
        },
        "id": "jzC1J7p70ewH",
        "outputId": "4e3a0a7c-7ce4-4e03-b67e-9760e11401ff"
      },
      "outputs": [
        {
          "output_type": "execute_result",
          "data": {
            "text/plain": [
              "Counter({'1010': 7, '0010': 1, '1000': 1, '1110': 1})"
            ]
          },
          "metadata": {},
          "execution_count": 9
        }
      ],
      "source": [
        "simulator = cirq.DensityMatrixSimulator()\n",
        "\n",
        "qubit_results = simulator.run(qubit_vqc, repetitions=10)\n",
        "qubit_results.histogram(key='qubits', fold_func= lambda bits: ''.join(map(str, bits)))"
      ]
    },
    {
      "cell_type": "code",
      "execution_count": null,
      "metadata": {
        "colab": {
          "base_uri": "https://localhost:8080/"
        },
        "id": "stwCnbBJ4F4R",
        "outputId": "457612d9-55fa-45aa-cd53-b2d8f61bf873"
      },
      "outputs": [
        {
          "output_type": "execute_result",
          "data": {
            "text/plain": [
              "Counter({10: 7, 2: 1, 8: 1, 14: 1})"
            ]
          },
          "metadata": {},
          "execution_count": 10
        }
      ],
      "source": [
        "qubit_energy_hist = qubit_results.histogram(key='qubits')\n",
        "qubit_energy_hist"
      ]
    },
    {
      "cell_type": "markdown",
      "metadata": {
        "id": "Zy39W2YB034b"
      },
      "source": [
        "##Qudit VQC\n"
      ]
    },
    {
      "cell_type": "code",
      "execution_count": null,
      "metadata": {
        "colab": {
          "base_uri": "https://localhost:8080/",
          "height": 138
        },
        "id": "FaFzM3eO05yK",
        "outputId": "b6fb6a23-0df1-4ad4-e036-00a11b24988f"
      },
      "outputs": [
        {
          "output_type": "stream",
          "name": "stdout",
          "text": [
            "Qudit Variational Ansatz\n"
          ]
        },
        {
          "output_type": "execute_result",
          "data": {
            "text/plain": [
              "<cirq.contrib.svg.svg.SVGCircuit at 0x7f79fa7770d0>"
            ],
            "image/svg+xml": "<svg xmlns=\"http://www.w3.org/2000/svg\" width=\"1331.3122656250002\" height=\"100.0\"><line x1=\"42.98236328125\" x2=\"1301.3122656250002\" y1=\"25.0\" y2=\"25.0\" stroke=\"#1967d2\" stroke-width=\"1\" /><line x1=\"42.98236328125\" x2=\"1301.3122656250002\" y1=\"75.0\" y2=\"75.0\" stroke=\"#1967d2\" stroke-width=\"1\" /><line x1=\"944.5029296875\" x2=\"944.5029296875\" y1=\"25.0\" y2=\"75.0\" stroke=\"black\" stroke-width=\"3\" /><line x1=\"1064.5802148437501\" x2=\"1064.5802148437501\" y1=\"25.0\" y2=\"75.0\" stroke=\"black\" stroke-width=\"3\" /><line x1=\"1159.8693359375002\" x2=\"1159.8693359375002\" y1=\"25.0\" y2=\"75.0\" stroke=\"black\" stroke-width=\"3\" /><line x1=\"1240.5908007812502\" x2=\"1240.5908007812502\" y1=\"25.0\" y2=\"75.0\" stroke=\"black\" stroke-width=\"3\" /><rect x=\"10.0\" y=\"5.0\" width=\"65.9647265625\" height=\"40\" stroke=\"black\" fill=\"white\" stroke-width=\"0\" /><text x=\"42.98236328125\" y=\"25.0\" dominant-baseline=\"middle\" text-anchor=\"middle\" font-size=\"14px\" font-family=\"Arial\">0 (d=4): </text><rect x=\"10.0\" y=\"55.0\" width=\"65.9647265625\" height=\"40\" stroke=\"black\" fill=\"white\" stroke-width=\"0\" /><text x=\"42.98236328125\" y=\"75.0\" dominant-baseline=\"middle\" text-anchor=\"middle\" font-size=\"14px\" font-family=\"Arial\">1 (d=4): </text><rect x=\"95.9647265625\" y=\"5.0\" width=\"128.35796875\" height=\"40\" stroke=\"black\" fill=\"white\" stroke-width=\"1\" /><text x=\"160.1437109375\" y=\"25.0\" dominant-baseline=\"middle\" text-anchor=\"middle\" font-size=\"14px\" font-family=\"Arial\">R₀¹(3.084, 2.519)</text><rect x=\"95.9647265625\" y=\"55.0\" width=\"128.35796875\" height=\"40\" stroke=\"black\" fill=\"white\" stroke-width=\"1\" /><text x=\"160.1437109375\" y=\"75.0\" dominant-baseline=\"middle\" text-anchor=\"middle\" font-size=\"14px\" font-family=\"Arial\">R₀¹(0.673, 4.405)</text><rect x=\"244.3226953125\" y=\"5.0\" width=\"99.55871093750001\" height=\"40\" stroke=\"black\" fill=\"white\" stroke-width=\"1\" /><text x=\"294.10205078125\" y=\"25.0\" dominant-baseline=\"middle\" text-anchor=\"middle\" font-size=\"14px\" font-family=\"Arial\">Φ(p1=0.011)</text><rect x=\"244.3226953125\" y=\"55.0\" width=\"99.55871093750001\" height=\"40\" stroke=\"black\" fill=\"white\" stroke-width=\"1\" /><text x=\"294.10205078125\" y=\"75.0\" dominant-baseline=\"middle\" text-anchor=\"middle\" font-size=\"14px\" font-family=\"Arial\">Φ(p1=0.011)</text><rect x=\"363.88140624999994\" y=\"5.0\" width=\"128.35796875\" height=\"40\" stroke=\"black\" fill=\"white\" stroke-width=\"1\" /><text x=\"428.06039062499997\" y=\"25.0\" dominant-baseline=\"middle\" text-anchor=\"middle\" font-size=\"14px\" font-family=\"Arial\">R₀²(4.918, 4.127)</text><rect x=\"363.88140624999994\" y=\"55.0\" width=\"128.35796875\" height=\"40\" stroke=\"black\" fill=\"white\" stroke-width=\"1\" /><text x=\"428.06039062499997\" y=\"75.0\" dominant-baseline=\"middle\" text-anchor=\"middle\" font-size=\"14px\" font-family=\"Arial\">R₀²(2.978, 0.489)</text><rect x=\"512.239375\" y=\"5.0\" width=\"99.55871093750001\" height=\"40\" stroke=\"black\" fill=\"white\" stroke-width=\"1\" /><text x=\"562.01873046875\" y=\"25.0\" dominant-baseline=\"middle\" text-anchor=\"middle\" font-size=\"14px\" font-family=\"Arial\">Φ(p1=0.011)</text><rect x=\"512.239375\" y=\"55.0\" width=\"99.55871093750001\" height=\"40\" stroke=\"black\" fill=\"white\" stroke-width=\"1\" /><text x=\"562.01873046875\" y=\"75.0\" dominant-baseline=\"middle\" text-anchor=\"middle\" font-size=\"14px\" font-family=\"Arial\">Φ(p1=0.011)</text><rect x=\"631.7980859375\" y=\"5.0\" width=\"128.35796875\" height=\"40\" stroke=\"black\" fill=\"white\" stroke-width=\"1\" /><text x=\"695.9770703125\" y=\"25.0\" dominant-baseline=\"middle\" text-anchor=\"middle\" font-size=\"14px\" font-family=\"Arial\">R₀³(0.107, 3.933)</text><rect x=\"631.7980859375\" y=\"55.0\" width=\"128.35796875\" height=\"40\" stroke=\"black\" fill=\"white\" stroke-width=\"1\" /><text x=\"695.9770703125\" y=\"75.0\" dominant-baseline=\"middle\" text-anchor=\"middle\" font-size=\"14px\" font-family=\"Arial\">R₀³(4.286, 5.526)</text><rect x=\"780.1560546875\" y=\"5.0\" width=\"99.55871093750001\" height=\"40\" stroke=\"black\" fill=\"white\" stroke-width=\"1\" /><text x=\"829.9354101562501\" y=\"25.0\" dominant-baseline=\"middle\" text-anchor=\"middle\" font-size=\"14px\" font-family=\"Arial\">Φ(p1=0.011)</text><rect x=\"780.1560546875\" y=\"55.0\" width=\"99.55871093750001\" height=\"40\" stroke=\"black\" fill=\"white\" stroke-width=\"1\" /><text x=\"829.9354101562501\" y=\"75.0\" dominant-baseline=\"middle\" text-anchor=\"middle\" font-size=\"14px\" font-family=\"Arial\">Φ(p1=0.011)</text><rect x=\"899.714765625\" y=\"5.0\" width=\"89.57632812500002\" height=\"40\" stroke=\"black\" fill=\"white\" stroke-width=\"1\" /><text x=\"944.5029296875\" y=\"25.0\" dominant-baseline=\"middle\" text-anchor=\"middle\" font-size=\"14px\" font-family=\"Arial\">ZZ₀¹(5.842)</text><rect x=\"899.714765625\" y=\"55.0\" width=\"89.57632812500002\" height=\"40\" stroke=\"black\" fill=\"white\" stroke-width=\"1\" /><text x=\"944.5029296875\" y=\"75.0\" dominant-baseline=\"middle\" text-anchor=\"middle\" font-size=\"14px\" font-family=\"Arial\">ZZ₀¹(5.842)</text><rect x=\"1009.2910937500001\" y=\"5.0\" width=\"110.5782421875\" height=\"40\" stroke=\"black\" fill=\"white\" stroke-width=\"1\" /><text x=\"1064.5802148437501\" y=\"25.0\" dominant-baseline=\"middle\" text-anchor=\"middle\" font-size=\"14px\" font-family=\"Arial\">ΦΦ(p2=0.040)</text><rect x=\"1009.2910937500001\" y=\"55.0\" width=\"110.5782421875\" height=\"40\" stroke=\"black\" fill=\"white\" stroke-width=\"1\" /><text x=\"1064.5802148437501\" y=\"75.0\" dominant-baseline=\"middle\" text-anchor=\"middle\" font-size=\"14px\" font-family=\"Arial\">ΦΦ(p2=0.040)</text><rect x=\"1139.8693359375002\" y=\"5.0\" width=\"40\" height=\"40\" stroke=\"black\" fill=\"white\" stroke-width=\"1\" /><text x=\"1159.8693359375002\" y=\"25.0\" dominant-baseline=\"middle\" text-anchor=\"middle\" font-size=\"18px\" font-family=\"Arial\">|</text><rect x=\"1139.8693359375002\" y=\"55.0\" width=\"40\" height=\"40\" stroke=\"black\" fill=\"white\" stroke-width=\"1\" /><text x=\"1159.8693359375002\" y=\"75.0\" dominant-baseline=\"middle\" text-anchor=\"middle\" font-size=\"18px\" font-family=\"Arial\">|</text><rect x=\"1199.8693359375002\" y=\"5.0\" width=\"81.44292968750001\" height=\"40\" stroke=\"black\" fill=\"white\" stroke-width=\"1\" /><text x=\"1240.5908007812502\" y=\"25.0\" dominant-baseline=\"middle\" text-anchor=\"middle\" font-size=\"14px\" font-family=\"Arial\">M('qudits')</text><rect x=\"1199.8693359375002\" y=\"55.0\" width=\"81.44292968750001\" height=\"40\" stroke=\"black\" fill=\"white\" stroke-width=\"1\" /><text x=\"1240.5908007812502\" y=\"75.0\" dominant-baseline=\"middle\" text-anchor=\"middle\" font-size=\"18px\" font-family=\"Arial\">M</text></svg>"
          },
          "metadata": {},
          "execution_count": 11
        }
      ],
      "source": [
        "num_layers = 1  # number of variational layers\n",
        "num_qudits = 2\n",
        "num_qudits_pairs = int((num_qudits + 1) * num_qudits / 2)\n",
        "\n",
        "tl = np.random.uniform(low=0, high=2 * np.pi, size=(num_layers, 3, num_qudits))\n",
        "pl = np.random.uniform(low=0, high=2 * np.pi, size=(num_layers, 3, num_qudits))\n",
        "tqtl = np.random.uniform(low=0, high=2 * np.pi, size=(num_layers, num_qudits_pairs))\n",
        "\n",
        "print('Qudit Variational Ansatz')\n",
        "qudit_vqc = variational_qc(tl, pl, tqtl, num_layers, num_qudits, measurement=True, with_noise=True)\n",
        "SVGCircuit(qudit_vqc)"
      ]
    },
    {
      "cell_type": "code",
      "execution_count": null,
      "metadata": {
        "colab": {
          "base_uri": "https://localhost:8080/"
        },
        "id": "L9cRuScmEfbg",
        "outputId": "7b6bac90-dcb7-402d-f747-9452d5dbd07d"
      },
      "outputs": [
        {
          "output_type": "execute_result",
          "data": {
            "text/plain": [
              "(array([[[3.08401459, 0.67277234],\n",
              "         [4.91770153, 2.97775365],\n",
              "         [0.10742119, 4.28559411]]]), array([[[2.51874646, 4.4052508 ],\n",
              "         [4.12707229, 0.48858005],\n",
              "         [3.93253423, 5.5258535 ]]]), array([[5.84204591, 4.33778666, 0.35380771]]))"
            ]
          },
          "metadata": {},
          "execution_count": 12
        }
      ],
      "source": [
        "tl, pl, tqtl"
      ]
    },
    {
      "cell_type": "code",
      "execution_count": null,
      "metadata": {
        "colab": {
          "base_uri": "https://localhost:8080/"
        },
        "id": "hXcCQHhM0X-3",
        "outputId": "8243ef45-c05f-4eda-9e50-1887135919a2"
      },
      "outputs": [
        {
          "output_type": "execute_result",
          "data": {
            "text/plain": [
              "Counter({'12': 9, '11': 1})"
            ]
          },
          "metadata": {},
          "execution_count": 13
        }
      ],
      "source": [
        "qudit_results = simulator.run(qudit_vqc, repetitions=10)\n",
        "qudit_results.histogram(key='qudits', fold_func= lambda bits: ''.join(map(str, bits)))"
      ]
    },
    {
      "cell_type": "markdown",
      "metadata": {
        "id": "nlY6u87bCXLU"
      },
      "source": [
        "##Reshape pararameters list"
      ]
    },
    {
      "cell_type": "code",
      "execution_count": null,
      "metadata": {
        "colab": {
          "base_uri": "https://localhost:8080/",
          "height": 365
        },
        "id": "6mjiYRJr_d7f",
        "outputId": "e1a82d32-f75b-4270-b647-4b6b2d8a73b9"
      },
      "outputs": [
        {
          "output_type": "stream",
          "name": "stdout",
          "text": [
            "params = [5.40201612 6.19613908 1.81627593 2.35166191 3.0695103  4.21089722\n",
            " 0.02537752 5.64820573 5.34561752]\n",
            "\n",
            "theta_list = [[5.40201612 6.19613908 1.81627593 2.35166191]]\n",
            "phi_list = [[3.0695103  4.21089722 0.02537752 5.64820573]]\n",
            "tqt_list = [5.34561752]\n"
          ]
        },
        {
          "output_type": "execute_result",
          "data": {
            "text/plain": [
              "<cirq.contrib.svg.svg.SVGCircuit at 0x7f79fa78a760>"
            ],
            "image/svg+xml": "<svg xmlns=\"http://www.w3.org/2000/svg\" width=\"1808.9604296875004\" height=\"240.0\"><line x1=\"42.98236328125\" x2=\"1778.9604296875004\" y1=\"45.0\" y2=\"45.0\" stroke=\"#1967d2\" stroke-width=\"1\" /><line x1=\"42.98236328125\" x2=\"1778.9604296875004\" y1=\"95.0\" y2=\"95.0\" stroke=\"#1967d2\" stroke-width=\"1\" /><line x1=\"42.98236328125\" x2=\"1778.9604296875004\" y1=\"145.0\" y2=\"145.0\" stroke=\"#1967d2\" stroke-width=\"1\" /><line x1=\"42.98236328125\" x2=\"1778.9604296875004\" y1=\"195.0\" y2=\"195.0\" stroke=\"#1967d2\" stroke-width=\"1\" /><line x1=\"1153.8791406250002\" x2=\"1308.8064453125003\" y1=\"5.0\" y2=\"5.0\" stroke=\"black\" stroke-width=\"1\" /><line x1=\"1153.8791406250002\" x2=\"1308.8064453125003\" y1=\"235.0\" y2=\"235.0\" stroke=\"black\" stroke-width=\"1\" /><line x1=\"731.7105664062501\" x2=\"731.7105664062501\" y1=\"45.0\" y2=\"95.0\" stroke=\"black\" stroke-width=\"3\" /><line x1=\"824.1742187500001\" x2=\"824.1742187500001\" y1=\"45.0\" y2=\"95.0\" stroke=\"black\" stroke-width=\"3\" /><line x1=\"916.6378710937502\" x2=\"916.6378710937502\" y1=\"45.0\" y2=\"145.0\" stroke=\"black\" stroke-width=\"3\" /><line x1=\"1009.1015234375002\" x2=\"1009.1015234375002\" y1=\"45.0\" y2=\"145.0\" stroke=\"black\" stroke-width=\"3\" /><line x1=\"1101.5651757812502\" x2=\"1101.5651757812502\" y1=\"45.0\" y2=\"195.0\" stroke=\"black\" stroke-width=\"3\" /><line x1=\"1184.0288281250002\" x2=\"1184.0288281250002\" y1=\"45.0\" y2=\"195.0\" stroke=\"black\" stroke-width=\"3\" /><line x1=\"1256.4924804687503\" x2=\"1256.4924804687503\" y1=\"95.0\" y2=\"145.0\" stroke=\"black\" stroke-width=\"3\" /><line x1=\"1358.9561328125003\" x2=\"1358.9561328125003\" y1=\"95.0\" y2=\"145.0\" stroke=\"black\" stroke-width=\"3\" /><line x1=\"1451.4197851562503\" x2=\"1451.4197851562503\" y1=\"95.0\" y2=\"195.0\" stroke=\"black\" stroke-width=\"3\" /><line x1=\"1543.8834375000004\" x2=\"1543.8834375000004\" y1=\"95.0\" y2=\"195.0\" stroke=\"black\" stroke-width=\"3\" /><line x1=\"1636.3470898437504\" x2=\"1636.3470898437504\" y1=\"145.0\" y2=\"195.0\" stroke=\"black\" stroke-width=\"3\" /><line x1=\"1728.8107421875004\" x2=\"1728.8107421875004\" y1=\"145.0\" y2=\"195.0\" stroke=\"black\" stroke-width=\"3\" /><line x1=\"1153.8791406250002\" x2=\"1153.8791406250002\" y1=\"5.0\" y2=\"15.0\" stroke=\"black\" stroke-width=\"3\" /><line x1=\"1308.8064453125003\" x2=\"1308.8064453125003\" y1=\"5.0\" y2=\"15.0\" stroke=\"black\" stroke-width=\"3\" /><line x1=\"1153.8791406250002\" x2=\"1153.8791406250002\" y1=\"225.0\" y2=\"235.0\" stroke=\"black\" stroke-width=\"3\" /><line x1=\"1308.8064453125003\" x2=\"1308.8064453125003\" y1=\"225.0\" y2=\"235.0\" stroke=\"black\" stroke-width=\"3\" /><rect x=\"10.0\" y=\"25.0\" width=\"65.9647265625\" height=\"40\" stroke=\"black\" fill=\"white\" stroke-width=\"0\" /><text x=\"42.98236328125\" y=\"45.0\" dominant-baseline=\"middle\" text-anchor=\"middle\" font-size=\"14px\" font-family=\"Arial\">0 (d=2): </text><rect x=\"10.0\" y=\"75.0\" width=\"65.9647265625\" height=\"40\" stroke=\"black\" fill=\"white\" stroke-width=\"0\" /><text x=\"42.98236328125\" y=\"95.0\" dominant-baseline=\"middle\" text-anchor=\"middle\" font-size=\"14px\" font-family=\"Arial\">1 (d=2): </text><rect x=\"10.0\" y=\"125.0\" width=\"65.9647265625\" height=\"40\" stroke=\"black\" fill=\"white\" stroke-width=\"0\" /><text x=\"42.98236328125\" y=\"145.0\" dominant-baseline=\"middle\" text-anchor=\"middle\" font-size=\"14px\" font-family=\"Arial\">2 (d=2): </text><rect x=\"10.0\" y=\"175.0\" width=\"65.9647265625\" height=\"40\" stroke=\"black\" fill=\"white\" stroke-width=\"0\" /><text x=\"42.98236328125\" y=\"195.0\" dominant-baseline=\"middle\" text-anchor=\"middle\" font-size=\"14px\" font-family=\"Arial\">3 (d=2): </text><rect x=\"95.9647265625\" y=\"25.0\" width=\"128.35796875\" height=\"40\" stroke=\"black\" fill=\"white\" stroke-width=\"1\" /><text x=\"160.1437109375\" y=\"45.0\" dominant-baseline=\"middle\" text-anchor=\"middle\" font-size=\"14px\" font-family=\"Arial\">R₀¹(5.402, 3.070)</text><rect x=\"244.32269531249997\" y=\"25.0\" width=\"128.35796875\" height=\"40\" stroke=\"black\" fill=\"white\" stroke-width=\"1\" /><text x=\"308.5016796875\" y=\"45.0\" dominant-baseline=\"middle\" text-anchor=\"middle\" font-size=\"14px\" font-family=\"Arial\">D(0.001)</text><rect x=\"244.32269531249997\" y=\"75.0\" width=\"128.35796875\" height=\"40\" stroke=\"black\" fill=\"white\" stroke-width=\"1\" /><text x=\"308.5016796875\" y=\"95.0\" dominant-baseline=\"middle\" text-anchor=\"middle\" font-size=\"14px\" font-family=\"Arial\">R₀¹(6.196, 4.211)</text><rect x=\"392.6806640625\" y=\"75.0\" width=\"128.35796875\" height=\"40\" stroke=\"black\" fill=\"white\" stroke-width=\"1\" /><text x=\"456.8596484375\" y=\"95.0\" dominant-baseline=\"middle\" text-anchor=\"middle\" font-size=\"14px\" font-family=\"Arial\">D(0.001)</text><rect x=\"392.6806640625\" y=\"125.0\" width=\"128.35796875\" height=\"40\" stroke=\"black\" fill=\"white\" stroke-width=\"1\" /><text x=\"456.8596484375\" y=\"145.0\" dominant-baseline=\"middle\" text-anchor=\"middle\" font-size=\"14px\" font-family=\"Arial\">R₀¹(1.816, 0.025)</text><rect x=\"541.0386328125\" y=\"125.0\" width=\"128.35796875\" height=\"40\" stroke=\"black\" fill=\"white\" stroke-width=\"1\" /><text x=\"605.2176171875001\" y=\"145.0\" dominant-baseline=\"middle\" text-anchor=\"middle\" font-size=\"14px\" font-family=\"Arial\">D(0.001)</text><rect x=\"541.0386328125\" y=\"175.0\" width=\"128.35796875\" height=\"40\" stroke=\"black\" fill=\"white\" stroke-width=\"1\" /><text x=\"605.2176171875001\" y=\"195.0\" dominant-baseline=\"middle\" text-anchor=\"middle\" font-size=\"14px\" font-family=\"Arial\">R₀¹(2.352, 5.648)</text><rect x=\"689.3966015625001\" y=\"175.0\" width=\"84.62792968750001\" height=\"40\" stroke=\"black\" fill=\"white\" stroke-width=\"1\" /><text x=\"731.7105664062501\" y=\"195.0\" dominant-baseline=\"middle\" text-anchor=\"middle\" font-size=\"14px\" font-family=\"Arial\">D(0.001)</text><rect x=\"689.3966015625001\" y=\"25.0\" width=\"84.62792968750001\" height=\"40\" stroke=\"black\" fill=\"white\" stroke-width=\"1\" /><text x=\"731.7105664062501\" y=\"45.0\" dominant-baseline=\"middle\" text-anchor=\"middle\" font-size=\"14px\" font-family=\"Arial\">ZZ</text><rect x=\"689.3966015625001\" y=\"75.0\" width=\"84.62792968750001\" height=\"40\" stroke=\"black\" fill=\"white\" stroke-width=\"1\" /><text x=\"731.7105664062501\" y=\"95.0\" dominant-baseline=\"middle\" text-anchor=\"middle\" font-size=\"14px\" font-family=\"Arial\">ZZ^-0.654</text><rect x=\"794.0245312500001\" y=\"25.0\" width=\"60.299375\" height=\"40\" stroke=\"black\" fill=\"white\" stroke-width=\"1\" /><text x=\"824.1742187500001\" y=\"45.0\" dominant-baseline=\"middle\" text-anchor=\"middle\" font-size=\"14px\" font-family=\"Arial\">D(0.01)</text><rect x=\"794.0245312500001\" y=\"75.0\" width=\"60.299375\" height=\"40\" stroke=\"black\" fill=\"white\" stroke-width=\"1\" /><text x=\"824.1742187500001\" y=\"95.0\" dominant-baseline=\"middle\" text-anchor=\"middle\" font-size=\"14px\" font-family=\"Arial\">#2</text><rect x=\"874.3239062500002\" y=\"25.0\" width=\"84.62792968750001\" height=\"40\" stroke=\"black\" fill=\"white\" stroke-width=\"1\" /><text x=\"916.6378710937502\" y=\"45.0\" dominant-baseline=\"middle\" text-anchor=\"middle\" font-size=\"14px\" font-family=\"Arial\">ZZ</text><rect x=\"874.3239062500002\" y=\"125.0\" width=\"84.62792968750001\" height=\"40\" stroke=\"black\" fill=\"white\" stroke-width=\"1\" /><text x=\"916.6378710937502\" y=\"145.0\" dominant-baseline=\"middle\" text-anchor=\"middle\" font-size=\"14px\" font-family=\"Arial\">ZZ^-0.654</text><rect x=\"978.9518359375002\" y=\"25.0\" width=\"60.299375\" height=\"40\" stroke=\"black\" fill=\"white\" stroke-width=\"1\" /><text x=\"1009.1015234375002\" y=\"45.0\" dominant-baseline=\"middle\" text-anchor=\"middle\" font-size=\"14px\" font-family=\"Arial\">D(0.01)</text><rect x=\"978.9518359375002\" y=\"125.0\" width=\"60.299375\" height=\"40\" stroke=\"black\" fill=\"white\" stroke-width=\"1\" /><text x=\"1009.1015234375002\" y=\"145.0\" dominant-baseline=\"middle\" text-anchor=\"middle\" font-size=\"14px\" font-family=\"Arial\">#2</text><rect x=\"1059.2512109375002\" y=\"25.0\" width=\"84.62792968750001\" height=\"40\" stroke=\"black\" fill=\"white\" stroke-width=\"1\" /><text x=\"1101.5651757812502\" y=\"45.0\" dominant-baseline=\"middle\" text-anchor=\"middle\" font-size=\"14px\" font-family=\"Arial\">ZZ</text><rect x=\"1059.2512109375002\" y=\"175.0\" width=\"84.62792968750001\" height=\"40\" stroke=\"black\" fill=\"white\" stroke-width=\"1\" /><text x=\"1101.5651757812502\" y=\"195.0\" dominant-baseline=\"middle\" text-anchor=\"middle\" font-size=\"14px\" font-family=\"Arial\">ZZ^-0.654</text><rect x=\"1153.8791406250002\" y=\"25.0\" width=\"60.299375000000005\" height=\"40\" stroke=\"black\" fill=\"white\" stroke-width=\"1\" /><text x=\"1184.0288281250002\" y=\"45.0\" dominant-baseline=\"middle\" text-anchor=\"middle\" font-size=\"14px\" font-family=\"Arial\">D(0.01)</text><rect x=\"1153.8791406250002\" y=\"175.0\" width=\"60.299375000000005\" height=\"40\" stroke=\"black\" fill=\"white\" stroke-width=\"1\" /><text x=\"1184.0288281250002\" y=\"195.0\" dominant-baseline=\"middle\" text-anchor=\"middle\" font-size=\"14px\" font-family=\"Arial\">#2</text><rect x=\"1214.1785156250003\" y=\"75.0\" width=\"84.62792968750001\" height=\"40\" stroke=\"black\" fill=\"white\" stroke-width=\"1\" /><text x=\"1256.4924804687503\" y=\"95.0\" dominant-baseline=\"middle\" text-anchor=\"middle\" font-size=\"14px\" font-family=\"Arial\">ZZ</text><rect x=\"1214.1785156250003\" y=\"125.0\" width=\"84.62792968750001\" height=\"40\" stroke=\"black\" fill=\"white\" stroke-width=\"1\" /><text x=\"1256.4924804687503\" y=\"145.0\" dominant-baseline=\"middle\" text-anchor=\"middle\" font-size=\"14px\" font-family=\"Arial\">ZZ^-0.654</text><rect x=\"1328.8064453125003\" y=\"75.0\" width=\"60.299375\" height=\"40\" stroke=\"black\" fill=\"white\" stroke-width=\"1\" /><text x=\"1358.9561328125003\" y=\"95.0\" dominant-baseline=\"middle\" text-anchor=\"middle\" font-size=\"14px\" font-family=\"Arial\">D(0.01)</text><rect x=\"1328.8064453125003\" y=\"125.0\" width=\"60.299375\" height=\"40\" stroke=\"black\" fill=\"white\" stroke-width=\"1\" /><text x=\"1358.9561328125003\" y=\"145.0\" dominant-baseline=\"middle\" text-anchor=\"middle\" font-size=\"14px\" font-family=\"Arial\">#2</text><rect x=\"1409.1058203125003\" y=\"75.0\" width=\"84.62792968750001\" height=\"40\" stroke=\"black\" fill=\"white\" stroke-width=\"1\" /><text x=\"1451.4197851562503\" y=\"95.0\" dominant-baseline=\"middle\" text-anchor=\"middle\" font-size=\"14px\" font-family=\"Arial\">ZZ</text><rect x=\"1409.1058203125003\" y=\"175.0\" width=\"84.62792968750001\" height=\"40\" stroke=\"black\" fill=\"white\" stroke-width=\"1\" /><text x=\"1451.4197851562503\" y=\"195.0\" dominant-baseline=\"middle\" text-anchor=\"middle\" font-size=\"14px\" font-family=\"Arial\">ZZ^-0.654</text><rect x=\"1513.7337500000003\" y=\"75.0\" width=\"60.299375\" height=\"40\" stroke=\"black\" fill=\"white\" stroke-width=\"1\" /><text x=\"1543.8834375000004\" y=\"95.0\" dominant-baseline=\"middle\" text-anchor=\"middle\" font-size=\"14px\" font-family=\"Arial\">D(0.01)</text><rect x=\"1513.7337500000003\" y=\"175.0\" width=\"60.299375\" height=\"40\" stroke=\"black\" fill=\"white\" stroke-width=\"1\" /><text x=\"1543.8834375000004\" y=\"195.0\" dominant-baseline=\"middle\" text-anchor=\"middle\" font-size=\"14px\" font-family=\"Arial\">#2</text><rect x=\"1594.0331250000004\" y=\"125.0\" width=\"84.62792968750001\" height=\"40\" stroke=\"black\" fill=\"white\" stroke-width=\"1\" /><text x=\"1636.3470898437504\" y=\"145.0\" dominant-baseline=\"middle\" text-anchor=\"middle\" font-size=\"14px\" font-family=\"Arial\">ZZ</text><rect x=\"1594.0331250000004\" y=\"175.0\" width=\"84.62792968750001\" height=\"40\" stroke=\"black\" fill=\"white\" stroke-width=\"1\" /><text x=\"1636.3470898437504\" y=\"195.0\" dominant-baseline=\"middle\" text-anchor=\"middle\" font-size=\"14px\" font-family=\"Arial\">ZZ^-0.654</text><rect x=\"1698.6610546875004\" y=\"125.0\" width=\"60.299375\" height=\"40\" stroke=\"black\" fill=\"white\" stroke-width=\"1\" /><text x=\"1728.8107421875004\" y=\"145.0\" dominant-baseline=\"middle\" text-anchor=\"middle\" font-size=\"14px\" font-family=\"Arial\">D(0.01)</text><rect x=\"1698.6610546875004\" y=\"175.0\" width=\"60.299375\" height=\"40\" stroke=\"black\" fill=\"white\" stroke-width=\"1\" /><text x=\"1728.8107421875004\" y=\"195.0\" dominant-baseline=\"middle\" text-anchor=\"middle\" font-size=\"14px\" font-family=\"Arial\">#2</text></svg>"
          },
          "metadata": {},
          "execution_count": 14
        }
      ],
      "source": [
        "def qubit_parameters_reshape(params):\n",
        "        # Parameters reshape\n",
        "        tl = np.array([params[:num_qubits]])\n",
        "        pl = np.array([params[num_qubits : 2 * num_qubits]])\n",
        "        tqtl = np.array([params[-1]])\n",
        "\n",
        "        return tl, pl, tqtl\n",
        "\n",
        "num_qubits = 4\n",
        "num_layers = 1\n",
        "\n",
        "params = np.random.uniform(low=0, high=2 * np.pi, size= num_qubits * 2 + 1)\n",
        "print(f'params = {params}')\n",
        "print()\n",
        "tl, pl, tqtl = qubit_parameters_reshape(params)\n",
        "print(f'theta_list = {tl}')\n",
        "print(f'phi_list = {pl}')\n",
        "print(f'tqt_list = {tqtl}')\n",
        "\n",
        "qubit__vqc = qubit_variational_qc(tl, pl, tqtl, num_layers, num_qubits, measurement=False, with_noise=True)\n",
        "SVGCircuit(qubit__vqc)"
      ]
    },
    {
      "cell_type": "code",
      "execution_count": null,
      "metadata": {
        "colab": {
          "base_uri": "https://localhost:8080/",
          "height": 329
        },
        "id": "ArmmMWVT_63r",
        "outputId": "4b11468f-1a7a-459b-d147-a9050e385f91"
      },
      "outputs": [
        {
          "output_type": "stream",
          "name": "stdout",
          "text": [
            "params = [0.94383694 4.7248098  5.45697788 4.89529836 1.24830691 4.24920837\n",
            " 5.20589918 3.14187612 5.93463843 2.99889259 2.41834169 2.14226769\n",
            " 1.14771936]\n",
            "\n",
            "theta_list = [array([[0.94383694, 4.7248098 ],\n",
            "       [5.45697788, 4.89529836],\n",
            "       [1.24830691, 4.24920837]])]\n",
            "phi_list = [array([[5.20589918, 3.14187612],\n",
            "       [5.93463843, 2.99889259],\n",
            "       [2.41834169, 2.14226769]])]\n",
            "tqt_list = [array([1.14771936])]\n",
            "\n"
          ]
        },
        {
          "output_type": "execute_result",
          "data": {
            "text/plain": [
              "<cirq.contrib.svg.svg.SVGCircuit at 0x7f79fa75afa0>"
            ],
            "image/svg+xml": "<svg xmlns=\"http://www.w3.org/2000/svg\" width=\"1229.8693359375002\" height=\"100.0\"><line x1=\"42.98236328125\" x2=\"1199.8693359375002\" y1=\"25.0\" y2=\"25.0\" stroke=\"#1967d2\" stroke-width=\"1\" /><line x1=\"42.98236328125\" x2=\"1199.8693359375002\" y1=\"75.0\" y2=\"75.0\" stroke=\"#1967d2\" stroke-width=\"1\" /><line x1=\"944.5029296875\" x2=\"944.5029296875\" y1=\"25.0\" y2=\"75.0\" stroke=\"black\" stroke-width=\"3\" /><line x1=\"1064.5802148437501\" x2=\"1064.5802148437501\" y1=\"25.0\" y2=\"75.0\" stroke=\"black\" stroke-width=\"3\" /><line x1=\"1159.8693359375002\" x2=\"1159.8693359375002\" y1=\"25.0\" y2=\"75.0\" stroke=\"black\" stroke-width=\"3\" /><rect x=\"10.0\" y=\"5.0\" width=\"65.9647265625\" height=\"40\" stroke=\"black\" fill=\"white\" stroke-width=\"0\" /><text x=\"42.98236328125\" y=\"25.0\" dominant-baseline=\"middle\" text-anchor=\"middle\" font-size=\"14px\" font-family=\"Arial\">0 (d=4): </text><rect x=\"10.0\" y=\"55.0\" width=\"65.9647265625\" height=\"40\" stroke=\"black\" fill=\"white\" stroke-width=\"0\" /><text x=\"42.98236328125\" y=\"75.0\" dominant-baseline=\"middle\" text-anchor=\"middle\" font-size=\"14px\" font-family=\"Arial\">1 (d=4): </text><rect x=\"95.9647265625\" y=\"5.0\" width=\"128.35796875\" height=\"40\" stroke=\"black\" fill=\"white\" stroke-width=\"1\" /><text x=\"160.1437109375\" y=\"25.0\" dominant-baseline=\"middle\" text-anchor=\"middle\" font-size=\"14px\" font-family=\"Arial\">R₀¹(0.944, 5.206)</text><rect x=\"95.9647265625\" y=\"55.0\" width=\"128.35796875\" height=\"40\" stroke=\"black\" fill=\"white\" stroke-width=\"1\" /><text x=\"160.1437109375\" y=\"75.0\" dominant-baseline=\"middle\" text-anchor=\"middle\" font-size=\"14px\" font-family=\"Arial\">R₀¹(4.725, 3.142)</text><rect x=\"244.3226953125\" y=\"5.0\" width=\"99.55871093750001\" height=\"40\" stroke=\"black\" fill=\"white\" stroke-width=\"1\" /><text x=\"294.10205078125\" y=\"25.0\" dominant-baseline=\"middle\" text-anchor=\"middle\" font-size=\"14px\" font-family=\"Arial\">Φ(p1=0.011)</text><rect x=\"244.3226953125\" y=\"55.0\" width=\"99.55871093750001\" height=\"40\" stroke=\"black\" fill=\"white\" stroke-width=\"1\" /><text x=\"294.10205078125\" y=\"75.0\" dominant-baseline=\"middle\" text-anchor=\"middle\" font-size=\"14px\" font-family=\"Arial\">Φ(p1=0.011)</text><rect x=\"363.88140624999994\" y=\"5.0\" width=\"128.35796875\" height=\"40\" stroke=\"black\" fill=\"white\" stroke-width=\"1\" /><text x=\"428.06039062499997\" y=\"25.0\" dominant-baseline=\"middle\" text-anchor=\"middle\" font-size=\"14px\" font-family=\"Arial\">R₀²(5.457, 5.935)</text><rect x=\"363.88140624999994\" y=\"55.0\" width=\"128.35796875\" height=\"40\" stroke=\"black\" fill=\"white\" stroke-width=\"1\" /><text x=\"428.06039062499997\" y=\"75.0\" dominant-baseline=\"middle\" text-anchor=\"middle\" font-size=\"14px\" font-family=\"Arial\">R₀²(4.895, 2.999)</text><rect x=\"512.239375\" y=\"5.0\" width=\"99.55871093750001\" height=\"40\" stroke=\"black\" fill=\"white\" stroke-width=\"1\" /><text x=\"562.01873046875\" y=\"25.0\" dominant-baseline=\"middle\" text-anchor=\"middle\" font-size=\"14px\" font-family=\"Arial\">Φ(p1=0.011)</text><rect x=\"512.239375\" y=\"55.0\" width=\"99.55871093750001\" height=\"40\" stroke=\"black\" fill=\"white\" stroke-width=\"1\" /><text x=\"562.01873046875\" y=\"75.0\" dominant-baseline=\"middle\" text-anchor=\"middle\" font-size=\"14px\" font-family=\"Arial\">Φ(p1=0.011)</text><rect x=\"631.7980859375\" y=\"5.0\" width=\"128.35796875\" height=\"40\" stroke=\"black\" fill=\"white\" stroke-width=\"1\" /><text x=\"695.9770703125\" y=\"25.0\" dominant-baseline=\"middle\" text-anchor=\"middle\" font-size=\"14px\" font-family=\"Arial\">R₀³(1.248, 2.418)</text><rect x=\"631.7980859375\" y=\"55.0\" width=\"128.35796875\" height=\"40\" stroke=\"black\" fill=\"white\" stroke-width=\"1\" /><text x=\"695.9770703125\" y=\"75.0\" dominant-baseline=\"middle\" text-anchor=\"middle\" font-size=\"14px\" font-family=\"Arial\">R₀³(4.249, 2.142)</text><rect x=\"780.1560546875\" y=\"5.0\" width=\"99.55871093750001\" height=\"40\" stroke=\"black\" fill=\"white\" stroke-width=\"1\" /><text x=\"829.9354101562501\" y=\"25.0\" dominant-baseline=\"middle\" text-anchor=\"middle\" font-size=\"14px\" font-family=\"Arial\">Φ(p1=0.011)</text><rect x=\"780.1560546875\" y=\"55.0\" width=\"99.55871093750001\" height=\"40\" stroke=\"black\" fill=\"white\" stroke-width=\"1\" /><text x=\"829.9354101562501\" y=\"75.0\" dominant-baseline=\"middle\" text-anchor=\"middle\" font-size=\"14px\" font-family=\"Arial\">Φ(p1=0.011)</text><rect x=\"899.714765625\" y=\"5.0\" width=\"89.57632812500002\" height=\"40\" stroke=\"black\" fill=\"white\" stroke-width=\"1\" /><text x=\"944.5029296875\" y=\"25.0\" dominant-baseline=\"middle\" text-anchor=\"middle\" font-size=\"14px\" font-family=\"Arial\">ZZ₀¹(1.148)</text><rect x=\"899.714765625\" y=\"55.0\" width=\"89.57632812500002\" height=\"40\" stroke=\"black\" fill=\"white\" stroke-width=\"1\" /><text x=\"944.5029296875\" y=\"75.0\" dominant-baseline=\"middle\" text-anchor=\"middle\" font-size=\"14px\" font-family=\"Arial\">ZZ₀¹(1.148)</text><rect x=\"1009.2910937500001\" y=\"5.0\" width=\"110.5782421875\" height=\"40\" stroke=\"black\" fill=\"white\" stroke-width=\"1\" /><text x=\"1064.5802148437501\" y=\"25.0\" dominant-baseline=\"middle\" text-anchor=\"middle\" font-size=\"14px\" font-family=\"Arial\">ΦΦ(p2=0.040)</text><rect x=\"1009.2910937500001\" y=\"55.0\" width=\"110.5782421875\" height=\"40\" stroke=\"black\" fill=\"white\" stroke-width=\"1\" /><text x=\"1064.5802148437501\" y=\"75.0\" dominant-baseline=\"middle\" text-anchor=\"middle\" font-size=\"14px\" font-family=\"Arial\">ΦΦ(p2=0.040)</text><rect x=\"1139.8693359375002\" y=\"5.0\" width=\"40\" height=\"40\" stroke=\"black\" fill=\"white\" stroke-width=\"1\" /><text x=\"1159.8693359375002\" y=\"25.0\" dominant-baseline=\"middle\" text-anchor=\"middle\" font-size=\"18px\" font-family=\"Arial\">|</text><rect x=\"1139.8693359375002\" y=\"55.0\" width=\"40\" height=\"40\" stroke=\"black\" fill=\"white\" stroke-width=\"1\" /><text x=\"1159.8693359375002\" y=\"75.0\" dominant-baseline=\"middle\" text-anchor=\"middle\" font-size=\"18px\" font-family=\"Arial\">|</text></svg>"
          },
          "metadata": {},
          "execution_count": 15
        }
      ],
      "source": [
        "def qudit_parameters_reshape(params):\n",
        "    tl = [params[:num_qudits * 3].reshape((3, num_qudits))]\n",
        "    pl = [params[num_qudits * 3:2 * num_qudits * 3].reshape((3, num_qudits))]\n",
        "    tqtl = [params[2 * num_qudits * 3:]]\n",
        "\n",
        "    return tl, pl, tqtl\n",
        "\n",
        "num_qudits = 2\n",
        "num_layers = 1\n",
        "\n",
        "params = np.random.uniform(low=0, high=2 * np.pi, size= num_qudits * 6 + 1)\n",
        "print(f'params = {params}')\n",
        "print()\n",
        "tl, pl, tqtl = qudit_parameters_reshape(params)\n",
        "print(f'theta_list = {tl}')\n",
        "print(f'phi_list = {pl}')\n",
        "print(f'tqt_list = {tqtl}')\n",
        "print()\n",
        "qudit__vqc = variational_qc(tl, pl, tqtl, num_layers, num_qudits, measurement=False, with_noise=True)\n",
        "SVGCircuit(qudit__vqc)"
      ]
    },
    {
      "cell_type": "markdown",
      "metadata": {
        "id": "zxA1Kt-J16x2"
      },
      "source": [
        "## Ising problem instanse\n"
      ]
    },
    {
      "cell_type": "markdown",
      "metadata": {
        "id": "un-d9r44K-Ns"
      },
      "source": [
        "\\begin{equation}\n",
        "    H =  - J\\sum\\limits_i {S_i^zS_{i + 1}^z - B\\sum\\limits_i {S_i^x} }\n",
        "\\end{equation}\n",
        "\n",
        "\\begin{equation}\n",
        "    S = -1, 1\n",
        "\\end{equation}\n",
        "\n",
        "\\begin{equation}\n",
        "    H =  - \\frac{J}{4}\\sum\\limits_i {\\sigma_i^z\\sigma_{i + 1}^z - \\frac{B}{2}\\sum\\limits_i {\\sigma_i^x} }\n",
        "\\end{equation}\n",
        "\n",
        "\\begin{equation}\n",
        "    \\sigma = 0, 1\n",
        "\\end{equation}"
      ]
    },
    {
      "cell_type": "markdown",
      "metadata": {
        "id": "uCTBkb_SoV_H"
      },
      "source": [
        "Create Ising interaction matrix"
      ]
    },
    {
      "cell_type": "code",
      "execution_count": null,
      "metadata": {
        "colab": {
          "base_uri": "https://localhost:8080/"
        },
        "id": "AqpEfNsl2aXN",
        "outputId": "b88ac293-4969-4694-8d01-fb5143b425bd"
      },
      "outputs": [
        {
          "output_type": "execute_result",
          "data": {
            "text/plain": [
              "array([[ 0.        , -0.36598893,  0.        ,  0.        ],\n",
              "       [ 0.        ,  0.        , -0.31812738,  0.        ],\n",
              "       [ 0.        ,  0.        ,  0.        , -0.31991082],\n",
              "       [-0.80685527,  0.        ,  0.        ,  0.        ]])"
            ]
          },
          "metadata": {},
          "execution_count": 16
        }
      ],
      "source": [
        "n_qubits = 4\n",
        "qubits = [cirq.LineQubit(i) for i in range(n_qubits)]\n",
        "\n",
        "J = np.zeros((n_qubits, n_qubits))\n",
        "\n",
        "for i in range(n_qubits):\n",
        "    J[i][(i + 1) % n_qubits] = -np.random.rand() # np.random.rand()\n",
        "\n",
        "J"
      ]
    },
    {
      "cell_type": "markdown",
      "metadata": {
        "id": "C7MKIdWSBnxv"
      },
      "source": [
        "field multiplicator"
      ]
    },
    {
      "cell_type": "code",
      "execution_count": null,
      "metadata": {
        "colab": {
          "base_uri": "https://localhost:8080/"
        },
        "id": "IAEJ73eZBiVg",
        "outputId": "3133e924-ca2b-4bbf-d350-4b718a09dee7"
      },
      "outputs": [
        {
          "output_type": "execute_result",
          "data": {
            "text/plain": [
              "array([1.06749531, 0.67723765, 1.00578307, 2.1779759 ])"
            ]
          },
          "metadata": {},
          "execution_count": 17
        }
      ],
      "source": [
        "h_i = np.random.rand(n_qubits) * 6\n",
        "h_i"
      ]
    },
    {
      "cell_type": "markdown",
      "metadata": {
        "id": "pAMY0H5L_pac"
      },
      "source": [
        "Objective function that takes a list of variational parameters and returns Ising energy"
      ]
    },
    {
      "cell_type": "code",
      "execution_count": null,
      "metadata": {
        "colab": {
          "base_uri": "https://localhost:8080/"
        },
        "id": "kDskJSDY6Hso",
        "outputId": "3d412d4b-a51c-4242-ba40-f337c91ccc23"
      },
      "outputs": [
        {
          "output_type": "stream",
          "name": "stdout",
          "text": [
            "0.091*Z(q(0))*Z(q(1))-1.601*X(q(0))+0.080*Z(q(1))*Z(q(2))-1.016*X(q(1))+0.080*Z(q(2))*Z(q(3))-1.509*X(q(2))+0.202*Z(q(0))*Z(q(3))-3.267*X(q(3))\n"
          ]
        }
      ],
      "source": [
        "def ising_hamiltonian(B):    \n",
        "    hamiltonian = 0\n",
        "    for i1 in range(len(qubits)):\n",
        "        hamiltonian += -0.25  * complex(J[i1][(i1 + 1) % n_qubits]) * cirq.Z(qubits[i1]) * cirq.Z(qubits[(i1 + 1) % n_qubits])\n",
        "        \n",
        "        hamiltonian += -0.5 * complex(B) * h_i[i1] * cirq.X(qubits[i1])\n",
        "    \n",
        "    return hamiltonian\n",
        "\n",
        "print(ising_hamiltonian(3))"
      ]
    },
    {
      "cell_type": "code",
      "execution_count": null,
      "metadata": {
        "id": "qDdV0fOSSM_-"
      },
      "outputs": [],
      "source": [
        "initial_rho = np.zeros((16, 16))\n",
        "initial_rho[0][0] += 1"
      ]
    },
    {
      "cell_type": "code",
      "execution_count": null,
      "metadata": {
        "id": "nS4ZDgXo180G"
      },
      "outputs": [],
      "source": [
        "def objective_function(params, J, B, num_qubits, dimension, rho, show_qc=False, with_noise=True):\n",
        "\n",
        "    if dimension == 2:\n",
        "        tl, pl, tqtl = qubit_parameters_reshape(params)\n",
        "        vqe_circuit = qubit_variational_qc(tl, pl, tqtl, 1, num_qubits, measurement=False, with_noise=with_noise)\n",
        "\n",
        "    elif dimension == 4:\n",
        "        tl, pl, tqtl = qudit_parameters_reshape(params)\n",
        "        vqe_circuit = variational_qc(tl, pl, tqtl, 1, num_qudits, measurement=False, with_noise=with_noise)\n",
        "\n",
        "    if show_qc:\n",
        "        print(vqe_circuit)\n",
        "\n",
        "    #Simulate\n",
        "    rho = simulator.simulate(vqe_circuit, initial_state=initial_rho).final_density_matrix\n",
        "    qmap = {q:i for i, q in enumerate(qubits)}\n",
        "    expectation = ising_hamiltonian(B).expectation_from_density_matrix(rho, qmap).real\n",
        "\n",
        "    return expectation / 4"
      ]
    },
    {
      "cell_type": "markdown",
      "metadata": {
        "id": "TvuTxUe07GpB"
      },
      "source": [
        "qubits"
      ]
    },
    {
      "cell_type": "code",
      "execution_count": null,
      "metadata": {
        "id": "HjHMKbY2vyv1"
      },
      "outputs": [],
      "source": [
        "import warnings\n",
        "warnings.filterwarnings('ignore')"
      ]
    },
    {
      "cell_type": "code",
      "execution_count": null,
      "metadata": {
        "colab": {
          "base_uri": "https://localhost:8080/"
        },
        "id": "yuB3gqEK-v2f",
        "outputId": "f19ee1dd-76d8-4b6f-ee7e-1edaeb8603a9"
      },
      "outputs": [
        {
          "output_type": "stream",
          "name": "stdout",
          "text": [
            "                                                                                                                                                 ┌───────────────┐\n",
            "0 (d=2): ───R₀¹(4.133, 4.753)───D(0.001)────────────────────────────────────────────────────ZZ─────────D(0.01)───ZZ─────────D(0.01)───ZZ──────────D(0.01)────────────────────────────────────────────────────────────────\n",
            "                                                                                            │          │         │          │         │           │\n",
            "1 (d=2): ───────────────────────R₀¹(1.680, 6.208)───D(0.001)────────────────────────────────ZZ^0.105───#2────────┼──────────┼─────────┼───────────┼──────ZZ──────────D(0.01)───ZZ─────────D(0.01)────────────────────────\n",
            "                                                                                                                 │          │         │           │      │           │         │          │\n",
            "2 (d=2): ───────────────────────────────────────────R₀¹(4.749, 5.037)───D(0.001)─────────────────────────────────ZZ^0.105───#2────────┼───────────┼──────ZZ^0.105────#2────────┼──────────┼─────────ZZ─────────D(0.01)───\n",
            "                                                                                                                                      │           │                            │          │         │          │\n",
            "3 (d=2): ───────────────────────────────────────────────────────────────R₀¹(4.807, 4.232)───D(0.001)──────────────────────────────────ZZ^0.105────#2───────────────────────────ZZ^0.105───#2────────ZZ^0.105───#2────────\n",
            "                                                                                                                                                 └───────────────┘\n"
          ]
        },
        {
          "output_type": "execute_result",
          "data": {
            "text/plain": [
              "-0.0011684813513899504"
            ]
          },
          "metadata": {},
          "execution_count": 22
        }
      ],
      "source": [
        "num_layers = 1  # number of variational layers\n",
        "num_qubits = 4\n",
        "dimension = 2\n",
        "\n",
        "B = 0\n",
        "params = np.random.uniform(low=0, high=2 * np.pi, size= num_qubits * 2 + 1)\n",
        "objective_function(params, J, B, num_qubits, dimension, initial_rho, show_qc=True)"
      ]
    },
    {
      "cell_type": "markdown",
      "metadata": {
        "id": "tbU7QFOOgN3Q"
      },
      "source": [
        "qudits"
      ]
    },
    {
      "cell_type": "code",
      "execution_count": null,
      "metadata": {
        "colab": {
          "base_uri": "https://localhost:8080/"
        },
        "id": "754wY-GeQdQp",
        "outputId": "092b6474-fbd9-4193-aa60-7189cfdd50fd"
      },
      "outputs": [
        {
          "output_type": "stream",
          "name": "stdout",
          "text": [
            "0 (d=4): ───R₀¹(3.192, 4.741)───Φ(p1=0.011)───R₀²(0.593, 0.501)───Φ(p1=0.011)───R₀³(1.592, 0.157)───Φ(p1=0.011)───ZZ₀¹(2.842)───ΦΦ(p2=0.040)───|───\n",
            "                                                                                                                  │             │              │\n",
            "1 (d=4): ───R₀¹(3.766, 3.901)───Φ(p1=0.011)───R₀²(2.385, 4.965)───Φ(p1=0.011)───R₀³(3.279, 3.606)───Φ(p1=0.011)───ZZ₀¹(2.842)───ΦΦ(p2=0.040)───|───\n"
          ]
        },
        {
          "output_type": "execute_result",
          "data": {
            "text/plain": [
              "-0.09181631315859626"
            ]
          },
          "metadata": {},
          "execution_count": 23
        }
      ],
      "source": [
        "num_layers = 1\n",
        "num_qudits = 2\n",
        "dimension = 4\n",
        "\n",
        "B = 0\n",
        "params = np.random.uniform(low=0, high=2 * np.pi, size= num_qudits * 6 + 1)\n",
        "objective_function(params, J, B, num_qudits, dimension, initial_rho, show_qc=True)"
      ]
    },
    {
      "cell_type": "markdown",
      "metadata": {
        "id": "93FCOrwPAUmQ"
      },
      "source": [
        "##Optimization - Noise"
      ]
    },
    {
      "cell_type": "code",
      "execution_count": null,
      "metadata": {
        "id": "W9thEiD-ylb-"
      },
      "outputs": [],
      "source": [
        "def corrected_rho(A):\n",
        "\n",
        "    # hermitize\n",
        "    B = (A + A.conj().T) / 2\n",
        "\n",
        "    # add positive definiteness\n",
        "    C = 1e-6 * np.identity(len(B))\n",
        "\n",
        "    # correct trace\n",
        "    D = C / np.trace(C)\n",
        "\n",
        "    return D"
      ]
    },
    {
      "cell_type": "markdown",
      "metadata": {
        "id": "vM8q4yShf4ZW"
      },
      "source": [
        "### Exact numerical solution"
      ]
    },
    {
      "cell_type": "markdown",
      "metadata": {
        "id": "GD2ydONIDkN_"
      },
      "source": [
        "VQE train function"
      ]
    },
    {
      "cell_type": "code",
      "execution_count": null,
      "metadata": {
        "id": "sTBBzlIRb0Ze"
      },
      "outputs": [],
      "source": [
        "def train(b_field, max_layers, n_qubits, dimension, n_initial, verbose=False, with_noise=False):\n",
        "    \n",
        "    layers_energy = []\n",
        "    rho = initial_rho\n",
        "    \n",
        "    for layer in range(1, max_layers + 1):\n",
        "\n",
        "        cost_energy = []\n",
        "        angles = []\n",
        "\n",
        "        for ii in range(n_initial):\n",
        "            #print counter\n",
        "            if verbose:\n",
        "                print()\n",
        "                print(f'Layer = {layer}, random initizalization {ii}')\n",
        "            \n",
        "            # randomly initialize variational parameters within appropriate bounds\n",
        "            np.random.seed(ii)\n",
        "            if dimension == 2:\n",
        "                params_size = num_qubits * 2 + 1\n",
        "            elif dimension == 4:\n",
        "                params_size = num_qudits * 6 + 1\n",
        "            \n",
        "            #initial params\n",
        "            if ii == 0:\n",
        "                params0 = np.zeros(params_size).tolist()\n",
        "            else:\n",
        "                params0 = np.random.uniform(low=0, high=2 * np.pi, size=params_size).tolist()\n",
        "\n",
        "            bnds = [(0, 2 * np.pi) for _ in range(int(len(params0)))]\n",
        "\n",
        "            # run classical optimization\n",
        "            if dimension == 2:\n",
        "                result = minimize(objective_function, params0, args=(J, b_field, num_qubits, dimension, rho), \n",
        "                            method='Nelder-Mead', bounds=bnds, options={'maxiter': 100})\n",
        "            elif dimension == 4:\n",
        "                result = minimize(objective_function, params0, args=(J, b_field, num_qudits, dimension, rho), \n",
        "                            method='Nelder-Mead', bounds=bnds, options={'maxiter': 100})\n",
        "            \n",
        "\n",
        "            # store result of classical optimization\n",
        "            result_energy = result.fun\n",
        "            cost_energy.append(result_energy)\n",
        "            result_angle = result.x\n",
        "            angles.append(result_angle)\n",
        "            if verbose:\n",
        "                print('Optimal avg energy:', result_energy)\n",
        "                print('Optimal angles:', result_angle)\n",
        "                print()\n",
        "        \n",
        "        # store energy minimum (over different initial configurations)\n",
        "        energy_min = np.min(cost_energy)\n",
        "        optim_angles = angles[np.argmin(cost_energy)]\n",
        "        if verbose:\n",
        "            print()\n",
        "            print('Energy per initial seeds:', cost_energy)\n",
        "            print('Best energy:', energy_min)\n",
        "            print('Best angles:', optim_angles)\n",
        "            print()\n",
        "        \n",
        "        layers_energy.append(energy_min)\n",
        "        \n",
        "        # Parameters reshape\n",
        "        if dimension == 2:\n",
        "            tl, pl, tqtl = qubit_parameters_reshape(optim_angles)\n",
        "            vqe_circuit = qubit_variational_qc(tl, pl, tqtl, 1, num_qubits, measurement=False, with_noise=with_noise)\n",
        "        elif dimension == 4:\n",
        "            tl, pl, tqtl = qudit_parameters_reshape(optim_angles)\n",
        "            vqe_circuit = variational_qc(tl, pl, tqtl, 1, num_qudits, measurement=False, with_noise=with_noise)\n",
        "        \n",
        "        # VQE circuit simulation-\n",
        "        rho = simulator.simulate(vqe_circuit, initial_state=rho).final_density_matrix\n",
        "\n",
        "        print('Not corrected')\n",
        "        print(f'trace_rho = {np.trace(rho)}')\n",
        "        print(f'np.max(rho - rho.conj().T) = {np.max(rho - rho.conj().T)}')\n",
        "        print(f'eigval_rho = {np.linalg.eig(rho)[0]}')\n",
        "\n",
        "        rho = corrected_rho(rho)\n",
        "\n",
        "        print('Corrected')\n",
        "        print(f'trace_rho = {np.trace(rho)}')\n",
        "        print(f'np.max(rho - rho.conj().T) = {np.max(rho - rho.conj().T)}')\n",
        "        print(f'eigval_rho = {np.linalg.eig(rho)[0]}')\n",
        "        \n",
        "    return layers_energy"
      ]
    },
    {
      "cell_type": "markdown",
      "metadata": {
        "id": "Ml2ump7zDIXQ"
      },
      "source": [
        "Some settings"
      ]
    },
    {
      "cell_type": "code",
      "execution_count": null,
      "metadata": {
        "id": "4Lx-uuUfDAyI"
      },
      "outputs": [],
      "source": [
        "max_layers = 4\n",
        "n_initial = 4\n",
        "verbose = False"
      ]
    },
    {
      "cell_type": "markdown",
      "metadata": {
        "id": "dBA1h6WwDdwn"
      },
      "source": [
        "Linspace of B values for optimization"
      ]
    },
    {
      "cell_type": "code",
      "execution_count": null,
      "metadata": {
        "colab": {
          "base_uri": "https://localhost:8080/"
        },
        "id": "1BT85iUoDcic",
        "outputId": "23cea14b-dc8d-4028-da83-556a8bbdc3da"
      },
      "outputs": [
        {
          "output_type": "execute_result",
          "data": {
            "text/plain": [
              "array([0.        , 0.25992105, 0.58740105, 1.        , 1.5198421 ,\n",
              "       2.1748021 , 3.        , 4.0396842 , 5.34960421, 7.        ])"
            ]
          },
          "metadata": {},
          "execution_count": 27
        }
      ],
      "source": [
        "B_values = 2 ** np.linspace(0, 3, 10) - 1\n",
        "B_values"
      ]
    },
    {
      "cell_type": "markdown",
      "metadata": {
        "id": "COq5Fipy19C5"
      },
      "source": [
        "We can numerically solve for GS energy of TIM"
      ]
    },
    {
      "cell_type": "code",
      "execution_count": null,
      "metadata": {
        "id": "Aashr23Df6lm"
      },
      "outputs": [],
      "source": [
        "def exact_solution(B):\n",
        "\n",
        "    if B == 0:\n",
        "        return -0.25\n",
        "\n",
        "    l_value = 1 / (2 * B)\n",
        "    gs_energy = 0\n",
        "    \n",
        "    # numerical integration\n",
        "    step_size = 0.0001\n",
        "    k_values = np.arange(0, np.pi, step_size)\n",
        "    integration_values = [step_size * np.sqrt(1 + l_value ** 2 + 2 * l_value * np.cos(ki)) for ki in k_values]\n",
        "    integral = np.sum(integration_values)\n",
        "    gs_energy = 1 * integral / (4 * np.pi*l_value)\n",
        "    \n",
        "    return -1 * gs_energy"
      ]
    },
    {
      "cell_type": "code",
      "execution_count": null,
      "metadata": {
        "id": "ifU31Xlgi4jr"
      },
      "outputs": [],
      "source": [
        "results_exact = [exact_solution(B) for B in B_values]"
      ]
    },
    {
      "cell_type": "markdown",
      "metadata": {
        "id": "jshXhEcUbx7N"
      },
      "source": [
        "### Classical optimization qubits d = 2\n",
        " "
      ]
    },
    {
      "cell_type": "code",
      "execution_count": null,
      "metadata": {
        "id": "iNfw3NYLc8LL"
      },
      "outputs": [],
      "source": [
        "num_qubits = 4\n",
        "dimension = 2"
      ]
    },
    {
      "cell_type": "code",
      "execution_count": null,
      "metadata": {
        "colab": {
          "base_uri": "https://localhost:8080/",
          "height": 692
        },
        "id": "Fzr0ABrxhCCB",
        "outputId": "589edf09-416e-40d3-e5f8-92a2684c7856"
      },
      "outputs": [
        {
          "output_type": "stream",
          "name": "stdout",
          "text": [
            "Not corrected\n",
            "trace_rho = (0.9999997019767761+3.166292117384728e-08j)\n",
            "np.max(rho - rho.conj().T) = (3.725290298461914e-09-7.450580596923828e-09j)\n",
            "eigval_rho = [ 9.9999964e-01+3.1387636e-08j -2.2034243e-09+2.8807026e-10j\n",
            "  1.3863033e-10-7.3249167e-12j -9.3462599e-12-5.7972377e-12j\n",
            "  1.5977771e-12+3.7457087e-13j -1.2858868e-13-5.4267182e-14j\n",
            " -4.3867816e-14+9.1818465e-15j  1.8639865e-14+6.4292930e-15j\n",
            "  2.7506601e-16+3.0687257e-16j  2.3591196e-17+5.5319857e-17j\n",
            "  7.4256243e-18-1.1154126e-17j -3.7965977e-18-3.5474215e-18j\n",
            "  1.2820287e-19+2.0220420e-19j -1.3364456e-19-1.3208076e-19j\n",
            " -1.3568093e-22-9.6244224e-23j -1.1139500e-22+7.9775011e-23j]\n",
            "Corrected\n",
            "trace_rho = 1.0\n",
            "np.max(rho - rho.conj().T) = 0.0\n",
            "eigval_rho = [0.0625 0.0625 0.0625 0.0625 0.0625 0.0625 0.0625 0.0625 0.0625 0.0625\n",
            " 0.0625 0.0625 0.0625 0.0625 0.0625 0.0625]\n"
          ]
        },
        {
          "output_type": "error",
          "ename": "KeyboardInterrupt",
          "evalue": "ignored",
          "traceback": [
            "\u001b[0;31m---------------------------------------------------------------------------\u001b[0m",
            "\u001b[0;31mKeyboardInterrupt\u001b[0m                         Traceback (most recent call last)",
            "\u001b[0;32m<ipython-input-31-dc555aa86140>\u001b[0m in \u001b[0;36m<module>\u001b[0;34m\u001b[0m\n\u001b[1;32m      2\u001b[0m \u001b[0;34m\u001b[0m\u001b[0m\n\u001b[1;32m      3\u001b[0m \u001b[0;32mfor\u001b[0m \u001b[0mB\u001b[0m \u001b[0;32min\u001b[0m \u001b[0mB_values\u001b[0m\u001b[0;34m:\u001b[0m\u001b[0;34m\u001b[0m\u001b[0;34m\u001b[0m\u001b[0m\n\u001b[0;32m----> 4\u001b[0;31m     result = train(B, max_layers, num_qubits, dimension, n_initial,\n\u001b[0m\u001b[1;32m      5\u001b[0m                 verbose=verbose)\n\u001b[1;32m      6\u001b[0m     \u001b[0mvariational_results\u001b[0m\u001b[0;34m.\u001b[0m\u001b[0mappend\u001b[0m\u001b[0;34m(\u001b[0m\u001b[0mresult\u001b[0m\u001b[0;34m)\u001b[0m\u001b[0;34m\u001b[0m\u001b[0;34m\u001b[0m\u001b[0m\n",
            "\u001b[0;32m<ipython-input-25-fff71cf5d079>\u001b[0m in \u001b[0;36mtrain\u001b[0;34m(b_field, max_layers, n_qubits, dimension, n_initial, verbose, with_noise)\u001b[0m\n\u001b[1;32m     32\u001b[0m             \u001b[0;31m# run classical optimization\u001b[0m\u001b[0;34m\u001b[0m\u001b[0;34m\u001b[0m\u001b[0;34m\u001b[0m\u001b[0m\n\u001b[1;32m     33\u001b[0m             \u001b[0;32mif\u001b[0m \u001b[0mdimension\u001b[0m \u001b[0;34m==\u001b[0m \u001b[0;36m2\u001b[0m\u001b[0;34m:\u001b[0m\u001b[0;34m\u001b[0m\u001b[0;34m\u001b[0m\u001b[0m\n\u001b[0;32m---> 34\u001b[0;31m                 result = minimize(objective_function, params0, args=(J, b_field, num_qubits, dimension, rho), \n\u001b[0m\u001b[1;32m     35\u001b[0m                             method='Nelder-Mead', bounds=bnds, options={'maxiter': 100})\n\u001b[1;32m     36\u001b[0m             \u001b[0;32melif\u001b[0m \u001b[0mdimension\u001b[0m \u001b[0;34m==\u001b[0m \u001b[0;36m4\u001b[0m\u001b[0;34m:\u001b[0m\u001b[0;34m\u001b[0m\u001b[0;34m\u001b[0m\u001b[0m\n",
            "\u001b[0;32m/usr/local/lib/python3.8/dist-packages/scipy/optimize/_minimize.py\u001b[0m in \u001b[0;36mminimize\u001b[0;34m(fun, x0, args, method, jac, hess, hessp, bounds, constraints, tol, callback, options)\u001b[0m\n\u001b[1;32m    609\u001b[0m \u001b[0;34m\u001b[0m\u001b[0m\n\u001b[1;32m    610\u001b[0m     \u001b[0;32mif\u001b[0m \u001b[0mmeth\u001b[0m \u001b[0;34m==\u001b[0m \u001b[0;34m'nelder-mead'\u001b[0m\u001b[0;34m:\u001b[0m\u001b[0;34m\u001b[0m\u001b[0;34m\u001b[0m\u001b[0m\n\u001b[0;32m--> 611\u001b[0;31m         return _minimize_neldermead(fun, x0, args, callback, bounds=bounds,\n\u001b[0m\u001b[1;32m    612\u001b[0m                                     **options)\n\u001b[1;32m    613\u001b[0m     \u001b[0;32melif\u001b[0m \u001b[0mmeth\u001b[0m \u001b[0;34m==\u001b[0m \u001b[0;34m'powell'\u001b[0m\u001b[0;34m:\u001b[0m\u001b[0;34m\u001b[0m\u001b[0;34m\u001b[0m\u001b[0m\n",
            "\u001b[0;32m/usr/local/lib/python3.8/dist-packages/scipy/optimize/optimize.py\u001b[0m in \u001b[0;36m_minimize_neldermead\u001b[0;34m(func, x0, args, callback, maxiter, maxfev, disp, return_all, initial_simplex, xatol, fatol, adaptive, bounds, **unknown_options)\u001b[0m\n\u001b[1;32m    766\u001b[0m         \u001b[0;32mif\u001b[0m \u001b[0mbounds\u001b[0m \u001b[0;32mis\u001b[0m \u001b[0;32mnot\u001b[0m \u001b[0;32mNone\u001b[0m\u001b[0;34m:\u001b[0m\u001b[0;34m\u001b[0m\u001b[0;34m\u001b[0m\u001b[0m\n\u001b[1;32m    767\u001b[0m             \u001b[0mxr\u001b[0m \u001b[0;34m=\u001b[0m \u001b[0mnp\u001b[0m\u001b[0;34m.\u001b[0m\u001b[0mclip\u001b[0m\u001b[0;34m(\u001b[0m\u001b[0mxr\u001b[0m\u001b[0;34m,\u001b[0m \u001b[0mlower_bound\u001b[0m\u001b[0;34m,\u001b[0m \u001b[0mupper_bound\u001b[0m\u001b[0;34m)\u001b[0m\u001b[0;34m\u001b[0m\u001b[0;34m\u001b[0m\u001b[0m\n\u001b[0;32m--> 768\u001b[0;31m         \u001b[0mfxr\u001b[0m \u001b[0;34m=\u001b[0m \u001b[0mfunc\u001b[0m\u001b[0;34m(\u001b[0m\u001b[0mxr\u001b[0m\u001b[0;34m)\u001b[0m\u001b[0;34m\u001b[0m\u001b[0;34m\u001b[0m\u001b[0m\n\u001b[0m\u001b[1;32m    769\u001b[0m         \u001b[0mdoshrink\u001b[0m \u001b[0;34m=\u001b[0m \u001b[0;36m0\u001b[0m\u001b[0;34m\u001b[0m\u001b[0;34m\u001b[0m\u001b[0m\n\u001b[1;32m    770\u001b[0m \u001b[0;34m\u001b[0m\u001b[0m\n",
            "\u001b[0;32m/usr/local/lib/python3.8/dist-packages/scipy/optimize/optimize.py\u001b[0m in \u001b[0;36mfunction_wrapper\u001b[0;34m(x, *wrapper_args)\u001b[0m\n\u001b[1;32m    462\u001b[0m     \u001b[0;32mdef\u001b[0m \u001b[0mfunction_wrapper\u001b[0m\u001b[0;34m(\u001b[0m\u001b[0mx\u001b[0m\u001b[0;34m,\u001b[0m \u001b[0;34m*\u001b[0m\u001b[0mwrapper_args\u001b[0m\u001b[0;34m)\u001b[0m\u001b[0;34m:\u001b[0m\u001b[0;34m\u001b[0m\u001b[0;34m\u001b[0m\u001b[0m\n\u001b[1;32m    463\u001b[0m         \u001b[0mncalls\u001b[0m\u001b[0;34m[\u001b[0m\u001b[0;36m0\u001b[0m\u001b[0;34m]\u001b[0m \u001b[0;34m+=\u001b[0m \u001b[0;36m1\u001b[0m\u001b[0;34m\u001b[0m\u001b[0;34m\u001b[0m\u001b[0m\n\u001b[0;32m--> 464\u001b[0;31m         \u001b[0;32mreturn\u001b[0m \u001b[0mfunction\u001b[0m\u001b[0;34m(\u001b[0m\u001b[0mnp\u001b[0m\u001b[0;34m.\u001b[0m\u001b[0mcopy\u001b[0m\u001b[0;34m(\u001b[0m\u001b[0mx\u001b[0m\u001b[0;34m)\u001b[0m\u001b[0;34m,\u001b[0m \u001b[0;34m*\u001b[0m\u001b[0;34m(\u001b[0m\u001b[0mwrapper_args\u001b[0m \u001b[0;34m+\u001b[0m \u001b[0margs\u001b[0m\u001b[0;34m)\u001b[0m\u001b[0;34m)\u001b[0m\u001b[0;34m\u001b[0m\u001b[0;34m\u001b[0m\u001b[0m\n\u001b[0m\u001b[1;32m    465\u001b[0m \u001b[0;34m\u001b[0m\u001b[0m\n\u001b[1;32m    466\u001b[0m     \u001b[0;32mreturn\u001b[0m \u001b[0mncalls\u001b[0m\u001b[0;34m,\u001b[0m \u001b[0mfunction_wrapper\u001b[0m\u001b[0;34m\u001b[0m\u001b[0;34m\u001b[0m\u001b[0m\n",
            "\u001b[0;32m<ipython-input-20-56503d4bec42>\u001b[0m in \u001b[0;36mobjective_function\u001b[0;34m(params, J, B, num_qubits, dimension, rho, show_qc, with_noise)\u001b[0m\n\u001b[1;32m     13\u001b[0m \u001b[0;34m\u001b[0m\u001b[0m\n\u001b[1;32m     14\u001b[0m     \u001b[0;31m#Simulate\u001b[0m\u001b[0;34m\u001b[0m\u001b[0;34m\u001b[0m\u001b[0;34m\u001b[0m\u001b[0m\n\u001b[0;32m---> 15\u001b[0;31m     \u001b[0mrho\u001b[0m \u001b[0;34m=\u001b[0m \u001b[0msimulator\u001b[0m\u001b[0;34m.\u001b[0m\u001b[0msimulate\u001b[0m\u001b[0;34m(\u001b[0m\u001b[0mvqe_circuit\u001b[0m\u001b[0;34m,\u001b[0m \u001b[0minitial_state\u001b[0m\u001b[0;34m=\u001b[0m\u001b[0minitial_rho\u001b[0m\u001b[0;34m)\u001b[0m\u001b[0;34m.\u001b[0m\u001b[0mfinal_density_matrix\u001b[0m\u001b[0;34m\u001b[0m\u001b[0;34m\u001b[0m\u001b[0m\n\u001b[0m\u001b[1;32m     16\u001b[0m     \u001b[0mqmap\u001b[0m \u001b[0;34m=\u001b[0m \u001b[0;34m{\u001b[0m\u001b[0mq\u001b[0m\u001b[0;34m:\u001b[0m\u001b[0mi\u001b[0m \u001b[0;32mfor\u001b[0m \u001b[0mi\u001b[0m\u001b[0;34m,\u001b[0m \u001b[0mq\u001b[0m \u001b[0;32min\u001b[0m \u001b[0menumerate\u001b[0m\u001b[0;34m(\u001b[0m\u001b[0mqubits\u001b[0m\u001b[0;34m)\u001b[0m\u001b[0;34m}\u001b[0m\u001b[0;34m\u001b[0m\u001b[0;34m\u001b[0m\u001b[0m\n\u001b[1;32m     17\u001b[0m     \u001b[0mexpectation\u001b[0m \u001b[0;34m=\u001b[0m \u001b[0mising_hamiltonian\u001b[0m\u001b[0;34m(\u001b[0m\u001b[0mB\u001b[0m\u001b[0;34m)\u001b[0m\u001b[0;34m.\u001b[0m\u001b[0mexpectation_from_density_matrix\u001b[0m\u001b[0;34m(\u001b[0m\u001b[0mrho\u001b[0m\u001b[0;34m,\u001b[0m \u001b[0mqmap\u001b[0m\u001b[0;34m)\u001b[0m\u001b[0;34m.\u001b[0m\u001b[0mreal\u001b[0m\u001b[0;34m\u001b[0m\u001b[0;34m\u001b[0m\u001b[0m\n",
            "\u001b[0;32m/usr/local/lib/python3.8/dist-packages/cirq/sim/simulator.py\u001b[0m in \u001b[0;36msimulate\u001b[0;34m(self, program, param_resolver, qubit_order, initial_state)\u001b[0m\n\u001b[1;32m    493\u001b[0m             \u001b[0mSimulationTrialResults\u001b[0m \u001b[0;32mfor\u001b[0m \u001b[0mthe\u001b[0m \u001b[0msimulation\u001b[0m\u001b[0;34m.\u001b[0m \u001b[0mIncludes\u001b[0m \u001b[0mthe\u001b[0m \u001b[0mfinal\u001b[0m \u001b[0mstate\u001b[0m\u001b[0;34m.\u001b[0m\u001b[0;34m\u001b[0m\u001b[0;34m\u001b[0m\u001b[0m\n\u001b[1;32m    494\u001b[0m         \"\"\"\n\u001b[0;32m--> 495\u001b[0;31m         return self.simulate_sweep(\n\u001b[0m\u001b[1;32m    496\u001b[0m             \u001b[0mprogram\u001b[0m\u001b[0;34m,\u001b[0m \u001b[0mstudy\u001b[0m\u001b[0;34m.\u001b[0m\u001b[0mParamResolver\u001b[0m\u001b[0;34m(\u001b[0m\u001b[0mparam_resolver\u001b[0m\u001b[0;34m)\u001b[0m\u001b[0;34m,\u001b[0m \u001b[0mqubit_order\u001b[0m\u001b[0;34m,\u001b[0m \u001b[0minitial_state\u001b[0m\u001b[0;34m\u001b[0m\u001b[0;34m\u001b[0m\u001b[0m\n\u001b[1;32m    497\u001b[0m         )[0]\n",
            "\u001b[0;32m/usr/local/lib/python3.8/dist-packages/cirq/sim/simulator.py\u001b[0m in \u001b[0;36msimulate_sweep\u001b[0;34m(self, program, params, qubit_order, initial_state)\u001b[0m\n\u001b[1;32m    508\u001b[0m         \u001b[0mPrefer\u001b[0m \u001b[0moverriding\u001b[0m\u001b[0;31m \u001b[0m\u001b[0;31m`\u001b[0m\u001b[0msimulate_sweep_iter\u001b[0m\u001b[0;31m`\u001b[0m\u001b[0;34m.\u001b[0m\u001b[0;34m\u001b[0m\u001b[0;34m\u001b[0m\u001b[0m\n\u001b[1;32m    509\u001b[0m         \"\"\"\n\u001b[0;32m--> 510\u001b[0;31m         \u001b[0;32mreturn\u001b[0m \u001b[0mlist\u001b[0m\u001b[0;34m(\u001b[0m\u001b[0mself\u001b[0m\u001b[0;34m.\u001b[0m\u001b[0msimulate_sweep_iter\u001b[0m\u001b[0;34m(\u001b[0m\u001b[0mprogram\u001b[0m\u001b[0;34m,\u001b[0m \u001b[0mparams\u001b[0m\u001b[0;34m,\u001b[0m \u001b[0mqubit_order\u001b[0m\u001b[0;34m,\u001b[0m \u001b[0minitial_state\u001b[0m\u001b[0;34m)\u001b[0m\u001b[0;34m)\u001b[0m\u001b[0;34m\u001b[0m\u001b[0;34m\u001b[0m\u001b[0m\n\u001b[0m\u001b[1;32m    511\u001b[0m \u001b[0;34m\u001b[0m\u001b[0m\n\u001b[1;32m    512\u001b[0m     def _simulate_sweep_to_iter(\n",
            "\u001b[0;32m/usr/local/lib/python3.8/dist-packages/cirq/sim/simulator_base.py\u001b[0m in \u001b[0;36msimulate_sweep_iter\u001b[0;34m(self, program, params, qubit_order, initial_state)\u001b[0m\n\u001b[1;32m    326\u001b[0m         )\n\u001b[1;32m    327\u001b[0m         \u001b[0mstep_result\u001b[0m \u001b[0;34m=\u001b[0m \u001b[0;32mNone\u001b[0m\u001b[0;34m\u001b[0m\u001b[0;34m\u001b[0m\u001b[0m\n\u001b[0;32m--> 328\u001b[0;31m         \u001b[0;32mfor\u001b[0m \u001b[0mstep_result\u001b[0m \u001b[0;32min\u001b[0m \u001b[0mself\u001b[0m\u001b[0;34m.\u001b[0m\u001b[0m_core_iterator\u001b[0m\u001b[0;34m(\u001b[0m\u001b[0mcircuit\u001b[0m\u001b[0;34m=\u001b[0m\u001b[0mprefix\u001b[0m\u001b[0;34m,\u001b[0m \u001b[0msim_state\u001b[0m\u001b[0;34m=\u001b[0m\u001b[0msim_state\u001b[0m\u001b[0;34m)\u001b[0m\u001b[0;34m:\u001b[0m\u001b[0;34m\u001b[0m\u001b[0;34m\u001b[0m\u001b[0m\n\u001b[0m\u001b[1;32m    329\u001b[0m             \u001b[0;32mpass\u001b[0m\u001b[0;34m\u001b[0m\u001b[0;34m\u001b[0m\u001b[0m\n\u001b[1;32m    330\u001b[0m         \u001b[0msim_state\u001b[0m \u001b[0;34m=\u001b[0m \u001b[0mstep_result\u001b[0m\u001b[0;34m.\u001b[0m\u001b[0m_sim_state\u001b[0m\u001b[0;34m\u001b[0m\u001b[0;34m\u001b[0m\u001b[0m\n",
            "\u001b[0;32m/usr/local/lib/python3.8/dist-packages/cirq/sim/simulator_base.py\u001b[0m in \u001b[0;36m_core_iterator\u001b[0;34m(self, circuit, sim_state, all_measurements_are_terminal)\u001b[0m\n\u001b[1;32m    218\u001b[0m \u001b[0;34m\u001b[0m\u001b[0m\n\u001b[1;32m    219\u001b[0m                     \u001b[0;31m# Simulate the operation\u001b[0m\u001b[0;34m\u001b[0m\u001b[0;34m\u001b[0m\u001b[0;34m\u001b[0m\u001b[0m\n\u001b[0;32m--> 220\u001b[0;31m                     \u001b[0mprotocols\u001b[0m\u001b[0;34m.\u001b[0m\u001b[0mact_on\u001b[0m\u001b[0;34m(\u001b[0m\u001b[0mop\u001b[0m\u001b[0;34m,\u001b[0m \u001b[0msim_state\u001b[0m\u001b[0;34m)\u001b[0m\u001b[0;34m\u001b[0m\u001b[0;34m\u001b[0m\u001b[0m\n\u001b[0m\u001b[1;32m    221\u001b[0m                 \u001b[0;32mexcept\u001b[0m \u001b[0mTypeError\u001b[0m\u001b[0;34m:\u001b[0m\u001b[0;34m\u001b[0m\u001b[0;34m\u001b[0m\u001b[0m\n\u001b[1;32m    222\u001b[0m                     \u001b[0;32mraise\u001b[0m \u001b[0mTypeError\u001b[0m\u001b[0;34m(\u001b[0m\u001b[0;34mf\"{self.__class__.__name__} doesn't support {op!r}\"\u001b[0m\u001b[0;34m)\u001b[0m\u001b[0;34m\u001b[0m\u001b[0;34m\u001b[0m\u001b[0m\n",
            "\u001b[0;32m/usr/local/lib/python3.8/dist-packages/cirq/protocols/act_on_protocol.py\u001b[0m in \u001b[0;36mact_on\u001b[0;34m(action, sim_state, qubits, allow_decompose)\u001b[0m\n\u001b[1;32m    151\u001b[0m     \u001b[0;32mif\u001b[0m \u001b[0marg_fallback\u001b[0m \u001b[0;32mis\u001b[0m \u001b[0;32mnot\u001b[0m \u001b[0;32mNone\u001b[0m\u001b[0;34m:\u001b[0m\u001b[0;34m\u001b[0m\u001b[0;34m\u001b[0m\u001b[0m\n\u001b[1;32m    152\u001b[0m         \u001b[0mqubits\u001b[0m \u001b[0;34m=\u001b[0m \u001b[0maction\u001b[0m\u001b[0;34m.\u001b[0m\u001b[0mqubits\u001b[0m \u001b[0;32mif\u001b[0m \u001b[0misinstance\u001b[0m\u001b[0;34m(\u001b[0m\u001b[0maction\u001b[0m\u001b[0;34m,\u001b[0m \u001b[0mops\u001b[0m\u001b[0;34m.\u001b[0m\u001b[0mOperation\u001b[0m\u001b[0;34m)\u001b[0m \u001b[0;32melse\u001b[0m \u001b[0mqubits\u001b[0m\u001b[0;34m\u001b[0m\u001b[0;34m\u001b[0m\u001b[0m\n\u001b[0;32m--> 153\u001b[0;31m         \u001b[0mresult\u001b[0m \u001b[0;34m=\u001b[0m \u001b[0marg_fallback\u001b[0m\u001b[0;34m(\u001b[0m\u001b[0maction\u001b[0m\u001b[0;34m,\u001b[0m \u001b[0mqubits\u001b[0m\u001b[0;34m=\u001b[0m\u001b[0mqubits\u001b[0m\u001b[0;34m,\u001b[0m \u001b[0mallow_decompose\u001b[0m\u001b[0;34m=\u001b[0m\u001b[0mallow_decompose\u001b[0m\u001b[0;34m)\u001b[0m\u001b[0;34m\u001b[0m\u001b[0;34m\u001b[0m\u001b[0m\n\u001b[0m\u001b[1;32m    154\u001b[0m         \u001b[0;32mif\u001b[0m \u001b[0mresult\u001b[0m \u001b[0;32mis\u001b[0m \u001b[0;32mTrue\u001b[0m\u001b[0;34m:\u001b[0m\u001b[0;34m\u001b[0m\u001b[0;34m\u001b[0m\u001b[0m\n\u001b[1;32m    155\u001b[0m             \u001b[0;32mreturn\u001b[0m\u001b[0;34m\u001b[0m\u001b[0;34m\u001b[0m\u001b[0m\n",
            "\u001b[0;32m/usr/local/lib/python3.8/dist-packages/cirq/sim/simulation_product_state.py\u001b[0m in \u001b[0;36m_act_on_fallback_\u001b[0;34m(self, action, qubits, allow_decompose)\u001b[0m\n\u001b[1;32m    116\u001b[0m         \u001b[0;31m# Act on the args with the operation\u001b[0m\u001b[0;34m\u001b[0m\u001b[0;34m\u001b[0m\u001b[0;34m\u001b[0m\u001b[0m\n\u001b[1;32m    117\u001b[0m         \u001b[0mact_on_qubits\u001b[0m \u001b[0;34m=\u001b[0m \u001b[0mqubits\u001b[0m \u001b[0;32mif\u001b[0m \u001b[0misinstance\u001b[0m\u001b[0;34m(\u001b[0m\u001b[0maction\u001b[0m\u001b[0;34m,\u001b[0m \u001b[0mops\u001b[0m\u001b[0;34m.\u001b[0m\u001b[0mGate\u001b[0m\u001b[0;34m)\u001b[0m \u001b[0;32melse\u001b[0m \u001b[0;32mNone\u001b[0m\u001b[0;34m\u001b[0m\u001b[0;34m\u001b[0m\u001b[0m\n\u001b[0;32m--> 118\u001b[0;31m         \u001b[0mprotocols\u001b[0m\u001b[0;34m.\u001b[0m\u001b[0mact_on\u001b[0m\u001b[0;34m(\u001b[0m\u001b[0maction\u001b[0m\u001b[0;34m,\u001b[0m \u001b[0mop_args\u001b[0m\u001b[0;34m,\u001b[0m \u001b[0mact_on_qubits\u001b[0m\u001b[0;34m,\u001b[0m \u001b[0mallow_decompose\u001b[0m\u001b[0;34m=\u001b[0m\u001b[0mallow_decompose\u001b[0m\u001b[0;34m)\u001b[0m\u001b[0;34m\u001b[0m\u001b[0;34m\u001b[0m\u001b[0m\n\u001b[0m\u001b[1;32m    119\u001b[0m \u001b[0;34m\u001b[0m\u001b[0m\n\u001b[1;32m    120\u001b[0m         \u001b[0;31m# Decouple any measurements or resets\u001b[0m\u001b[0;34m\u001b[0m\u001b[0;34m\u001b[0m\u001b[0;34m\u001b[0m\u001b[0m\n",
            "\u001b[0;32m/usr/local/lib/python3.8/dist-packages/cirq/protocols/act_on_protocol.py\u001b[0m in \u001b[0;36mact_on\u001b[0;34m(action, sim_state, qubits, allow_decompose)\u001b[0m\n\u001b[1;32m    151\u001b[0m     \u001b[0;32mif\u001b[0m \u001b[0marg_fallback\u001b[0m \u001b[0;32mis\u001b[0m \u001b[0;32mnot\u001b[0m \u001b[0;32mNone\u001b[0m\u001b[0;34m:\u001b[0m\u001b[0;34m\u001b[0m\u001b[0;34m\u001b[0m\u001b[0m\n\u001b[1;32m    152\u001b[0m         \u001b[0mqubits\u001b[0m \u001b[0;34m=\u001b[0m \u001b[0maction\u001b[0m\u001b[0;34m.\u001b[0m\u001b[0mqubits\u001b[0m \u001b[0;32mif\u001b[0m \u001b[0misinstance\u001b[0m\u001b[0;34m(\u001b[0m\u001b[0maction\u001b[0m\u001b[0;34m,\u001b[0m \u001b[0mops\u001b[0m\u001b[0;34m.\u001b[0m\u001b[0mOperation\u001b[0m\u001b[0;34m)\u001b[0m \u001b[0;32melse\u001b[0m \u001b[0mqubits\u001b[0m\u001b[0;34m\u001b[0m\u001b[0;34m\u001b[0m\u001b[0m\n\u001b[0;32m--> 153\u001b[0;31m         \u001b[0mresult\u001b[0m \u001b[0;34m=\u001b[0m \u001b[0marg_fallback\u001b[0m\u001b[0;34m(\u001b[0m\u001b[0maction\u001b[0m\u001b[0;34m,\u001b[0m \u001b[0mqubits\u001b[0m\u001b[0;34m=\u001b[0m\u001b[0mqubits\u001b[0m\u001b[0;34m,\u001b[0m \u001b[0mallow_decompose\u001b[0m\u001b[0;34m=\u001b[0m\u001b[0mallow_decompose\u001b[0m\u001b[0;34m)\u001b[0m\u001b[0;34m\u001b[0m\u001b[0;34m\u001b[0m\u001b[0m\n\u001b[0m\u001b[1;32m    154\u001b[0m         \u001b[0;32mif\u001b[0m \u001b[0mresult\u001b[0m \u001b[0;32mis\u001b[0m \u001b[0;32mTrue\u001b[0m\u001b[0;34m:\u001b[0m\u001b[0;34m\u001b[0m\u001b[0;34m\u001b[0m\u001b[0m\n\u001b[1;32m    155\u001b[0m             \u001b[0;32mreturn\u001b[0m\u001b[0;34m\u001b[0m\u001b[0;34m\u001b[0m\u001b[0m\n",
            "\u001b[0;32m/usr/local/lib/python3.8/dist-packages/cirq/sim/density_matrix_simulation_state.py\u001b[0m in \u001b[0;36m_act_on_fallback_\u001b[0;34m(self, action, qubits, allow_decompose)\u001b[0m\n\u001b[1;32m    297\u001b[0m         \u001b[0;31m# Try each strategy, stopping if one works.\u001b[0m\u001b[0;34m\u001b[0m\u001b[0;34m\u001b[0m\u001b[0;34m\u001b[0m\u001b[0m\n\u001b[1;32m    298\u001b[0m         \u001b[0;32mfor\u001b[0m \u001b[0mstrat\u001b[0m \u001b[0;32min\u001b[0m \u001b[0mstrats\u001b[0m\u001b[0;34m:\u001b[0m\u001b[0;34m\u001b[0m\u001b[0;34m\u001b[0m\u001b[0m\n\u001b[0;32m--> 299\u001b[0;31m             \u001b[0mresult\u001b[0m \u001b[0;34m=\u001b[0m \u001b[0mstrat\u001b[0m\u001b[0;34m(\u001b[0m\u001b[0maction\u001b[0m\u001b[0;34m,\u001b[0m \u001b[0mself\u001b[0m\u001b[0;34m,\u001b[0m \u001b[0mqubits\u001b[0m\u001b[0;34m)\u001b[0m\u001b[0;34m\u001b[0m\u001b[0;34m\u001b[0m\u001b[0m\n\u001b[0m\u001b[1;32m    300\u001b[0m             \u001b[0;32mif\u001b[0m \u001b[0mresult\u001b[0m \u001b[0;32mis\u001b[0m \u001b[0;32mFalse\u001b[0m\u001b[0;34m:\u001b[0m\u001b[0;34m\u001b[0m\u001b[0;34m\u001b[0m\u001b[0m\n\u001b[1;32m    301\u001b[0m                 \u001b[0;32mbreak\u001b[0m  \u001b[0;31m# coverage: ignore\u001b[0m\u001b[0;34m\u001b[0m\u001b[0;34m\u001b[0m\u001b[0m\n",
            "\u001b[0;32m/usr/local/lib/python3.8/dist-packages/cirq/sim/density_matrix_simulation_state.py\u001b[0m in \u001b[0;36m_strat_apply_channel_to_state\u001b[0;34m(action, args, qubits)\u001b[0m\n\u001b[1;32m    334\u001b[0m ) -> bool:\n\u001b[1;32m    335\u001b[0m     \u001b[0;34m\"\"\"Apply channel to state.\"\"\"\u001b[0m\u001b[0;34m\u001b[0m\u001b[0;34m\u001b[0m\u001b[0m\n\u001b[0;32m--> 336\u001b[0;31m     \u001b[0;32mif\u001b[0m \u001b[0;32mnot\u001b[0m \u001b[0margs\u001b[0m\u001b[0;34m.\u001b[0m\u001b[0m_state\u001b[0m\u001b[0;34m.\u001b[0m\u001b[0mapply_channel\u001b[0m\u001b[0;34m(\u001b[0m\u001b[0maction\u001b[0m\u001b[0;34m,\u001b[0m \u001b[0margs\u001b[0m\u001b[0;34m.\u001b[0m\u001b[0mget_axes\u001b[0m\u001b[0;34m(\u001b[0m\u001b[0mqubits\u001b[0m\u001b[0;34m)\u001b[0m\u001b[0;34m)\u001b[0m\u001b[0;34m:\u001b[0m\u001b[0;34m\u001b[0m\u001b[0;34m\u001b[0m\u001b[0m\n\u001b[0m\u001b[1;32m    337\u001b[0m         \u001b[0;32mreturn\u001b[0m \u001b[0mNotImplemented\u001b[0m\u001b[0;34m\u001b[0m\u001b[0;34m\u001b[0m\u001b[0m\n\u001b[1;32m    338\u001b[0m     \u001b[0;32mreturn\u001b[0m \u001b[0;32mTrue\u001b[0m\u001b[0;34m\u001b[0m\u001b[0;34m\u001b[0m\u001b[0m\n",
            "\u001b[0;32m/usr/local/lib/python3.8/dist-packages/cirq/sim/density_matrix_simulation_state.py\u001b[0m in \u001b[0;36mapply_channel\u001b[0;34m(self, action, axes)\u001b[0m\n\u001b[1;32m    165\u001b[0m             \u001b[0;32mTrue\u001b[0m \u001b[0;32mif\u001b[0m \u001b[0mthe\u001b[0m \u001b[0maction\u001b[0m \u001b[0msucceeded\u001b[0m\u001b[0;34m.\u001b[0m\u001b[0;34m\u001b[0m\u001b[0;34m\u001b[0m\u001b[0m\n\u001b[1;32m    166\u001b[0m         \"\"\"\n\u001b[0;32m--> 167\u001b[0;31m         result = protocols.apply_channel(\n\u001b[0m\u001b[1;32m    168\u001b[0m             \u001b[0maction\u001b[0m\u001b[0;34m,\u001b[0m\u001b[0;34m\u001b[0m\u001b[0;34m\u001b[0m\u001b[0m\n\u001b[1;32m    169\u001b[0m             args=protocols.ApplyChannelArgs(\n",
            "\u001b[0;32m/usr/local/lib/python3.8/dist-packages/cirq/protocols/apply_channel_protocol.py\u001b[0m in \u001b[0;36mapply_channel\u001b[0;34m(val, args, default)\u001b[0m\n\u001b[1;32m    258\u001b[0m     \u001b[0mks\u001b[0m \u001b[0;34m=\u001b[0m \u001b[0mkraus\u001b[0m\u001b[0;34m(\u001b[0m\u001b[0mval\u001b[0m\u001b[0;34m,\u001b[0m \u001b[0;32mNone\u001b[0m\u001b[0;34m)\u001b[0m\u001b[0;34m\u001b[0m\u001b[0;34m\u001b[0m\u001b[0m\n\u001b[1;32m    259\u001b[0m     \u001b[0;32mif\u001b[0m \u001b[0mks\u001b[0m \u001b[0;32mis\u001b[0m \u001b[0;32mnot\u001b[0m \u001b[0;32mNone\u001b[0m\u001b[0;34m:\u001b[0m\u001b[0;34m\u001b[0m\u001b[0;34m\u001b[0m\u001b[0m\n\u001b[0;32m--> 260\u001b[0;31m         \u001b[0;32mreturn\u001b[0m \u001b[0m_apply_kraus\u001b[0m\u001b[0;34m(\u001b[0m\u001b[0mks\u001b[0m\u001b[0;34m,\u001b[0m \u001b[0margs\u001b[0m\u001b[0;34m)\u001b[0m\u001b[0;34m\u001b[0m\u001b[0;34m\u001b[0m\u001b[0m\n\u001b[0m\u001b[1;32m    261\u001b[0m \u001b[0;34m\u001b[0m\u001b[0m\n\u001b[1;32m    262\u001b[0m     \u001b[0;31m# Don't know how to apply channel. Fallback to specified default behavior.\u001b[0m\u001b[0;34m\u001b[0m\u001b[0;34m\u001b[0m\u001b[0;34m\u001b[0m\u001b[0m\n",
            "\u001b[0;32m/usr/local/lib/python3.8/dist-packages/cirq/protocols/apply_channel_protocol.py\u001b[0m in \u001b[0;36m_apply_kraus\u001b[0;34m(kraus, args)\u001b[0m\n\u001b[1;32m    306\u001b[0m         \u001b[0;32mreturn\u001b[0m \u001b[0m_apply_kraus_single_qubit\u001b[0m\u001b[0;34m(\u001b[0m\u001b[0mkraus\u001b[0m\u001b[0;34m,\u001b[0m \u001b[0margs\u001b[0m\u001b[0;34m)\u001b[0m\u001b[0;34m\u001b[0m\u001b[0;34m\u001b[0m\u001b[0m\n\u001b[1;32m    307\u001b[0m     \u001b[0;31m# Fallback to np.einsum for the general case.\u001b[0m\u001b[0;34m\u001b[0m\u001b[0;34m\u001b[0m\u001b[0;34m\u001b[0m\u001b[0m\n\u001b[0;32m--> 308\u001b[0;31m     \u001b[0;32mreturn\u001b[0m \u001b[0m_apply_kraus_multi_qubit\u001b[0m\u001b[0;34m(\u001b[0m\u001b[0mkraus\u001b[0m\u001b[0;34m,\u001b[0m \u001b[0margs\u001b[0m\u001b[0;34m)\u001b[0m\u001b[0;34m\u001b[0m\u001b[0;34m\u001b[0m\u001b[0m\n\u001b[0m\u001b[1;32m    309\u001b[0m \u001b[0;34m\u001b[0m\u001b[0m\n\u001b[1;32m    310\u001b[0m \u001b[0;34m\u001b[0m\u001b[0m\n",
            "\u001b[0;32m/usr/local/lib/python3.8/dist-packages/cirq/protocols/apply_channel_protocol.py\u001b[0m in \u001b[0;36m_apply_kraus_multi_qubit\u001b[0;34m(kraus, args)\u001b[0m\n\u001b[1;32m    342\u001b[0m         \u001b[0mnp\u001b[0m\u001b[0;34m.\u001b[0m\u001b[0mcopyto\u001b[0m\u001b[0;34m(\u001b[0m\u001b[0mdst\u001b[0m\u001b[0;34m=\u001b[0m\u001b[0margs\u001b[0m\u001b[0;34m.\u001b[0m\u001b[0mtarget_tensor\u001b[0m\u001b[0;34m,\u001b[0m \u001b[0msrc\u001b[0m\u001b[0;34m=\u001b[0m\u001b[0margs\u001b[0m\u001b[0;34m.\u001b[0m\u001b[0mauxiliary_buffer0\u001b[0m\u001b[0;34m)\u001b[0m\u001b[0;34m\u001b[0m\u001b[0;34m\u001b[0m\u001b[0m\n\u001b[1;32m    343\u001b[0m         \u001b[0mkraus_tensor\u001b[0m \u001b[0;34m=\u001b[0m \u001b[0mnp\u001b[0m\u001b[0;34m.\u001b[0m\u001b[0mreshape\u001b[0m\u001b[0;34m(\u001b[0m\u001b[0mkraus_op\u001b[0m\u001b[0;34m.\u001b[0m\u001b[0mastype\u001b[0m\u001b[0;34m(\u001b[0m\u001b[0margs\u001b[0m\u001b[0;34m.\u001b[0m\u001b[0mtarget_tensor\u001b[0m\u001b[0;34m.\u001b[0m\u001b[0mdtype\u001b[0m\u001b[0;34m)\u001b[0m\u001b[0;34m,\u001b[0m \u001b[0mqid_shape\u001b[0m \u001b[0;34m*\u001b[0m \u001b[0;36m2\u001b[0m\u001b[0;34m)\u001b[0m\u001b[0;34m\u001b[0m\u001b[0;34m\u001b[0m\u001b[0m\n\u001b[0;32m--> 344\u001b[0;31m         linalg.targeted_left_multiply(\n\u001b[0m\u001b[1;32m    345\u001b[0m             \u001b[0mkraus_tensor\u001b[0m\u001b[0;34m,\u001b[0m \u001b[0margs\u001b[0m\u001b[0;34m.\u001b[0m\u001b[0mtarget_tensor\u001b[0m\u001b[0;34m,\u001b[0m \u001b[0margs\u001b[0m\u001b[0;34m.\u001b[0m\u001b[0mleft_axes\u001b[0m\u001b[0;34m,\u001b[0m \u001b[0mout\u001b[0m\u001b[0;34m=\u001b[0m\u001b[0margs\u001b[0m\u001b[0;34m.\u001b[0m\u001b[0mauxiliary_buffer1\u001b[0m\u001b[0;34m\u001b[0m\u001b[0;34m\u001b[0m\u001b[0m\n\u001b[1;32m    346\u001b[0m         )\n",
            "\u001b[0;32m/usr/local/lib/python3.8/dist-packages/cirq/linalg/transformations.py\u001b[0m in \u001b[0;36mtargeted_left_multiply\u001b[0;34m(left_matrix, right_target, target_axes, out)\u001b[0m\n\u001b[1;32m    154\u001b[0m \u001b[0;34m\u001b[0m\u001b[0m\n\u001b[1;32m    155\u001b[0m     \u001b[0;31m# TODO(#5757): remove type ignore when numpy has proper override signature.\u001b[0m\u001b[0;34m\u001b[0m\u001b[0;34m\u001b[0m\u001b[0;34m\u001b[0m\u001b[0m\n\u001b[0;32m--> 156\u001b[0;31m     return np.einsum(\n\u001b[0m\u001b[1;32m    157\u001b[0m         \u001b[0mleft_matrix\u001b[0m\u001b[0;34m,\u001b[0m\u001b[0;34m\u001b[0m\u001b[0;34m\u001b[0m\u001b[0m\n\u001b[1;32m    158\u001b[0m         \u001b[0minput_indices\u001b[0m\u001b[0;34m,\u001b[0m\u001b[0;34m\u001b[0m\u001b[0;34m\u001b[0m\u001b[0m\n",
            "\u001b[0;32m<__array_function__ internals>\u001b[0m in \u001b[0;36meinsum\u001b[0;34m(*args, **kwargs)\u001b[0m\n",
            "\u001b[0;32m/usr/local/lib/python3.8/dist-packages/numpy/core/einsumfunc.py\u001b[0m in \u001b[0;36meinsum\u001b[0;34m(out, optimize, *operands, **kwargs)\u001b[0m\n\u001b[1;32m   1357\u001b[0m         \u001b[0;32mif\u001b[0m \u001b[0mspecified_out\u001b[0m\u001b[0;34m:\u001b[0m\u001b[0;34m\u001b[0m\u001b[0;34m\u001b[0m\u001b[0m\n\u001b[1;32m   1358\u001b[0m             \u001b[0mkwargs\u001b[0m\u001b[0;34m[\u001b[0m\u001b[0;34m'out'\u001b[0m\u001b[0;34m]\u001b[0m \u001b[0;34m=\u001b[0m \u001b[0mout\u001b[0m\u001b[0;34m\u001b[0m\u001b[0;34m\u001b[0m\u001b[0m\n\u001b[0;32m-> 1359\u001b[0;31m         \u001b[0;32mreturn\u001b[0m \u001b[0mc_einsum\u001b[0m\u001b[0;34m(\u001b[0m\u001b[0;34m*\u001b[0m\u001b[0moperands\u001b[0m\u001b[0;34m,\u001b[0m \u001b[0;34m**\u001b[0m\u001b[0mkwargs\u001b[0m\u001b[0;34m)\u001b[0m\u001b[0;34m\u001b[0m\u001b[0;34m\u001b[0m\u001b[0m\n\u001b[0m\u001b[1;32m   1360\u001b[0m \u001b[0;34m\u001b[0m\u001b[0m\n\u001b[1;32m   1361\u001b[0m     \u001b[0;31m# Check the kwargs to avoid a more cryptic error later, without having to\u001b[0m\u001b[0;34m\u001b[0m\u001b[0;34m\u001b[0m\u001b[0;34m\u001b[0m\u001b[0m\n",
            "\u001b[0;31mKeyboardInterrupt\u001b[0m: "
          ]
        }
      ],
      "source": [
        "variational_results = []\n",
        "\n",
        "for B in B_values:\n",
        "    result = train(B, max_layers, num_qubits, dimension, n_initial,\n",
        "                verbose=verbose)\n",
        "    variational_results.append(result)\n",
        "\n",
        "    print(f'B = {B}')\n",
        "    print(result)\n",
        "    print()"
      ]
    },
    {
      "cell_type": "markdown",
      "metadata": {
        "id": "7_iqoKIb6OLg"
      },
      "source": [
        "### Classical optimization qudits d = 4\n",
        " "
      ]
    },
    {
      "cell_type": "code",
      "execution_count": null,
      "metadata": {
        "id": "Du_N3lQO6OLh"
      },
      "outputs": [],
      "source": [
        "num_qudits = 2\n",
        "dimension = 4"
      ]
    },
    {
      "cell_type": "code",
      "execution_count": null,
      "metadata": {
        "id": "Lw-2yCE46OLh"
      },
      "outputs": [],
      "source": [
        "qudit_variational_results = []\n",
        "\n",
        "for B in B_values:\n",
        "    result = train(B, max_layers, num_qudits, dimension, n_initial,\n",
        "                verbose=verbose)\n",
        "    qudit_variational_results.append(result)\n",
        "\n",
        "    print(f'B = {B}')\n",
        "    print(result)\n",
        "    print()"
      ]
    },
    {
      "cell_type": "markdown",
      "metadata": {
        "id": "p3W_NLZF3kzK"
      },
      "source": [
        "##Result log"
      ]
    },
    {
      "cell_type": "code",
      "execution_count": null,
      "metadata": {
        "id": "x6xly3NM3BvM"
      },
      "outputs": [],
      "source": [
        "variational_results_filename = \"vary_noisy_variational_results.csv\"\n",
        "qudit_variational_results_filename = \"vary_noisy_qudit_variational_results.csv\""
      ]
    },
    {
      "cell_type": "code",
      "execution_count": null,
      "metadata": {
        "id": "Sy90gfpW3glL"
      },
      "outputs": [],
      "source": [
        "np.savetxt(variational_results_filename, variational_results, delimiter=\",\")\n",
        "np.savetxt(qudit_variational_results_filename, qudit_variational_results, delimiter=\",\")"
      ]
    },
    {
      "cell_type": "code",
      "execution_count": null,
      "metadata": {
        "id": "UvrNoRGf3XrN"
      },
      "outputs": [],
      "source": [
        "variational_results = np.genfromtxt(variational_results_filename, delimiter=',')\n",
        "\n",
        "qudit_variational_results = np.genfromtxt(qudit_variational_results_filename, delimiter=',')"
      ]
    },
    {
      "cell_type": "markdown",
      "metadata": {
        "id": "QJ78L6ex6OLi"
      },
      "source": [
        "## Comparison of exact and variational solutions"
      ]
    },
    {
      "cell_type": "code",
      "execution_count": null,
      "metadata": {
        "id": "jKWY00sv6OLi"
      },
      "outputs": [],
      "source": [
        "plt.figure(figsize=(16, 10))\n",
        "\n",
        "plt.plot(B_values, results_exact, 'k--s', label='Exact results')\n",
        "\n",
        "for n_layers in range(1, max_layers + 1):\n",
        "    plt.plot(B_values, [result[n_layers - 1] for result in variational_results], '-s', label=f'VQE: d=2, N = {n_layers} layers')\n",
        "    plt.plot(B_values, [result[n_layers - 1] for result in qudit_variational_results], '-s', label=f'VQE: d=4, N = {n_layers} layers')\n",
        "\n",
        "plt.title('Benchmarking VQE ansatz with exact solutions', fontsize=15)\n",
        "plt.xlabel(r'Magnetic field $B$ / $J$ ', fontsize=15)\n",
        "plt.ylabel('Ground state energy per particle $E_{0}$ / $N$', fontsize=15)\n",
        "plt.grid()\n",
        "plt.legend(fontsize=25)\n",
        "\n",
        "plt.savefig('vary_noisy_vqe_qubits.png')"
      ]
    },
    {
      "cell_type": "markdown",
      "metadata": {
        "id": "D_hkHuBc6OLi"
      },
      "source": [
        "Relative error of VQE algorithm\n",
        "\n",
        "\\begin{equation}\n",
        "    \\eta = \\left|\\frac{E_{VQE} - E_{0}} {E_{0}}\\right|\n",
        "\\end{equation}"
      ]
    },
    {
      "cell_type": "code",
      "execution_count": null,
      "metadata": {
        "id": "3vo0LuAx6OLi"
      },
      "outputs": [],
      "source": [
        "plt.figure(figsize=(16, 10))\n",
        "\n",
        "for n_layers in range(1, max_layers + 1):\n",
        "    qubit_eta = []\n",
        "    for i in range(len(B_values)):\n",
        "        qubit_eta = qubit_eta + [np.abs(([result[n_layers - 1] for result in variational_results][i] - results_exact[i - 1]) / results_exact[i - 1]) ]\n",
        "    plt.plot(B_values, qubit_eta, '-s', label=f'VQE: d=2, N = {n_layers} layers')\n",
        "\n",
        "\n",
        "    qudit_eta = []\n",
        "    for i in range(len(B_values)):\n",
        "        qudit_eta = qudit_eta + [np.abs(([result[n_layers - 1] for result in qudit_variational_results][i] - results_exact[i - 1]) / results_exact[i - 1]) ]\n",
        "    plt.plot(B_values, qudit_eta, '-s', label=f'VQE: d=4, N = {n_layers} layers')\n",
        "\n",
        "plt.title(r'$\\eta$ ratio VQE ansatz with exact solutions', fontsize=15)\n",
        "plt.xlabel(r'Magnetic field $B$ / $J$ ', fontsize=15)\n",
        "plt.ylabel(r'$\\eta = \\left|\\frac{E_{VQE} - E_{0}} {E_{0}}\\right|$', fontsize=15)\n",
        "plt.grid()\n",
        "plt.legend(fontsize=25)\n",
        "\n",
        "plt.savefig('noisy_vqe_eta.png')"
      ]
    },
    {
      "cell_type": "markdown",
      "metadata": {
        "id": "NoJYnuvH5QQi"
      },
      "source": [
        "### Layerwise progress:\n",
        "\n"
      ]
    },
    {
      "cell_type": "code",
      "execution_count": null,
      "metadata": {
        "id": "avhU3Heb6Zu8"
      },
      "outputs": [],
      "source": [
        "B_value_index = 5"
      ]
    },
    {
      "cell_type": "code",
      "execution_count": null,
      "metadata": {
        "id": "OOBseZYC5X7y"
      },
      "outputs": [],
      "source": [
        "qubit_layer_score = []\n",
        "\n",
        "for result in variational_results[B_value_index]:\n",
        "    eta = np.abs((result - results_exact[B_value_index]) / results_exact[B_value_index])  \n",
        "    qubit_layer_score.append(eta)\n",
        "\n",
        "qudit_layer_score = []\n",
        "\n",
        "for result in qudit_variational_results[B_value_index]:\n",
        "    eta = np.abs((result - results_exact[B_value_index]) / results_exact[B_value_index])  \n",
        "    qudit_layer_score.append(eta)\n"
      ]
    },
    {
      "cell_type": "code",
      "execution_count": null,
      "metadata": {
        "id": "Bo5i4Ug45xYq"
      },
      "outputs": [],
      "source": [
        "plt.figure(figsize=(16, 10))\n",
        "\n",
        "x = list(range(len(qubit_layer_score)))\n",
        "\n",
        "plt.plot(x, qubit_layer_score, '-sb', label=f'qubit VQE: d=2, B = {B_values[B_value_index]}')\n",
        "plt.plot(x, qudit_layer_score, '-sg', label=f'qudit VQE: d=4, B = {B_values[B_value_index]}')\n",
        "\n",
        "plt.title(r'Score layer dependency without noise', fontsize=15)\n",
        "plt.xlabel(r'Layer $N$', fontsize=15)\n",
        "plt.ylabel(r'$\\eta = \\left|\\frac{E_{VQE} - E_{0}} {E_{0}}\\right|$', fontsize=15)\n",
        "plt.grid()\n",
        "plt.legend(fontsize=25)\n"
      ]
    },
    {
      "cell_type": "markdown",
      "metadata": {
        "id": "gPhOdlOJ6rHd"
      },
      "source": [
        "### Layerwise loop "
      ]
    },
    {
      "cell_type": "code",
      "execution_count": null,
      "metadata": {
        "id": "XBDwTlMt6tOq"
      },
      "outputs": [],
      "source": [
        "for B_value_index in range(len(B_values)):\n",
        "    qubit_layer_score = []\n",
        "\n",
        "    for result in variational_results[B_value_index]:\n",
        "        eta = np.abs((result - results_exact[B_value_index]) / results_exact[B_value_index])  \n",
        "        qubit_layer_score.append(eta)\n",
        "\n",
        "    qudit_layer_score = []\n",
        "\n",
        "    for result in qudit_variational_results[B_value_index]:\n",
        "        eta = np.abs((result - results_exact[B_value_index]) / results_exact[B_value_index])  \n",
        "        qudit_layer_score.append(eta)\n",
        "\n",
        "\n",
        "    plt.figure(figsize=(16, 10))\n",
        "\n",
        "    x = list(range(len(qubit_layer_score)))\n",
        "\n",
        "    plt.plot(x, qubit_layer_score, '-sb', label=f'qubit VQE: d=2, B = {B_values[B_value_index]}')\n",
        "    plt.plot(x, qudit_layer_score, '-sg', label=f'qudit VQE: d=4, B = {B_values[B_value_index]}')\n",
        "\n",
        "    plt.title(r'Score layer dependency without noise', fontsize=15)\n",
        "    plt.xlabel(r'Layer $N$', fontsize=15)\n",
        "    plt.ylabel(r'$\\eta = \\left|\\frac{E_{VQE} - E_{0}} {E_{0}}\\right|$', fontsize=15)\n",
        "    plt.grid()\n",
        "    plt.legend(fontsize=25)"
      ]
    }
  ],
  "metadata": {
    "colab": {
      "collapsed_sections": [
        "4e61LzJNAHCj",
        "Oy3n80_UadHN",
        "prJuHldbp9gK",
        "zsLV6Uiw70K1"
      ],
      "provenance": []
    },
    "kernelspec": {
      "display_name": "Python 3",
      "language": "python",
      "name": "python3"
    },
    "language_info": {
      "codemirror_mode": {
        "name": "ipython",
        "version": 3
      },
      "file_extension": ".py",
      "mimetype": "text/x-python",
      "name": "python",
      "nbconvert_exporter": "python",
      "pygments_lexer": "ipython3",
      "version": "3.7.7"
    }
  },
  "nbformat": 4,
  "nbformat_minor": 0
}