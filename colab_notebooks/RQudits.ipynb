{
  "cells": [
    {
      "cell_type": "markdown",
      "metadata": {
        "id": "XcpK_pURYSfH"
      },
      "source": [
        "# Russian qudits"
      ]
    },
    {
      "cell_type": "markdown",
      "metadata": {
        "id": "6ny1pE5XE2zZ"
      },
      "source": [
        "<img src=\"https://rqc.ru/static/RQClogo_black_ru.png\" alt=\"drawing\" height=\"300\">"
      ]
    },
    {
      "cell_type": "markdown",
      "metadata": {
        "id": "4e61LzJNAHCj"
      },
      "source": [
        "## Annotation\n",
        "\n",
        "The following notebook shows qudits, gates and channels for variational cirquits\n",
        "\n",
        "Author: Artem Kuzmichev, Quantum Research Scientist, RQC"
      ]
    },
    {
      "cell_type": "markdown",
      "source": [
        "## qudit-vqc package\n"
      ],
      "metadata": {
        "id": "llo54Pmd8tWD"
      }
    },
    {
      "cell_type": "code",
      "source": [
        "try:\n",
        "    from qubit_variational_qc import *\n",
        "    from qudit_depolarization_channels import *\n",
        "    from qudit_gates import *\n",
        "    from qudit_variational_qc import *\n",
        "\n",
        "except ModuleNotFoundError:\n",
        "    !git clone https://github.com/artem-phys/qudits-vqc.git --quiet\n",
        "    !cd qudits-vqc\n",
        "    !pip install -e qudits-vqc --quiet\n",
        "    print('qudits-vqc succecefully installed. Run again')\n",
        "    exit()"
      ],
      "metadata": {
        "id": "4Do-PZcHjuhr"
      },
      "execution_count": 18,
      "outputs": []
    },
    {
      "cell_type": "markdown",
      "metadata": {
        "id": "Oy3n80_UadHN"
      },
      "source": [
        "## imports and qudit configuration\n"
      ]
    },
    {
      "cell_type": "markdown",
      "metadata": {
        "id": "Tt3Q_dwZaX0j"
      },
      "source": [
        "We are going to study implementation of qudits for variational circuits. Since the real device we have in FIAN is two-qudit quantim computer with d=4 (ququarts), it appears reasonable to choose this specific value"
      ]
    },
    {
      "cell_type": "code",
      "execution_count": 19,
      "metadata": {
        "id": "S3M8MMRtS8Ke"
      },
      "outputs": [],
      "source": [
        "import random\n",
        "import sympy\n",
        "import numpy as np\n",
        "\n",
        "import cirq\n",
        "from cirq.contrib.svg.svg import SVGCircuit"
      ]
    },
    {
      "cell_type": "code",
      "execution_count": 20,
      "metadata": {
        "id": "AWI7c3Iua1F5",
        "colab": {
          "base_uri": "https://localhost:8080/"
        },
        "outputId": "3a8d2d9f-8006-4937-8241-b0641a024cbb"
      },
      "outputs": [
        {
          "output_type": "stream",
          "name": "stdout",
          "text": [
            "[cirq.LineQid(0, dimension=4), cirq.LineQid(1, dimension=4)]\n"
          ]
        }
      ],
      "source": [
        "d = 4\n",
        "n = 2\n",
        "\n",
        "qudits = cirq.LineQid.range(n, dimension=d)\n",
        "q0, q1 = qudits\n",
        "\n",
        "print(qudits)"
      ]
    },
    {
      "cell_type": "markdown",
      "metadata": {
        "id": "prJuHldbp9gK"
      },
      "source": [
        "##Ququart gates"
      ]
    },
    {
      "cell_type": "code",
      "source": [
        "simulator = cirq.Simulator()"
      ],
      "metadata": {
        "id": "cqIOOEBMk2DO"
      },
      "execution_count": 21,
      "outputs": []
    },
    {
      "cell_type": "code",
      "execution_count": 22,
      "metadata": {
        "id": "pjZfOb7j-NNP",
        "colab": {
          "base_uri": "https://localhost:8080/",
          "height": 106
        },
        "outputId": "00b493e1-0bc6-41ec-9925-8372c6e21519"
      },
      "outputs": [
        {
          "output_type": "display_data",
          "data": {
            "text/plain": [
              "<cirq.contrib.svg.svg.SVGCircuit at 0x7f105d221220>"
            ],
            "image/svg+xml": "<svg xmlns=\"http://www.w3.org/2000/svg\" width=\"274.3226953125\" height=\"50.0\"><line x1=\"42.98236328125\" x2=\"244.3226953125\" y1=\"25.0\" y2=\"25.0\" stroke=\"#1967d2\" stroke-width=\"1\" /><rect x=\"10.0\" y=\"5.0\" width=\"65.9647265625\" height=\"40\" stroke=\"black\" fill=\"white\" stroke-width=\"0\" /><text x=\"42.98236328125\" y=\"25.0\" dominant-baseline=\"middle\" text-anchor=\"middle\" font-size=\"14px\" font-family=\"Arial\">0 (d=4): </text><rect x=\"95.9647265625\" y=\"5.0\" width=\"128.35796875\" height=\"40\" stroke=\"black\" fill=\"white\" stroke-width=\"1\" /><text x=\"160.1437109375\" y=\"25.0\" dominant-baseline=\"middle\" text-anchor=\"middle\" font-size=\"14px\" font-family=\"Arial\">R₀¹(0.200, 0.500)</text></svg>"
          },
          "metadata": {}
        },
        {
          "output_type": "execute_result",
          "data": {
            "text/plain": [
              "array([0.9950042 +0.j        , 0.04786269-0.08761206j,\n",
              "       0.        +0.j        , 0.        +0.j        ], dtype=complex64)"
            ]
          },
          "metadata": {},
          "execution_count": 22
        }
      ],
      "source": [
        "circuit = cirq.Circuit(\n",
        "    QuditRGate(0, 1, 0.2, 0.5).on(q0)\n",
        ")\n",
        "\n",
        "display(SVGCircuit(circuit))\n",
        "\n",
        "result = simulator.simulate(circuit)\n",
        "result.final_state_vector"
      ]
    },
    {
      "cell_type": "code",
      "execution_count": 23,
      "metadata": {
        "id": "Cvnob_uQrOh2",
        "colab": {
          "base_uri": "https://localhost:8080/",
          "height": 260
        },
        "outputId": "59182acd-6fb1-4de2-a438-47ffd8e0275b"
      },
      "outputs": [
        {
          "output_type": "display_data",
          "data": {
            "text/plain": [
              "<cirq.contrib.svg.svg.SVGCircuit at 0x7f105d221520>"
            ],
            "image/svg+xml": "<svg xmlns=\"http://www.w3.org/2000/svg\" width=\"235.7532421875\" height=\"100.0\"><line x1=\"42.98236328125\" x2=\"205.7532421875\" y1=\"25.0\" y2=\"25.0\" stroke=\"#1967d2\" stroke-width=\"1\" /><line x1=\"42.98236328125\" x2=\"205.7532421875\" y1=\"75.0\" y2=\"75.0\" stroke=\"#1967d2\" stroke-width=\"1\" /><line x1=\"140.858984375\" x2=\"140.858984375\" y1=\"25.0\" y2=\"75.0\" stroke=\"black\" stroke-width=\"3\" /><rect x=\"10.0\" y=\"5.0\" width=\"65.9647265625\" height=\"40\" stroke=\"black\" fill=\"white\" stroke-width=\"0\" /><text x=\"42.98236328125\" y=\"25.0\" dominant-baseline=\"middle\" text-anchor=\"middle\" font-size=\"14px\" font-family=\"Arial\">0 (d=4): </text><rect x=\"10.0\" y=\"55.0\" width=\"65.9647265625\" height=\"40\" stroke=\"black\" fill=\"white\" stroke-width=\"0\" /><text x=\"42.98236328125\" y=\"75.0\" dominant-baseline=\"middle\" text-anchor=\"middle\" font-size=\"14px\" font-family=\"Arial\">1 (d=4): </text><rect x=\"95.9647265625\" y=\"5.0\" width=\"89.78851562500002\" height=\"40\" stroke=\"black\" fill=\"white\" stroke-width=\"1\" /><text x=\"140.858984375\" y=\"25.0\" dominant-baseline=\"middle\" text-anchor=\"middle\" font-size=\"14px\" font-family=\"Arial\">XX₀²(0.320)</text><rect x=\"95.9647265625\" y=\"55.0\" width=\"89.78851562500002\" height=\"40\" stroke=\"black\" fill=\"white\" stroke-width=\"1\" /><text x=\"140.858984375\" y=\"75.0\" dominant-baseline=\"middle\" text-anchor=\"middle\" font-size=\"14px\" font-family=\"Arial\">XX₀²(0.320)</text></svg>"
          },
          "metadata": {}
        },
        {
          "output_type": "execute_result",
          "data": {
            "text/plain": [
              "array([0.98722726+0.j        , 0.        +0.j        ,\n",
              "       0.        +0.j        , 0.        +0.j        ,\n",
              "       0.        +0.j        , 0.        +0.j        ,\n",
              "       0.        +0.j        , 0.        +0.j        ,\n",
              "       0.        +0.j        , 0.        +0.j        ,\n",
              "       0.        -0.15931821j, 0.        +0.j        ,\n",
              "       0.        +0.j        , 0.        +0.j        ,\n",
              "       0.        +0.j        , 0.        +0.j        ], dtype=complex64)"
            ]
          },
          "metadata": {},
          "execution_count": 23
        }
      ],
      "source": [
        "circuit = cirq.Circuit(\n",
        "   QuditXXGate(0, 2, 0.32).on(q0, q1)\n",
        ")\n",
        "display(SVGCircuit(circuit))\n",
        "\n",
        "result = simulator.simulate(circuit)\n",
        "result.final_state_vector"
      ]
    },
    {
      "cell_type": "code",
      "source": [
        "circuit = cirq.Circuit(\n",
        "   QuditZZGate(0, 2, 0.32).on(q0, q1)\n",
        ")\n",
        "\n",
        "display(SVGCircuit(circuit))\n",
        "\n",
        "result = simulator.simulate(circuit)\n",
        "result.final_state_vector"
      ],
      "metadata": {
        "id": "_xBG66AabENI",
        "colab": {
          "base_uri": "https://localhost:8080/",
          "height": 260
        },
        "outputId": "800b0333-7419-4f11-a75b-c46199910f6d"
      },
      "execution_count": 24,
      "outputs": [
        {
          "output_type": "display_data",
          "data": {
            "text/plain": [
              "<cirq.contrib.svg.svg.SVGCircuit at 0x7f105d21d0d0>"
            ],
            "image/svg+xml": "<svg xmlns=\"http://www.w3.org/2000/svg\" width=\"235.54105468750004\" height=\"100.0\"><line x1=\"42.98236328125\" x2=\"205.54105468750004\" y1=\"25.0\" y2=\"25.0\" stroke=\"#1967d2\" stroke-width=\"1\" /><line x1=\"42.98236328125\" x2=\"205.54105468750004\" y1=\"75.0\" y2=\"75.0\" stroke=\"#1967d2\" stroke-width=\"1\" /><line x1=\"140.75289062500002\" x2=\"140.75289062500002\" y1=\"25.0\" y2=\"75.0\" stroke=\"black\" stroke-width=\"3\" /><rect x=\"10.0\" y=\"5.0\" width=\"65.9647265625\" height=\"40\" stroke=\"black\" fill=\"white\" stroke-width=\"0\" /><text x=\"42.98236328125\" y=\"25.0\" dominant-baseline=\"middle\" text-anchor=\"middle\" font-size=\"14px\" font-family=\"Arial\">0 (d=4): </text><rect x=\"10.0\" y=\"55.0\" width=\"65.9647265625\" height=\"40\" stroke=\"black\" fill=\"white\" stroke-width=\"0\" /><text x=\"42.98236328125\" y=\"75.0\" dominant-baseline=\"middle\" text-anchor=\"middle\" font-size=\"14px\" font-family=\"Arial\">1 (d=4): </text><rect x=\"95.9647265625\" y=\"5.0\" width=\"89.57632812500002\" height=\"40\" stroke=\"black\" fill=\"white\" stroke-width=\"1\" /><text x=\"140.75289062500002\" y=\"25.0\" dominant-baseline=\"middle\" text-anchor=\"middle\" font-size=\"14px\" font-family=\"Arial\">ZZ₀²(0.320)</text><rect x=\"95.9647265625\" y=\"55.0\" width=\"89.57632812500002\" height=\"40\" stroke=\"black\" fill=\"white\" stroke-width=\"1\" /><text x=\"140.75289062500002\" y=\"75.0\" dominant-baseline=\"middle\" text-anchor=\"middle\" font-size=\"14px\" font-family=\"Arial\">ZZ₀²(0.320)</text></svg>"
          },
          "metadata": {}
        },
        {
          "output_type": "execute_result",
          "data": {
            "text/plain": [
              "array([0.98722726-0.15931821j, 0.        +0.j        ,\n",
              "       0.        +0.j        , 0.        +0.j        ,\n",
              "       0.        +0.j        , 0.        +0.j        ,\n",
              "       0.        +0.j        , 0.        +0.j        ,\n",
              "       0.        +0.j        , 0.        +0.j        ,\n",
              "       0.        +0.j        , 0.        +0.j        ,\n",
              "       0.        +0.j        , 0.        +0.j        ,\n",
              "       0.        +0.j        , 0.        +0.j        ], dtype=complex64)"
            ]
          },
          "metadata": {},
          "execution_count": 24
        }
      ]
    },
    {
      "cell_type": "code",
      "execution_count": 25,
      "metadata": {
        "id": "d1ryYmWVboSu",
        "colab": {
          "base_uri": "https://localhost:8080/",
          "height": 173
        },
        "outputId": "dda0182d-0e40-4ee2-a593-8781879c1a14"
      },
      "outputs": [
        {
          "output_type": "display_data",
          "data": {
            "text/plain": [
              "<cirq.contrib.svg.svg.SVGCircuit at 0x7f10734acee0>"
            ],
            "image/svg+xml": "<svg xmlns=\"http://www.w3.org/2000/svg\" width=\"185.9647265625\" height=\"100.0\"><line x1=\"42.98236328125\" x2=\"155.9647265625\" y1=\"25.0\" y2=\"25.0\" stroke=\"#1967d2\" stroke-width=\"1\" /><line x1=\"42.98236328125\" x2=\"155.9647265625\" y1=\"75.0\" y2=\"75.0\" stroke=\"#1967d2\" stroke-width=\"1\" /><line x1=\"115.9647265625\" x2=\"115.9647265625\" y1=\"25.0\" y2=\"75.0\" stroke=\"black\" stroke-width=\"3\" /><rect x=\"10.0\" y=\"5.0\" width=\"65.9647265625\" height=\"40\" stroke=\"black\" fill=\"white\" stroke-width=\"0\" /><text x=\"42.98236328125\" y=\"25.0\" dominant-baseline=\"middle\" text-anchor=\"middle\" font-size=\"14px\" font-family=\"Arial\">0 (d=4): </text><rect x=\"10.0\" y=\"55.0\" width=\"65.9647265625\" height=\"40\" stroke=\"black\" fill=\"white\" stroke-width=\"0\" /><text x=\"42.98236328125\" y=\"75.0\" dominant-baseline=\"middle\" text-anchor=\"middle\" font-size=\"14px\" font-family=\"Arial\">1 (d=4): </text><rect x=\"95.9647265625\" y=\"5.0\" width=\"40\" height=\"40\" stroke=\"black\" fill=\"white\" stroke-width=\"1\" /><text x=\"115.9647265625\" y=\"25.0\" dominant-baseline=\"middle\" text-anchor=\"middle\" font-size=\"18px\" font-family=\"Arial\">|</text><rect x=\"95.9647265625\" y=\"55.0\" width=\"40\" height=\"40\" stroke=\"black\" fill=\"white\" stroke-width=\"1\" /><text x=\"115.9647265625\" y=\"75.0\" dominant-baseline=\"middle\" text-anchor=\"middle\" font-size=\"18px\" font-family=\"Arial\">|</text></svg>"
          },
          "metadata": {}
        },
        {
          "output_type": "execute_result",
          "data": {
            "text/plain": [
              "array([1.+0.j, 0.+0.j, 0.+0.j, 0.+0.j, 0.+0.j, 0.+0.j, 0.+0.j, 0.+0.j,\n",
              "       0.+0.j, 0.+0.j, 0.+0.j, 0.+0.j, 0.+0.j, 0.+0.j, 0.+0.j, 0.+0.j],\n",
              "      dtype=complex64)"
            ]
          },
          "metadata": {},
          "execution_count": 25
        }
      ],
      "source": [
        "circuit = cirq.Circuit(\n",
        "    QuditBarrier().on(q0, q1)\n",
        ")\n",
        "\n",
        "display(SVGCircuit(circuit))\n",
        "\n",
        "result = simulator.simulate(circuit)\n",
        "result.final_state_vector"
      ]
    },
    {
      "cell_type": "code",
      "execution_count": 26,
      "metadata": {
        "id": "iSLe0PrOuWgZ",
        "colab": {
          "base_uri": "https://localhost:8080/",
          "height": 260
        },
        "outputId": "0d21b460-ba53-4cb9-b709-5c59a2ab97de"
      },
      "outputs": [
        {
          "output_type": "display_data",
          "data": {
            "text/plain": [
              "<cirq.contrib.svg.svg.SVGCircuit at 0x7f105d2210a0>"
            ],
            "image/svg+xml": "<svg xmlns=\"http://www.w3.org/2000/svg\" width=\"185.9647265625\" height=\"100.0\"><line x1=\"42.98236328125\" x2=\"155.9647265625\" y1=\"25.0\" y2=\"25.0\" stroke=\"#1967d2\" stroke-width=\"1\" /><line x1=\"42.98236328125\" x2=\"155.9647265625\" y1=\"75.0\" y2=\"75.0\" stroke=\"#1967d2\" stroke-width=\"1\" /><line x1=\"115.9647265625\" x2=\"115.9647265625\" y1=\"25.0\" y2=\"75.0\" stroke=\"black\" stroke-width=\"3\" /><rect x=\"10.0\" y=\"5.0\" width=\"65.9647265625\" height=\"40\" stroke=\"black\" fill=\"white\" stroke-width=\"0\" /><text x=\"42.98236328125\" y=\"25.0\" dominant-baseline=\"middle\" text-anchor=\"middle\" font-size=\"14px\" font-family=\"Arial\">0 (d=4): </text><rect x=\"10.0\" y=\"55.0\" width=\"65.9647265625\" height=\"40\" stroke=\"black\" fill=\"white\" stroke-width=\"0\" /><text x=\"42.98236328125\" y=\"75.0\" dominant-baseline=\"middle\" text-anchor=\"middle\" font-size=\"14px\" font-family=\"Arial\">1 (d=4): </text><rect x=\"95.9647265625\" y=\"5.0\" width=\"40\" height=\"40\" stroke=\"black\" fill=\"white\" stroke-width=\"1\" /><text x=\"115.9647265625\" y=\"25.0\" dominant-baseline=\"middle\" text-anchor=\"middle\" font-size=\"18px\" font-family=\"Arial\">U</text><rect x=\"95.9647265625\" y=\"55.0\" width=\"40\" height=\"40\" stroke=\"black\" fill=\"white\" stroke-width=\"1\" /><text x=\"115.9647265625\" y=\"75.0\" dominant-baseline=\"middle\" text-anchor=\"middle\" font-size=\"18px\" font-family=\"Arial\">U</text></svg>"
          },
          "metadata": {}
        },
        {
          "output_type": "execute_result",
          "data": {
            "text/plain": [
              "array([-0.00146792-0.05306542j,  0.25781298+0.21431023j,\n",
              "        0.43515143+0.17179798j,  0.14822367+0.02491733j,\n",
              "        0.22410254+0.01520582j,  0.00904502+0.02087253j,\n",
              "        0.06385303-0.15151137j,  0.04530214+0.061984j  ,\n",
              "        0.00763789+0.21629384j,  0.16536076-0.06338447j,\n",
              "       -0.25882375-0.13416378j, -0.1925833 -0.31515113j,\n",
              "       -0.137698  +0.2175723j ,  0.13675192+0.06816558j,\n",
              "        0.02121171+0.00114959j, -0.36803666+0.18513663j], dtype=complex64)"
            ]
          },
          "metadata": {},
          "execution_count": 26
        }
      ],
      "source": [
        "circuit = cirq.Circuit(\n",
        "    QuditArbitraryUnitary().on(q0, q1)\n",
        ")\n",
        "\n",
        "display(SVGCircuit(circuit))\n",
        "\n",
        "result = simulator.simulate(circuit)\n",
        "result.final_state_vector"
      ]
    },
    {
      "cell_type": "markdown",
      "metadata": {
        "id": "8LP-x_b3Q65P"
      },
      "source": [
        "##Depolarizing channels\n"
      ]
    },
    {
      "cell_type": "markdown",
      "metadata": {
        "id": "fn99QK2LPvrH"
      },
      "source": [
        "Parameter p of the depolarizing channel can be restored from experimentally mesured fidelities of single-qudit and two-qudit operations. From\n",
        "\\begin{equation}\n",
        "    f = 1 - p +  \\frac{p}{d^2}\n",
        "\\end{equation}\n",
        "we obtain:\n",
        "\\begin{equation}\n",
        "    p = \\left(1 -  \\frac{1}{d^2}\\right)^{-1} \\cdot \\left(1 - f \\right)\n",
        "\\end{equation}\n",
        "\n",
        "For single-qudit operations"
      ]
    },
    {
      "cell_type": "code",
      "execution_count": 27,
      "metadata": {
        "id": "lQYbZyTnPVFI",
        "colab": {
          "base_uri": "https://localhost:8080/"
        },
        "outputId": "36af9f16-4e68-4501-f511-66730be95fba"
      },
      "outputs": [
        {
          "output_type": "execute_result",
          "data": {
            "text/plain": [
              "0.010666666666666677"
            ]
          },
          "metadata": {},
          "execution_count": 27
        }
      ],
      "source": [
        "f1 = 0.99\n",
        "p1 = (1 - f1) / (1 - 1 / d ** 2)\n",
        "p1"
      ]
    },
    {
      "cell_type": "markdown",
      "metadata": {
        "id": "67B7y30Ym9hE"
      },
      "source": [
        "For two-qudit operations"
      ]
    },
    {
      "cell_type": "code",
      "execution_count": 28,
      "metadata": {
        "id": "fzd86yx-mtCD",
        "colab": {
          "base_uri": "https://localhost:8080/"
        },
        "outputId": "bddfb18a-7473-498b-9df9-0f9a679b33cb"
      },
      "outputs": [
        {
          "output_type": "execute_result",
          "data": {
            "text/plain": [
              "0.040156862745098075"
            ]
          },
          "metadata": {},
          "execution_count": 28
        }
      ],
      "source": [
        "f2 = 0.96\n",
        "p2 = (1 - f2) / (1 - 1 / (d ** 2) ** 2)\n",
        "p2"
      ]
    },
    {
      "cell_type": "code",
      "source": [
        "dmsimulator = cirq.DensityMatrixSimulator()"
      ],
      "metadata": {
        "id": "yjfdHlaEoXUE"
      },
      "execution_count": 29,
      "outputs": []
    },
    {
      "cell_type": "markdown",
      "metadata": {
        "id": "A1KlSVvonMST"
      },
      "source": [
        "Single-qudit channel"
      ]
    },
    {
      "cell_type": "code",
      "execution_count": 30,
      "metadata": {
        "id": "DAvQA2JUIKZR",
        "colab": {
          "base_uri": "https://localhost:8080/",
          "height": 158
        },
        "outputId": "500947a4-d202-4cca-c15c-121f3aa9e1fa"
      },
      "outputs": [
        {
          "output_type": "display_data",
          "data": {
            "text/plain": [
              "<cirq.contrib.svg.svg.SVGCircuit at 0x7f105d21d520>"
            ],
            "image/svg+xml": "<svg xmlns=\"http://www.w3.org/2000/svg\" width=\"245.5234375\" height=\"50.0\"><line x1=\"42.98236328125\" x2=\"215.5234375\" y1=\"25.0\" y2=\"25.0\" stroke=\"#1967d2\" stroke-width=\"1\" /><rect x=\"10.0\" y=\"5.0\" width=\"65.9647265625\" height=\"40\" stroke=\"black\" fill=\"white\" stroke-width=\"0\" /><text x=\"42.98236328125\" y=\"25.0\" dominant-baseline=\"middle\" text-anchor=\"middle\" font-size=\"14px\" font-family=\"Arial\">0 (d=4): </text><rect x=\"95.9647265625\" y=\"5.0\" width=\"99.55871093750001\" height=\"40\" stroke=\"black\" fill=\"white\" stroke-width=\"1\" /><text x=\"145.74408203125\" y=\"25.0\" dominant-baseline=\"middle\" text-anchor=\"middle\" font-size=\"14px\" font-family=\"Arial\">Φ(p1=0.011)</text></svg>"
          },
          "metadata": {}
        },
        {
          "output_type": "execute_result",
          "data": {
            "text/plain": [
              "array([[0.99200004+0.j, 0.        +0.j, 0.        +0.j, 0.        +0.j],\n",
              "       [0.        +0.j, 0.00266667+0.j, 0.        +0.j, 0.        +0.j],\n",
              "       [0.        +0.j, 0.        +0.j, 0.00266667+0.j, 0.        +0.j],\n",
              "       [0.        +0.j, 0.        +0.j, 0.        +0.j, 0.00266667+0.j]],\n",
              "      dtype=complex64)"
            ]
          },
          "metadata": {},
          "execution_count": 30
        }
      ],
      "source": [
        "circuit = cirq.Circuit(\n",
        "    QuquartDepolarizingChannel().on(q0)\n",
        ")\n",
        "\n",
        "display(SVGCircuit(circuit))\n",
        "\n",
        "result = dmsimulator.simulate(circuit)\n",
        "result.final_density_matrix"
      ]
    },
    {
      "cell_type": "markdown",
      "metadata": {
        "id": "kuB4pcHCnOz2"
      },
      "source": [
        "Two-qudit channel"
      ]
    },
    {
      "cell_type": "code",
      "execution_count": 31,
      "metadata": {
        "id": "_JrKM8bBnRHy",
        "colab": {
          "base_uri": "https://localhost:8080/",
          "height": 1000
        },
        "outputId": "6ab5e2bf-d0f0-46ca-ca8c-83c4a31dfbdc"
      },
      "outputs": [
        {
          "output_type": "display_data",
          "data": {
            "text/plain": [
              "<cirq.contrib.svg.svg.SVGCircuit at 0x7f105d24b970>"
            ],
            "image/svg+xml": "<svg xmlns=\"http://www.w3.org/2000/svg\" width=\"256.54296875\" height=\"100.0\"><line x1=\"42.98236328125\" x2=\"226.54296875\" y1=\"25.0\" y2=\"25.0\" stroke=\"#1967d2\" stroke-width=\"1\" /><line x1=\"42.98236328125\" x2=\"226.54296875\" y1=\"75.0\" y2=\"75.0\" stroke=\"#1967d2\" stroke-width=\"1\" /><line x1=\"151.25384765625\" x2=\"151.25384765625\" y1=\"25.0\" y2=\"75.0\" stroke=\"black\" stroke-width=\"3\" /><rect x=\"10.0\" y=\"5.0\" width=\"65.9647265625\" height=\"40\" stroke=\"black\" fill=\"white\" stroke-width=\"0\" /><text x=\"42.98236328125\" y=\"25.0\" dominant-baseline=\"middle\" text-anchor=\"middle\" font-size=\"14px\" font-family=\"Arial\">0 (d=4): </text><rect x=\"10.0\" y=\"55.0\" width=\"65.9647265625\" height=\"40\" stroke=\"black\" fill=\"white\" stroke-width=\"0\" /><text x=\"42.98236328125\" y=\"75.0\" dominant-baseline=\"middle\" text-anchor=\"middle\" font-size=\"14px\" font-family=\"Arial\">1 (d=4): </text><rect x=\"95.9647265625\" y=\"5.0\" width=\"110.5782421875\" height=\"40\" stroke=\"black\" fill=\"white\" stroke-width=\"1\" /><text x=\"151.25384765625\" y=\"25.0\" dominant-baseline=\"middle\" text-anchor=\"middle\" font-size=\"14px\" font-family=\"Arial\">ΦΦ(p2=0.040)</text><rect x=\"95.9647265625\" y=\"55.0\" width=\"110.5782421875\" height=\"40\" stroke=\"black\" fill=\"white\" stroke-width=\"1\" /><text x=\"151.25384765625\" y=\"75.0\" dominant-baseline=\"middle\" text-anchor=\"middle\" font-size=\"14px\" font-family=\"Arial\">ΦΦ(p2=0.040)</text></svg>"
          },
          "metadata": {}
        },
        {
          "output_type": "execute_result",
          "data": {
            "text/plain": [
              "array([[0.96235317+0.j, 0.        +0.j, 0.        +0.j, 0.        +0.j,\n",
              "        0.        +0.j, 0.        +0.j, 0.        +0.j, 0.        +0.j,\n",
              "        0.        +0.j, 0.        +0.j, 0.        +0.j, 0.        +0.j,\n",
              "        0.        +0.j, 0.        +0.j, 0.        +0.j, 0.        +0.j],\n",
              "       [0.        +0.j, 0.0025098 +0.j, 0.        +0.j, 0.        +0.j,\n",
              "        0.        +0.j, 0.        +0.j, 0.        +0.j, 0.        +0.j,\n",
              "        0.        +0.j, 0.        +0.j, 0.        +0.j, 0.        +0.j,\n",
              "        0.        +0.j, 0.        +0.j, 0.        +0.j, 0.        +0.j],\n",
              "       [0.        +0.j, 0.        +0.j, 0.0025098 +0.j, 0.        +0.j,\n",
              "        0.        +0.j, 0.        +0.j, 0.        +0.j, 0.        +0.j,\n",
              "        0.        +0.j, 0.        +0.j, 0.        +0.j, 0.        +0.j,\n",
              "        0.        +0.j, 0.        +0.j, 0.        +0.j, 0.        +0.j],\n",
              "       [0.        +0.j, 0.        +0.j, 0.        +0.j, 0.0025098 +0.j,\n",
              "        0.        +0.j, 0.        +0.j, 0.        +0.j, 0.        +0.j,\n",
              "        0.        +0.j, 0.        +0.j, 0.        +0.j, 0.        +0.j,\n",
              "        0.        +0.j, 0.        +0.j, 0.        +0.j, 0.        +0.j],\n",
              "       [0.        +0.j, 0.        +0.j, 0.        +0.j, 0.        +0.j,\n",
              "        0.0025098 +0.j, 0.        +0.j, 0.        +0.j, 0.        +0.j,\n",
              "        0.        +0.j, 0.        +0.j, 0.        +0.j, 0.        +0.j,\n",
              "        0.        +0.j, 0.        +0.j, 0.        +0.j, 0.        +0.j],\n",
              "       [0.        +0.j, 0.        +0.j, 0.        +0.j, 0.        +0.j,\n",
              "        0.        +0.j, 0.0025098 +0.j, 0.        +0.j, 0.        +0.j,\n",
              "        0.        +0.j, 0.        +0.j, 0.        +0.j, 0.        +0.j,\n",
              "        0.        +0.j, 0.        +0.j, 0.        +0.j, 0.        +0.j],\n",
              "       [0.        +0.j, 0.        +0.j, 0.        +0.j, 0.        +0.j,\n",
              "        0.        +0.j, 0.        +0.j, 0.0025098 +0.j, 0.        +0.j,\n",
              "        0.        +0.j, 0.        +0.j, 0.        +0.j, 0.        +0.j,\n",
              "        0.        +0.j, 0.        +0.j, 0.        +0.j, 0.        +0.j],\n",
              "       [0.        +0.j, 0.        +0.j, 0.        +0.j, 0.        +0.j,\n",
              "        0.        +0.j, 0.        +0.j, 0.        +0.j, 0.0025098 +0.j,\n",
              "        0.        +0.j, 0.        +0.j, 0.        +0.j, 0.        +0.j,\n",
              "        0.        +0.j, 0.        +0.j, 0.        +0.j, 0.        +0.j],\n",
              "       [0.        +0.j, 0.        +0.j, 0.        +0.j, 0.        +0.j,\n",
              "        0.        +0.j, 0.        +0.j, 0.        +0.j, 0.        +0.j,\n",
              "        0.0025098 +0.j, 0.        +0.j, 0.        +0.j, 0.        +0.j,\n",
              "        0.        +0.j, 0.        +0.j, 0.        +0.j, 0.        +0.j],\n",
              "       [0.        +0.j, 0.        +0.j, 0.        +0.j, 0.        +0.j,\n",
              "        0.        +0.j, 0.        +0.j, 0.        +0.j, 0.        +0.j,\n",
              "        0.        +0.j, 0.0025098 +0.j, 0.        +0.j, 0.        +0.j,\n",
              "        0.        +0.j, 0.        +0.j, 0.        +0.j, 0.        +0.j],\n",
              "       [0.        +0.j, 0.        +0.j, 0.        +0.j, 0.        +0.j,\n",
              "        0.        +0.j, 0.        +0.j, 0.        +0.j, 0.        +0.j,\n",
              "        0.        +0.j, 0.        +0.j, 0.0025098 +0.j, 0.        +0.j,\n",
              "        0.        +0.j, 0.        +0.j, 0.        +0.j, 0.        +0.j],\n",
              "       [0.        +0.j, 0.        +0.j, 0.        +0.j, 0.        +0.j,\n",
              "        0.        +0.j, 0.        +0.j, 0.        +0.j, 0.        +0.j,\n",
              "        0.        +0.j, 0.        +0.j, 0.        +0.j, 0.0025098 +0.j,\n",
              "        0.        +0.j, 0.        +0.j, 0.        +0.j, 0.        +0.j],\n",
              "       [0.        +0.j, 0.        +0.j, 0.        +0.j, 0.        +0.j,\n",
              "        0.        +0.j, 0.        +0.j, 0.        +0.j, 0.        +0.j,\n",
              "        0.        +0.j, 0.        +0.j, 0.        +0.j, 0.        +0.j,\n",
              "        0.0025098 +0.j, 0.        +0.j, 0.        +0.j, 0.        +0.j],\n",
              "       [0.        +0.j, 0.        +0.j, 0.        +0.j, 0.        +0.j,\n",
              "        0.        +0.j, 0.        +0.j, 0.        +0.j, 0.        +0.j,\n",
              "        0.        +0.j, 0.        +0.j, 0.        +0.j, 0.        +0.j,\n",
              "        0.        +0.j, 0.0025098 +0.j, 0.        +0.j, 0.        +0.j],\n",
              "       [0.        +0.j, 0.        +0.j, 0.        +0.j, 0.        +0.j,\n",
              "        0.        +0.j, 0.        +0.j, 0.        +0.j, 0.        +0.j,\n",
              "        0.        +0.j, 0.        +0.j, 0.        +0.j, 0.        +0.j,\n",
              "        0.        +0.j, 0.        +0.j, 0.0025098 +0.j, 0.        +0.j],\n",
              "       [0.        +0.j, 0.        +0.j, 0.        +0.j, 0.        +0.j,\n",
              "        0.        +0.j, 0.        +0.j, 0.        +0.j, 0.        +0.j,\n",
              "        0.        +0.j, 0.        +0.j, 0.        +0.j, 0.        +0.j,\n",
              "        0.        +0.j, 0.        +0.j, 0.        +0.j, 0.0025098 +0.j]],\n",
              "      dtype=complex64)"
            ]
          },
          "metadata": {},
          "execution_count": 31
        }
      ],
      "source": [
        "circuit = cirq.Circuit(\n",
        "    DoubleQuquartDepolarizingChannel().on(q0, q1)\n",
        ")\n",
        "\n",
        "display(SVGCircuit(circuit))\n",
        "\n",
        "result = dmsimulator.simulate(circuit)\n",
        "result.final_density_matrix"
      ]
    }
  ],
  "metadata": {
    "colab": {
      "collapsed_sections": [
        "4e61LzJNAHCj",
        "Oy3n80_UadHN",
        "prJuHldbp9gK",
        "zsLV6Uiw70K1"
      ],
      "provenance": []
    },
    "kernelspec": {
      "display_name": "Python 3",
      "language": "python",
      "name": "python3"
    },
    "language_info": {
      "codemirror_mode": {
        "name": "ipython",
        "version": 3
      },
      "file_extension": ".py",
      "mimetype": "text/x-python",
      "name": "python",
      "nbconvert_exporter": "python",
      "pygments_lexer": "ipython3",
      "version": "3.7.7"
    }
  },
  "nbformat": 4,
  "nbformat_minor": 0
}